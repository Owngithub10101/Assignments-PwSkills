{
 "cells": [
  {
   "attachments": {},
   "cell_type": "markdown",
   "metadata": {},
   "source": [
    "# Assignment : 34(10th Mar'2023)"
   ]
  },
  {
   "attachments": {},
   "cell_type": "markdown",
   "metadata": {},
   "source": [
    "1. **What is Estimation Statistics? Explain point estimate and interval estimate**"
   ]
  },
  {
   "attachments": {},
   "cell_type": "markdown",
   "metadata": {},
   "source": [
    "**Estimation Statistics:** Estimation is a branch of statistics that deals with the estimation of population parameters from sample statistics. There are two types of estimation, namely point estimate and interval estimate.\n",
    "\n",
    "**Point estimate** is a single value estimate of a population parameter based on sample data. For example, the sample mean is a point estimate of the population mean.\n",
    "\n",
    "**Interval estimate** is a range of values that is likely to contain the true population parameter with a certain degree of confidence. For example, a 95% confidence interval for the population mean provides a range of values that is likely to contain the true population mean with 95% confidence."
   ]
  },
  {
   "attachments": {},
   "cell_type": "markdown",
   "metadata": {},
   "source": [
    "2. **Write a Python function to estimate the population mean using a sample mean and standard deviation.**\n",
    "\n",
    "Python function to estimate the population mean using a sample mean and standard deviation:"
   ]
  },
  {
   "cell_type": "code",
   "execution_count": 26,
   "metadata": {},
   "outputs": [
    {
     "data": {
      "text/plain": [
       "(3.561730676410041, 4.438269323589958)"
      ]
     },
     "execution_count": 26,
     "metadata": {},
     "output_type": "execute_result"
    }
   ],
   "source": [
    "import math\n",
    "\n",
    "def estimate_pop_mean(sample_mean, sample_std, sample_size):\n",
    "    # Calculate the standard error of the mean\n",
    "    std_err_mean = sample_std / math.sqrt(sample_size)\n",
    "\n",
    "    # Calculate the margin of error\n",
    "    margin_error = 1.96 * std_err_mean  # 1.96 is the z-value for a 95% confidence interval\n",
    "\n",
    "    # Calculate the lower and upper bounds of the confidence interval\n",
    "    lower_bound = sample_mean - margin_error\n",
    "    upper_bound = sample_mean + margin_error\n",
    "\n",
    "    # Return the confidence interval\n",
    "    return (lower_bound, upper_bound)\n",
    "\n",
    "estimate_pop_mean(4,1,20)"
   ]
  },
  {
   "attachments": {},
   "cell_type": "markdown",
   "metadata": {},
   "source": [
    "3. **What is Hypothesis testing? Why is it used? State the importance of Hypothesis testing**"
   ]
  },
  {
   "attachments": {},
   "cell_type": "markdown",
   "metadata": {},
   "source": [
    "**Hypothesis** testing is a statistical method used to make decisions based on data. It involves testing a hypothesis about a population parameter (such as a mean or proportion) using a sample from that population. The goal is to determine whether the observed data is consistent with the hypothesis, or whether it suggests that the hypothesis is unlikely to be true.\n",
    "\n",
    "Hypothesis testing is used in a wide range of fields, including science, engineering, business, and social sciences. It is important because it allows researchers to draw conclusions about a population based on a sample, while accounting for random variation in the data. This helps to reduce the risk of making incorrect conclusions or generalizations based on limited information"
   ]
  },
  {
   "attachments": {},
   "cell_type": "markdown",
   "metadata": {},
   "source": [
    "4. **Create a hypothesis that states whether the average weight of male college students is greater than the average weight of female college students.**"
   ]
  },
  {
   "attachments": {},
   "cell_type": "markdown",
   "metadata": {},
   "source": [
    "**Hypothesis :** The average weight of male college students is greater than the average weight of female college students."
   ]
  },
  {
   "attachments": {},
   "cell_type": "markdown",
   "metadata": {},
   "source": [
    "5. **Write a Python script to conduct a hypothesis test on the difference between two population means, given a sample from each population.**\n",
    "\n",
    "Python script that conducts a hypothesis test on the difference between two population means:"
   ]
  },
  {
   "cell_type": "code",
   "execution_count": 27,
   "metadata": {},
   "outputs": [
    {
     "name": "stdout",
     "output_type": "stream",
     "text": [
      "Male mean weight: 80.00\n",
      "Female mean weight: 65.00\n",
      "Male standard deviation: 7.91\n",
      "Female standard deviation: 7.91\n",
      "t-statistic: 3.00\n",
      "p-value: 0.02\n"
     ]
    }
   ],
   "source": [
    "import numpy as np\n",
    "from scipy.stats import ttest_ind\n",
    "\n",
    "# Sample data for two populations\n",
    "male_weights = [70, 75, 80, 85, 90]\n",
    "female_weights = [55, 60, 65, 70, 75]\n",
    "\n",
    "# Calculate the means and standard deviations of the two populations\n",
    "male_mean = np.mean(male_weights)\n",
    "female_mean = np.mean(female_weights)\n",
    "male_std = np.std(male_weights, ddof=1)\n",
    "female_std = np.std(female_weights, ddof=1)\n",
    "\n",
    "# Calculate the t-statistic and p-value using a two-sample t-test\n",
    "t_stat, p_val = ttest_ind(male_weights, female_weights)\n",
    "\n",
    "# Print the results\n",
    "print(\"Male mean weight: {:.2f}\".format(male_mean))\n",
    "print(\"Female mean weight: {:.2f}\".format(female_mean))\n",
    "print(\"Male standard deviation: {:.2f}\".format(male_std))\n",
    "print(\"Female standard deviation: {:.2f}\".format(female_std))\n",
    "print(\"t-statistic: {:.2f}\".format(t_stat))\n",
    "print(\"p-value: {:.2f}\".format(p_val))"
   ]
  },
  {
   "attachments": {},
   "cell_type": "markdown",
   "metadata": {},
   "source": [
    "6. **What is a null and alternative hypothesis? Give some examples.**"
   ]
  },
  {
   "attachments": {},
   "cell_type": "markdown",
   "metadata": {},
   "source": [
    "**The Null hypothesis** is a statement that there is no significant difference between a sample statistic and a population parameter. \n",
    "\n",
    "**The Alternative hypothesis** is a statement that there is a significant difference between the sample statistic and the population parameter. \n",
    "\n",
    "The null hypothesis is typically denoted as $H_0$, while the alternative hypothesis is denoted as $H_a$.\n",
    "\n",
    "Here are some examples of null and alternative hypotheses:\n",
    "\n",
    "|Null hypothesis $(H_0)$|Alternative hypothesis $(H_a)$|\n",
    "|---|---|\n",
    "|The average lifespan of a battery is 100 hours.|The average lifespan of a battery is not 100 hours.|\n",
    "|The proportion of men who prefer red cars is 0.5.|The proportion of men who prefer red cars is greater than 0.5.|\n",
    "|The mean weight loss from a particular diet is less than or equal to 2 pounds.|The mean weight loss from the diet is greater than 2 pounds.|\n"
   ]
  },
  {
   "attachments": {},
   "cell_type": "markdown",
   "metadata": {},
   "source": [
    "7. **Write down the steps involved in hypothesis testing.**"
   ]
  },
  {
   "attachments": {},
   "cell_type": "markdown",
   "metadata": {},
   "source": [
    "The steps involved in hypothesis testing are as follows:\n",
    "\n",
    "- State the null and alternative hypotheses.\n",
    "- Determine the level of significance (alpha) and the test statistic to be used.\n",
    "- Collect and analyze the data.\n",
    "- Calculate the test statistic and p-value.\n",
    "- Determine the critical value and compare it with the test statistic.\n",
    "- Make a decision to reject or fail to reject the null hypothesis based on the p-value and the critical value.\n",
    "- Interpret the results and draw conclusions."
   ]
  },
  {
   "attachments": {},
   "cell_type": "markdown",
   "metadata": {},
   "source": [
    "8. **Define p-value and explain its significance in hypothesis testing.**"
   ]
  },
  {
   "attachments": {},
   "cell_type": "markdown",
   "metadata": {},
   "source": [
    "The **p-value** is the probability of observing a test statistic as extreme as or more extreme than the one calculated from the sample data, assuming the null hypothesis is true. In other words, it is the probability of obtaining a result as or more extreme than the one observed, given that the null hypothesis is true.\n",
    "\n",
    "The p-value is significant in hypothesis testing because it helps to determine the level of evidence against the null hypothesis. If the p-value is less than or equal to the level of significance (alpha), then the null hypothesis is rejected, suggesting that the alternative hypothesis is true. Conversely, if the p-value is greater than alpha, then the null hypothesis is not rejected, suggesting that there is insufficient evidence to support the alternative hypothesis."
   ]
  },
  {
   "attachments": {},
   "cell_type": "markdown",
   "metadata": {},
   "source": [
    "9. **Generate a Student's t-distribution plot using Python's matplotlib library, with the degrees of freedom parameter set to 10.**\n",
    "\n",
    "Python code to generate a Student's t-distribution plot with 10 degrees of freedom using the matplotlib library:"
   ]
  },
  {
   "cell_type": "code",
   "execution_count": 28,
   "metadata": {},
   "outputs": [
    {
     "data": {
      "image/png": "iVBORw0KGgoAAAANSUhEUgAAAkAAAAHHCAYAAABXx+fLAAAAOXRFWHRTb2Z0d2FyZQBNYXRwbG90bGliIHZlcnNpb24zLjcuMSwgaHR0cHM6Ly9tYXRwbG90bGliLm9yZy/bCgiHAAAACXBIWXMAAA9hAAAPYQGoP6dpAAB0IklEQVR4nO3deVhU9f4H8PfMwMywDiA7oiwqiKgoKqKWmiSapba5tGhU9stc8mKb3dJ2zNtimunNm2ZmN0tTb1a4oGglLom4i6AgILIqO8zAzPn9gUwRoAwMnIF5v55nHuXMmTPvIwgfvqtEEAQBRERERGZEKnYAIiIiovbGAoiIiIjMDgsgIiIiMjssgIiIiMjssAAiIiIis8MCiIiIiMwOCyAiIiIyOyyAiIiIyOywACIiIiKzwwKISAQSiQRvvPGG2DE6hPj4eEgkEsTHx7f5e73xxhuQSCT1jkkkEsydO7fN3xsAvvzyS0gkEqSnp7fL+/1dWVkZXF1dsWnTptue+8QTT8DHx6fB659++mm4u7tDIpFgwYIFbRO0hc6dOwcLCwucOXNG7ChkAlgAkdk5ffo0HnroIXTv3h1KpRJeXl64++67sXLlynrnvffee9i+fbs4IY3gm2++wfLlyxscT09PN1pB8fPPPxtUyNW9d93D0tISzs7OGDZsGF599VVkZGS0OlMdU/78mWq2Tz75BHZ2dpg2bVqLXv/ee+/hyy+/xOzZs7Fx40Y8/vjjrcrz7rvvYuLEiXBzc7vtLw1Xr17FlClT4ODgAHt7e0yaNAmXL1+ud05QUBAmTJiAxYsXtyoXdRICkRn5/fffBblcLvTo0UN4++23hbVr1wqLFy8Wxo4dK/j7+9c718bGRpg5c2ab5AAgLFmypE2uXWfChAlC9+7dGxxPS0sTAAj79+9v9XvMmTNHMOTbSN17T58+Xdi4caOwYcMGYfny5cKjjz4qWFlZCdbW1sJ///vfeq/RarVCZWWloNVqDcrWks9fdXW1UFlZWe8YAGHOnDkGXed2mspWU1MjVFZWCjqdzqjv1xwajUZwcXER3nvvvWadP3PmzAZfX2FhYcLw4cONlgmA4O7uLkRGRt7y/0xpaanQs2dPwdXVVXj//feFjz76SPD29ha6du0qFBQU1Dv3559/FgAIqampRstJHZOFeKUXUft79913oVKpcOzYMTg4ONR7Li8vT5xQZmjgwIF47LHH6h27cuUKxo4di5kzZ6J3797o378/AEAqlUKpVLZpnvLyctjY2MDCwgIWFuJ9W5TJZJDJZKK8986dO5Gfn48pU6a0+Bp5eXkICgoyWqa0tDT4+PigoKAALi4uTZ732WefISUlBUePHsXgwYMBAOPHj0dwcDA+/PBDvPfee/pzIyIi4OjoiA0bNuCtt94yWlbqeNgFRmbl0qVL6NOnT4PiBwBcXV31f5dIJCgvL8eGDRv03TVPPPEEgMbHPgCNjx9Rq9X4xz/+ARcXF9jZ2WHixInIyspqNNvVq1fx5JNPws3NDQqFAn369MG6devqnVM3Hua7777Du+++i65du0KpVGLMmDFITU3Vnzdq1Cj89NNPuHLlij5/Y5nr5OTkICoqCl27doVCoYCHhwcmTZp0y7EoTzzxBFatWqX/96p7tFT37t3x5ZdfQqPRYNmyZQ3u+a9ddikpKXjwwQfh7u4OpVKJrl27Ytq0aSguLtbnaerzV/d5OnfuHB555BE4OjpixIgR9Z5rzKZNmxAQEAClUonQ0FAcPHiwwb9Hc74ubpWtqTFAn332Gfr06QOFQgFPT0/MmTMHRUVF9c4ZNWoUgoODce7cOYwePRrW1tbw8vKq9295K9u3b4ePjw/8/f0bfS44OBhKpRLBwcHYtm1bvefrPkdpaWn46aef9PfV2rFMt/qa/astW7Zg8ODB+uIHAAIDAzFmzBh899139c61tLTEqFGjsGPHjlZlo46PLUBkVrp3746EhAScOXMGwcHBTZ63ceNGPP300xgyZAieeeYZAGj0B8PtPP300/j666/xyCOPYNiwYdi3bx8mTJjQ4Lzc3FwMHTpUP+DWxcUFv/zyC5566imUlJQ0GEy6dOlSSKVSvPDCCyguLsayZcvw6KOP4siRIwCAf/7znyguLkZWVhY+/vhjAICtrW2TOR988EGcPXsW8+bNg4+PD/Ly8rBnzx5kZGQ0+UPo//7v/5CdnY09e/Zg48aNBv/bNCY8PBz+/v7Ys2dPk+doNBpERkZCrVZj3rx5cHd3x9WrV7Fz504UFRVBpVI16/P38MMPo2fPnnjvvfcgCMItcx04cACbN2/G/PnzoVAo8Nlnn2HcuHE4evToLb+OGmPo19Ybb7yBN998ExEREZg9ezaSk5OxevVqHDt2DL///jssLS315964cQPjxo3DAw88gClTpmDLli14+eWX0bdvX4wfP/6WuQ4dOoSBAwc2OL579248+OCDCAoKQkxMDAoLC/XFcp3evXtj48aN+Mc//oGuXbti4cKFAKBvtSkoKGjWv42dnR0UCkWzzq2j0+lw6tQpPPnkkw2eGzJkCHbv3o3S0lLY2dnpj4eGhmLHjh0oKSmBvb29Qe9HnYjYfXBE7Wn37t2CTCYTZDKZEB4eLrz00kvCrl27BI1G0+DcpsZpNDb2QRAEYcmSJfXGwyQlJQkAhOeee67eeY888kiD8QxPPfWU4OHh0WC8wrRp0wSVSiVUVFQIgiAI+/fvFwAIvXv3FtRqtf68Tz75RAAgnD59Wn+sqTFAf3fjxg0BgPCvf/3rtuf+XUvHAN3qvSZNmiQAEIqLiwVB+POe68YsnThxQgAgfP/997d8r6Y+f3Wfp+nTpzf53F8BEAAIf/zxh/7YlStXBKVSKdx///36Y839urhVtvXr1wsAhLS0NEEQBCEvL0+Qy+XC2LFj642B+vTTTwUAwrp16/THRo4cKQAQvvrqK/0xtVotuLu7Cw8++GCD9/qr6upqQSKRCAsXLmzwXEhIiODh4SEUFRXpj+3evVsA0OB+u3fvLkyYMKHBNer+DW/3WL9+faP58vPzmxwDVPfcW2+91eC5VatWCQCECxcu1Dv+zTffCACEI0eONPp+ZB7YBUZm5e6770ZCQgImTpyIkydPYtmyZYiMjISXlxf+97//GfW9fv75ZwDA/Pnz6x3/e2uOIAjYunUr7rvvPgiCgIKCAv0jMjISxcXFSExMrPeaqKgoyOVy/cd33HEHADSY9dIcVlZWkMvliI+Px40bNwx+vbHVtVSVlpY2+rxKpQIA7Nq1CxUVFS1+n2effbbZ54aHhyM0NFT/cbdu3TBp0iTs2rULWq22xRluZ+/evdBoNFiwYAGk0j+/Xc+aNQv29vb46aef6p1va2tbb2yVXC7HkCFDbvt1cf36dQiCAEdHx3rHr127hqSkJMycOVP/7w7U/j8yZKzPnj17mvWIjIxs9jXrVFZWAkCjLUd1Y8fqzqlTd5/NbZmizoldYGR2Bg8ejB9++AEajQYnT57Etm3b8PHHH+Ohhx5CUlKS0QZxXrlyBVKptEH3RkBAQL2P8/PzUVRUhM8//xyff/55o9f6+wDtbt261fu47ht6SwoYhUKB999/HwsXLoSbmxuGDh2Ke++9FzNmzIC7u7vB1wNq7+mvhYGtre0tu+D+qqysDADqdVn8la+vL6Kjo/HRRx9h06ZNuOOOOzBx4kQ89thj9X5I346vr2+zz+3Zs2eDY7169UJFRQXy8/Nb/O90O1euXAHQ8GtGLpfDz89P/3ydrl27NhjD5OjoiFOnTjXr/YS/dQXWXb+x+w8ICGhQmDclIiKiWee1hJWVFYDa8XZ/V1VVVe+cOnX32Zoxa9TxsQWIzJZcLsfgwYPx3nvvYfXq1aiursb3339/29c19U2zpS0BOp0OAPDYY481+Zvx8OHD672mqZlCf/8B1lwLFizAxYsXERMTA6VSiddffx29e/fGiRMnWnS9wYMHw8PDQ//44IMPmv3aM2fOwNXV9ZZjMz788EOcOnUKr776KiorKzF//nz06dOnyQHmjfn7D8XWMvbXRUu09OvCyckJEomkzVoAc3JymvX4e0tNczg5OUGhUODatWsNnqs75unpWe943X06Ozu34G6os2ALEBGAQYMGAUC9b6JN/UBzdHRsMAMHQIPfxrt37w6dTodLly7V+w0+OTm53nl1M8S0Wq1Rf1M29Ldbf39/LFy4EAsXLkRKSgpCQkLw4Ycf4uuvvzb4PTZt2lTvh5mfn1+zMiQkJODSpUsNpsg3pm/fvujbty9ee+01HDp0CMOHD8eaNWvwzjvv3DJbS6SkpDQ4dvHiRVhbW+sH+jb368KQbN27dwdQ+zXz139DjUaDtLQ0o329WFhYwN/fH2lpaY2+f2P3//ev41vx8PBo1nnr16/Xz4hrLqlUir59++KPP/5o8NyRI0fg5+fXoDUxLS0NUqkUvXr1Mui9qHNhCxCZlf379zf623DdeJ2/Fio2NjaN/kDz9/dHcXFxvW6Fa9euNZgaXDfrZsWKFfWO/311ZplMhgcffBBbt25tdIn+/Pz8W99UE2xsbPTTwm+loqJC31VQx9/fH3Z2do12K/z9PQA0+HcaPnw4IiIi9I/mFEBXrlzBE088AblcjhdffLHJ80pKSlBTU1PvWN++fSGVSuvlberz1xIJCQn1unsyMzOxY8cOjB07Vt/q0tyvC0OyRUREQC6XY8WKFfW+br/44gsUFxc3OqOwpcLDwxsUER4eHggJCcGGDRvqfS3t2bMH586da/a123IMEAA89NBDOHbsWL38ycnJ2LdvHx5++OEG5x8/fhx9+vQxqMuUOh+2AJFZmTdvHioqKnD//fcjMDAQGo0Ghw4dwubNm+Hj44OoqCj9uaGhodi7dy8++ugjeHp6wtfXF2FhYZg2bRpefvll3H///Zg/fz4qKiqwevVq9OrVq94PyZCQEEyfPh2fffYZiouLMWzYMMTFxdVbr6fO0qVLsX//foSFhWHWrFkICgrC9evXkZiYiL179+L69esG32toaCg2b96M6OhoDB48GLa2trjvvvsanHfx4kWMGTMGU6ZMQVBQECwsLLBt2zbk5ubedkuEuoHB8+fPR2RkJGQyWbO2UUhMTMTXX38NnU6HoqIiHDt2DFu3boVEIsHGjRvRr1+/Jl+7b98+zJ07Fw8//DB69eqFmpoabNy4UV9I/jVbY5+/lggODkZkZGS9afAA8Oabb+rPae7XhSHZXFxcsGjRIrz55psYN24cJk6ciOTkZHz22WcYPHhws1rKmmvSpEnYuHEjLl68WK9lJCYmBhMmTMCIESPw5JNP4vr161i5ciX69OmjH691Oy1tqdq4cSOuXLmiH+x+8OBBfQvf448/rm+heu6557B27VpMmDABL7zwAiwtLfHRRx/Bzc1NPyW/TnV1NQ4cOIDnnnuuRZmoExFt/hmRCH755RfhySefFAIDAwVbW1v9thjz5s0TcnNz65174cIF4c477xSsrKwEAPWmLe/evVsIDg4W5HK5EBAQIHz99deNTneurKwU5s+fL3Tp0kWwsbER7rvvPiEzM7PRKb25ubnCnDlzBG9vb8HS0lJwd3cXxowZI3z++ef6c+qmhP99Cnjd9PK/TiMuKysTHnnkEcHBwaHRKct1CgoKhDlz5giBgYGCjY2NoFKphLCwMOG777677b9nTU2NMG/ePMHFxUWQSCS3nRJfl7PuYWFhITg5OQlhYWHCokWLhCtXrjR4zd+nwV++fFl48sknBX9/f0GpVApOTk7C6NGjhb1799Z7XVOfv7rPU35+foP3amoa/Jw5c4Svv/5a6Nmzp6BQKIQBAwY0upVIc78umsr292nwdT799FMhMDBQsLS0FNzc3ITZs2cLN27cqHfOyJEjhT59+jTI1NT0/L9Tq9WCs7Oz8Pbbbzd4buvWrULv3r0FhUIhBAUFCT/88EOj121qGnxL1U3tb+zx93//zMxM4aGHHhLs7e0FW1tb4d577xVSUlIaXPOXX34RADT6HJkXiSC0cNQkERF1Km+//TbWr1+PlJQU0bbkaGuTJ0+GRCJptGuSzAsLICIiAlC7BIGfnx8+/vhjPProo2LHMbrz58+jb9++SEpKMngFb+p8WAARERGR2eEsMCIiIjI7LICIiIjI7LAAIiIiIrPDAoiIiIjMDhdCbIROp0N2djbs7Oy4WR4REVEHIQgCSktL4enpCan01m08LIAakZ2dDW9vb7FjEBERUQtkZmaia9eutzyHBVAj6jbOy8zMvOWO1ERERGQ6SkpK4O3t3WAD3MawAGpEXbeXvb09CyAiIqIOpjnDV0xiEPSqVavg4+MDpVKJsLAwHD16tFmv+/bbbyGRSDB58uR6xwVBwOLFi+Hh4QErKytEREQgJSWlDZITERFRRyR6AVS3W/WSJUuQmJiI/v37IzIyEnl5ebd8XXp6Ol544QXccccdDZ5btmwZVqxYgTVr1uDIkSOwsbFBZGQkqqqq2uo2iIiIqAMRvQD66KOPMGvWLERFRSEoKAhr1qyBtbU11q1b1+RrtFotHn30Ubz55pvw8/Or95wgCFi+fDlee+01TJo0Cf369cNXX32F7OxsbN++vY3vhoiIiDoCUQsgjUaD48ePIyIiQn9MKpUiIiICCQkJTb7urbfegqurK5566qkGz6WlpSEnJ6feNVUqFcLCwpq8plqtRklJSb0HERERdV6iFkAFBQXQarVwc3Ord9zNzQ05OTmNvua3337DF198gbVr1zb6fN3rDLlmTEwMVCqV/sEp8ERERJ2b6F1ghigtLcXjjz+OtWvXwtnZ2WjXXbRoEYqLi/WPzMxMo12biIiITI+o0+CdnZ0hk8mQm5tb73hubi7c3d0bnH/p0iWkp6fjvvvu0x/T6XQAAAsLCyQnJ+tfl5ubCw8Pj3rXDAkJaTSHQqGAQqFo7e0QERFRByFqC5BcLkdoaCji4uL0x3Q6HeLi4hAeHt7g/MDAQJw+fRpJSUn6x8SJEzF69GgkJSXB29sbvr6+cHd3r3fNkpISHDlypNFrEhERkfkRfSHE6OhozJw5E4MGDcKQIUOwfPlylJeXIyoqCgAwY8YMeHl5ISYmBkqlEsHBwfVe7+DgAAD1ji9YsADvvPMOevbsCV9fX7z++uvw9PRssF4QERERmSfRC6CpU6ciPz8fixcvRk5ODkJCQhAbG6sfxJyRkXHbDc3+7qWXXkJ5eTmeeeYZFBUVYcSIEYiNjYVSqWyLWyAiIqIORiIIgiB2CFNTUlIClUqF4uJiboVBRETUQRjy87tDzQIjIiIiMgbRu8CIiNqLVifgerkGEgmgsrKEpYy/AxKZKxZARNSp3SjX4Ls/MrHnXC5OZhWhWlvb628pkyDIU4XIPm54aGBXuNpzjCCROeEYoEZwDBBRx1dVrcXq+Ev498FLqKrW6Y9LJMDfv+spLKR4YrgPnh/TE9Zy/l5I1FEZ8vOb/9OJqNNJzSvDnE2JSM4tBQD08bTH9CHdMKKHM7o6WkEqkSDrRiUOXSrAt8cykZRZhH8fuIzYMzlYOX0A+nV1EPcGiKjNsQWoEWwBIuq49l/Iw5xvElGh0cLZVoE3J/bBPX3dIZFIGj1fEATEnc/D6zvO4FpxFZSWUnwybQAi+zRcjZ6ITBtngRGRWYo9cw3PbPwDFRotwv264OfnR2BCP48mix8AkEgkiAhyQ+yCOzGylwuqqnV49uvj+P4P7glI1JmxACKiTqG25ecEqrUC7u3nga+eGgJXu+YPbFZZWeKLmYMwfUg3CALw8tZT+OX0tTZMTERiYgFERB3e2exizP0mEVqdgPsHeOGTaQNaNMXdQibFe/cHY8qgrtAJwPxvT+CP9OttkJiIxMYCiIg6tMIyNZ7e8AfKNVoM79EFyx7qB5m06S6v25FIJIh5oB/G9XFHtVbA7E2JyC2pMmJiIjIFLICIqMPS6QS88P1JXCuugp+LDT57NNQoixvKpBJ8OKU/AtzskF+qxnObElGj1d3+hUTUYbAAIqIOa93vadifnA+5hRSrHhkIlZWl0a5to7DAvx8PhZ3SAsev3MDq+EtGuzYRiY8FEBF1SJfzy7BsVzIAYPG9QejtYfwlK3ycbfDWpD4AgE/iUnDmarHR34OIxMECiIg6HJ1OwKIfTkNTo8OdvVzwaFi3NnuvySFeGB/sjpqb3W3V7Aoj6hRYABFRh/P98UwcSbsOK0sZ3p0cfMt1flpLIpHgncnBcLS2xIWcUmw4lN5m70VE7YcFEBF1KIVlarz703kAQPTdveDtZN3m79nFVoFXxgcCAD7ecxHXiivb/D2JqG2xACKiDmVFXApKqmrQ28MeUcN92u19Hw71xsBuDijXaBHz84V2e18iahssgIiow7iUX4ZNRzIAAK9P6A0LI0x5by6pVIK3JgUDAP53MhunszggmqgjYwFERB3G0l8uoEYnYEygK4b1cG739w/2UmFSiCcA4P1YtgIRdWQsgIioQziadh17zuVCJpVg0T2BouV4YWwA5DIpfkstwMGL+aLlIKLWYQFERB3Cx3suAgCmDPJGD1c70XJ4O1njsaHdAdS2AgmCIFoWImo5FkBEZPKOpl1HwuVCWMokmHtXD7HjYO5dPWAjl+Fsdgn2XcgTOw4RtQALICIyeZ/E1bb+PBTqDS8HK5HTAE42cjwWXtsKtHJfKluBiDogFkBEZNL+SL+O31MLYSGV4LlR/mLH0Xt6hB8UFlIkZRbh99RCseMQkYFYABGRSVu1PxUA8FBo13ZZ9LC5XOwUmD6kdguOlftSRE5DRIZiAUREJis1rxT7k/MhkQDPjjSd1p86/zfSD3KZFEfSruP4lRtixyEiA7AAIiKT9cVv6QCAu3u7wcfZRtwwjfBQWenXBVr3W5rIaYjIECyAiMgkFZap8UNiFgDg6Tv8RE7TtKfu8AUA/HLmGrJuVIichoiaiwUQEZmkTUcyoK7RoV9XFQb7OIodp0mB7vYY3qMLdAK4UzxRB8ICiIhMTlW1Fl8lpAMAnhrhC4lEIm6g23hqRG0r0LdHM1GmrhE5DRE1BwsgIjI5P526hoIyDTxUStzT10PsOLc1qpcr/FxsUKquwdbjWWLHIaJmYAFERCZn05ErAIDHhnaHZTvu+N5SUqkEM25uj/HNkQwujEjUAZj+dxYiMivnr5UgMaMIFlIJHh7UVew4zXb/wK5QWkqRnFvKKfFEHYBJFECrVq2Cj48PlEolwsLCcPTo0SbP/eGHHzBo0CA4ODjAxsYGISEh2LhxY71znnjiCUgkknqPcePGtfVtEJERfHMkAwAQ2ccdrnZKkdM0n8rKEvf1q50Sv+nmPRCR6RK9ANq8eTOio6OxZMkSJCYmon///oiMjEReXuMbDDo5OeGf//wnEhIScOrUKURFRSEqKgq7du2qd964ceNw7do1/eO///1ve9wOEbVCuboG205cBQA8EtZN5DSGe/RmN9hPp6/hRrlG5DREdCuiF0AfffQRZs2ahaioKAQFBWHNmjWwtrbGunXrGj1/1KhRuP/++9G7d2/4+/vj+eefR79+/fDbb7/VO0+hUMDd3V3/cHQ03Wm0RFTrx5PZKFPXwNfZBuF+XcSOY7D+XVUI8rCHpkaHrYkcDE1kykQtgDQaDY4fP46IiAj9MalUioiICCQkJNz29YIgIC4uDsnJybjzzjvrPRcfHw9XV1cEBARg9uzZKCxserNCtVqNkpKSeg8ian/fHK3tOpo+xBtSqWlPfW+MRCLBo0NrW642cTA0kUkTtQAqKCiAVquFm5tbveNubm7Iyclp8nXFxcWwtbWFXC7HhAkTsHLlStx9993658eNG4evvvoKcXFxeP/993HgwAGMHz8eWq220evFxMRApVLpH97e3sa5QSJqtnPZJTiVVQy5TIqHQjvu/8FJIV6wkcuQVlCOY+kcDE1kqizEDtASdnZ2SEpKQllZGeLi4hAdHQ0/Pz+MGjUKADBt2jT9uX379kW/fv3g7++P+Ph4jBkzpsH1Fi1ahOjoaP3HJSUlLIKI2lldl1FEkCucbOQip2k5W4UF7unrge+PZ2HL8UwM8XUSOxIRNULUFiBnZ2fIZDLk5ubWO56bmwt3d/cmXyeVStGjRw+EhIRg4cKFeOihhxATE9Pk+X5+fnB2dkZqamqjzysUCtjb29d7EFH7qdbqsCOpdvDzAwM6ztT3pjwYWnsPP5/OQaWm8ZZnIhKXqAWQXC5HaGgo4uLi9Md0Oh3i4uIQHh7e7OvodDqo1eomn8/KykJhYSE8PEx/RVkic3TwYj4KyjToYiPHyAAXseO02hAfJ3g7WaFMXYNdZ5vuzici8Yg+Cyw6Ohpr167Fhg0bcP78ecyePRvl5eWIiooCAMyYMQOLFi3Snx8TE4M9e/bg8uXLOH/+PD788ENs3LgRjz32GACgrKwML774Ig4fPoz09HTExcVh0qRJ6NGjByIjI0W5RyK6tbrur0khXh1i5efbkUol+pasLdwag8gkiT4GaOrUqcjPz8fixYuRk5ODkJAQxMbG6gdGZ2RkQCr98xtieXk5nnvuOWRlZcHKygqBgYH4+uuvMXXqVACATCbDqVOnsGHDBhQVFcHT0xNjx47F22+/DYVCIco9ElHTiio02Huudt2vB0O9RE5jPA8O7IpP4lLw+6UCZBdVwtPBSuxIRPQXEoHzNBsoKSmBSqVCcXExxwMRtbGNh6/g9e1nEOhuh9gFd97+BR3IlH8n4GjadbwYGYA5o3uIHYeo0zPk53fHb2smog6tbvf0h0I7/uDnv6u7p62JWVwTiMjEsAAiItFczi9DUmYRZFIJJoV0nu6vOuOD3aGwkOJyfjnOZnOBVSJTwgKIiETz48lrAIARPZzhYtf5xujZKS1xV6ArAODHU9kipyGiv2IBRESiEARBXxTc199T5DRtZ+LNe9t58hp0OnaDEZkKFkBEJIrk3FKk5pVBLpNibB+327+ggxod6ApbhQWuFlUiMYNbYxCZChZARCSKH0/Wtv6MCnCBvdJS5DRtR2kpw9ig2gLvfyfZDUZkKlgAEVG7EwQBO0/Vjv+5txN3f9W5L6T2Hn8+fQ01Wp3IaYgIYAFERCI4fbUYVworYGUpQ0RvV7HjtLkRPZzhaG2JgjINDl0qFDsOEYEFEBGJoK71567errCWi74gfZuzlElxT9/avQh/ZDcYkUlgAURE7UqnE7DzZhFwX7/O3/1Vp26mW+zZHKhruEM8kdhYABFRuzqReQPZxVWwVVhgVCfY+b25hvg4wdVOgdKqGhxKZTcYkdhYABFRu6pb/HBskBuUljKR07QfqVSCyD7uAIBfzlwTOQ0RsQAionaj0wn6H/739vcQOU37Gx9cWwDtOZfL2WBEImMBRETtJimrCLklatgpLDC8h7PYcdrdEF8nOFpb4kZFNY6kXRc7DpFZYwFERO1m15kcALWrIysszKf7q46FTIqxQewGIzIFLICIqF0IgoBdZ2sLoHE3u4LM0bi+tfe+62wu9wYjEhELICJqF8m5pUgvrIDcQoqRvcxn9tffDfd3hp3SAvmlahzn3mBEomEBRETtYteZXADAnT2dYaPo/IsfNkVuIUVE79q9wX45nSNyGiLzxQKIiNpF7M3ur7qp4Oasrgtw19kcCAK7wYjEwAKIiNpcRmEFzl8rgUwq0bd+mLORvVxgLZfhalElTmUVix2HyCyxACKiNlc3+DnM1wmONnKR04hPaSnD6IDaTWB/OcNuMCIxsAAiojbH7q+GIm92g+09nytyEiLzxAKIiNpUXkkVEm/Odhrbh91fdUb2coGFVILUvDKkFZSLHYfI7LAAIqI2tftcLgQB6O/tAA+VldhxTIbKyhJD/boAAPaeYysQUXtjAUREbUq/+CG7vxqI6F07DmgPu8GI2h0LICJqM6VV1Th8uRAAu78aExFU+2/yR/p1XC/XiJyGyLywACKiNvNrSgGqtQL8nG3g72IrdhyT09XRGr097KETgP0X8sSOQ2RWWAARUZupm+F0V6CryElM1903u8E4G4yofbEAIqI2odUJiE/OBwCM4eKHTarrBjtwMR9V1VqR0xCZDxZARNQmkjJv4Hq5BvZKCwzycRQ7jsnq66WCm70CFRotEm6OlyKitscCiIjaxN7ztWNaRga4wlLGbzVNkUj+3B6E0+GJ2g+/KxFRm4i7Oaalbqo3Na2uG2zv+VxujkrUTkyiAFq1ahV8fHygVCoRFhaGo0ePNnnuDz/8gEGDBsHBwQE2NjYICQnBxo0b650jCAIWL14MDw8PWFlZISIiAikpKW19G0R0U+b1ClzMLYNMKsHIXi5ixzF5w/y7wEYuQ26JGqevcnNUovYgegG0efNmREdHY8mSJUhMTET//v0RGRmJvLzGp4Q6OTnhn//8JxISEnDq1ClERUUhKioKu3bt0p+zbNkyrFixAmvWrMGRI0dgY2ODyMhIVFVVtddtEZm1utaf0O6OcLDm5qe3o7CQ4c6bheIedoMRtQvRC6CPPvoIs2bNQlRUFIKCgrBmzRpYW1tj3bp1jZ4/atQo3H///ejduzf8/f3x/PPPo1+/fvjtt98A1Lb+LF++HK+99homTZqEfv364auvvkJ2dja2b9/ejndGZL7ibq5pw+6v5qsbB7SP6wERtQtRCyCNRoPjx48jIiJCf0wqlSIiIgIJCQm3fb0gCIiLi0NycjLuvPNOAEBaWhpycnLqXVOlUiEsLKzJa6rVapSUlNR7EFHLlKlrcOTydQCc/m6IkQEukEiAs9klyC1hazVRWxO1ACooKIBWq4WbW/1vkm5ubsjJyWnydcXFxbC1tYVcLseECROwcuVK3H333QCgf50h14yJiYFKpdI/vL29W3NbRGbt14v50Gh18OliDT9nG7HjdBjOtgr06+oAAIhPZisQUVsTvQusJezs7JCUlIRjx47h3XffRXR0NOLj41t8vUWLFqG4uFj/yMzMNF5YIjNT1/01prcbJBKJyGk6lrsCarsM2Q1G1PYsxHxzZ2dnyGQy5ObWH/SXm5sLd/emd46WSqXo0aMHACAkJATnz59HTEwMRo0apX9dbm4uPDw86l0zJCSk0espFAooFIpW3g0RaXWCfk+rMRz/Y7C7Al3x8d6L+C2lAOoaLRQWMrEjEXVaorYAyeVyhIaGIi4uTn9Mp9MhLi4O4eHhzb6OTqeDWq0GAPj6+sLd3b3eNUtKSnDkyBGDrklEhkvKLEJhuQZ2SgsM9nESO06H08fTHs62CpRrtPgj/YbYcYg6NVFbgAAgOjoaM2fOxKBBgzBkyBAsX74c5eXliIqKAgDMmDEDXl5eiImJAVA7XmfQoEHw9/eHWq3Gzz//jI0bN2L16tUAaldVXbBgAd555x307NkTvr6+eP311+Hp6YnJkyeLdZtEZmHfhdrW3JG9XLj6cwtIpRKMDnDB98ezsO9CHob3cBY7ElGnJXoBNHXqVOTn52Px4sXIyclBSEgIYmNj9YOYMzIyIJX++Y20vLwczz33HLKysmBlZYXAwEB8/fXXmDp1qv6cl156CeXl5XjmmWdQVFSEESNGIDY2Fkqlst3vj8icxJ2vm/7O2V8tdVegK74/noX9F/Lw+r1BYsch6rQkAtddb6CkpAQqlQrFxcWwt7cXOw5Rh5BTXIWhMXGQSIDjr90NJxsugNgSJVXVGPjWHtToBMS/MAo+nElH1GyG/PxmGzURGcWBi7WtP/27OrD4aQV7paV+/NR+TocnajMsgIjIKA5czAcA7v1lBHcFcjo8UVtjAURErVaj1eHXlAIAwKgAFkCtNTqw9t/wyOXrKFfXiJyGqHNiAURErXYiswilVTVwsLbUr2ZMLefvYgtvJytotDoculQodhyiTokFEBG12oHk2u6vO3q6QCbl6s+tJZFIMJqrQhO1KRZARNRqdeN/RnH8j9GMvjkOKD45D5ysS2R8LICIqFXyS9U4fbUYAHAnCyCjCffrAqWlFNeKq3Ahp1TsOESdDgsgImqVX1NqW3+CvezhYsc99YxFaSnDMP/alaDZDUZkfCyAiKhV4pM5/b2t1HWD1Y2xIiLjYQFERC2m1Qn6FqCRvbj7u7HVjak6nnEDJVXVIqch6lxYABFRi52+WowbFdWwU1pgYDcHseN0Ot5O1vBzsYFWJ+BQaoHYcYg6FRZARNRi8Te3ahjRwxkW3P29TdR1LdbNtCMi4+B3LCJqMW5/0fb0BVByPqfDExkRCyAiapEb5RqczCwCAIzk9hdtZqhfFygspMgurkJqXpnYcYg6DRZARNQiv6YWQCcAAW528FBZiR2n01JayhDm1wUAu8GIjIkFEBG1SN3UbLb+tL26brB4TocnMhoWQERkMJ1O4PYX7aiuADqadh0VGu4OT2QMLICIyGDnrpWgoEwNa7kMoT6OYsfp9PxdbODlULs7/OHL3B2eyBhYABGRwepaf4b5d4HCQiZyms5PIpFgVMCfs8GIqPVYABGRwf4c/8PVn9sL1wMiMi4WQERkkJKqahzPuAGA43/a07AezrCQSpBeWIH0gnKx4xB1eAYXQEuWLMGVK1faIgsRdQCHUgug1Qnwc7GBt5O12HHMhq3CAoNujrc6mMJWIKLWMrgA2rFjB/z9/TFmzBh88803UKvVbZGLiEwUd38XT92GsxwHRNR6BhdASUlJOHbsGPr06YPnn38e7u7umD17No4dO9YW+YjIhAiCwO0vRFT3b37oUiGqqrUipyHq2Fo0BmjAgAFYsWIFsrOz8cUXXyArKwvDhw9Hv3798Mknn6C4uNjYOYnIBFzMLcO14iooLKQYenN1Ymo/vT3s4GqnQGW1Fn+k3xA7DlGH1qpB0IIgoLq6GhqNBoIgwNHREZ9++im8vb2xefNmY2UkIhNx4GLt7u9D/bpAacnp7+1NIpH8ZTZYnshpiDq2FhVAx48fx9y5c+Hh4YF//OMfGDBgAM6fP48DBw4gJSUF7777LubPn2/srEQkMnZ/ia9u6xFOhydqHYMLoL59+2Lo0KFIS0vDF198gczMTCxduhQ9evTQnzN9+nTk5/M/J1FnUq6uwbG0m9Pfuf+XaEb0cIZUUtsdmV1UKXYcog7L4AJoypQpSE9Px08//YTJkydDJmvYDO7s7AydTmeUgERkGhIuFUKj1cHbyQq+zjZixzFbDtZyhHg7AAAOshWIqMUMLoDqxvr8XWVlJd566y2jhCIi0/PX7i+JRCJyGvOmnw7PAoioxQwugN58802UlZU1OF5RUYE333zTKKGIyLQIgoD4m4NuR/Xi9hdiqxsH9FtKAaq1bG0naokWtQA19tvfyZMn4eTkZJRQRGRa0grKkXm9EpYyCcL9Of1dbH29VHC0tkSpugZJmUVixyHqkJpdADk6OsLJyQkSiQS9evWCk5OT/qFSqXD33XdjypQpLQqxatUq+Pj4QKlUIiwsDEePHm3y3LVr1+KOO+6Ao6MjHB0dERER0eD8J554AhKJpN5j3LhxLcpGRH+u/jzYxwk2CguR05BMKsGdN2fixSdzOjxRSzT7O9ny5cshCAKefPJJvPnmm1CpVPrn5HI5fHx8EB4ebnCAzZs3Izo6GmvWrEFYWBiWL1+OyMhIJCcnw9W1YVN7fHw8pk+fjmHDhkGpVOL999/H2LFjcfbsWXh5eenPGzduHNavX6//WKFQGJyNiGrVjTXh7C/TMbKXC3YkZePAxXy8GBkodhyiDkciCIJgyAsOHDiAYcOGwdLS0igBwsLCMHjwYHz66acAAJ1OB29vb8ybNw+vvPLKbV+v1Wr1CzDOmDEDQG0LUFFREbZv396iTCUlJVCpVCguLoa9vX2LrkHUWVRVa9H/zd1Q1+iwa8GdCHC3EzsSAcgvVWPwu3sBAMf+GQEXO/6SR2TIz+9mdYGVlJTo/z5gwABUVlaipKSk0YchNBoNjh8/joiIiD8DSaWIiIhAQkJCs65RUVGB6urqBuOP4uPj4erqioCAAMyePRuFhYUGZSOiWocvF0Jdo4O7vRK93GzFjkM3udgpEOxV+w2e0+GJDNesLjBHR0dcu3YNrq6ucHBwaHQQdN3gaK22+Rv0FRQUQKvVws3Nrd5xNzc3XLhwoVnXePnll+Hp6VmviBo3bhweeOAB+Pr64tKlS3j11Vcxfvx4JCQkNLpukVqtrrervaGFHFFn9tfuL05/Ny0je7ngzNUSHLiYjwdDu4odh6hDaVYBtG/fPn0Ly/79+9s0kCGWLl2Kb7/9FvHx8VAqlfrj06ZN0/+9b9++6NevH/z9/REfH48xY8Y0uE5MTAyn8BM1gdtfmK6RvVyxav8l/JqSD61OgEzKApWouZpVAI0cObLRv7eWs7MzZDIZcnNz6x3Pzc2Fu7v7LV/7wQcfYOnSpdi7dy/69et3y3P9/Pzg7OyM1NTURgugRYsWITo6Wv9xSUkJvL29DbgTos4p83oFLueXQyaVYHhPZ7Hj0N8M7OYAO6UFblRU4/TVYv0K0UR0ewavAxQbG4vffvtN//GqVasQEhKCRx55BDdu3DDoWnK5HKGhoYiLi9Mf0+l0iIuLu+WMsmXLluHtt99GbGwsBg0adNv3ycrKQmFhITw8PBp9XqFQwN7evt6DiID4m60/od0cYa80zsQHMh4LmRQjetQWppwOT2QYgwugF198UT9G5vTp04iOjsY999yDtLS0eq0ozRUdHY21a9diw4YNOH/+PGbPno3y8nJERUUBAGbMmIFFixbpz3///ffx+uuvY926dfDx8UFOTg5ycnL0q1OXlZXhxRdfxOHDh5Geno64uDhMmjQJPXr0QGRkpMH5iMzZgZvr/4zk9HeTNYq7wxO1iMErmqWlpSEoKAgAsHXrVtx333147733kJiYiHvuucfgAFOnTkV+fj4WL16MnJwchISEIDY2Vj8wOiMjA1Lpn3Xa6tWrodFo8NBDD9W7zpIlS/DGG29AJpPh1KlT2LBhA4qKiuDp6YmxY8fi7bff5lpARAZQ12hx6FIBAI7/MWV1CyKezCzCjXINHG3kIici6hgMLoDkcjkqKioAAHv37tWvvePk5NTi2VNz587F3LlzG30uPj6+3sfp6em3vJaVlRV27drVohxE9Kfj6TdQodHC2VaBIA92C5sqD5UVAtzskJxbil9TCzCxv6fYkYg6BIO7wEaMGIHo6Gi8/fbbOHr0KCZMmAAAuHjxIrp25TRMos6ibvzPnb2cIeXsIpOm7wZLZjcYUXMZXAB9+umnsLCwwJYtW7B69Wr99hO//PIL99si6kTqfpiOCuDu76aurovywMV86HQGLe5PZLYM7gLr1q0bdu7c2eD4xx9/bJRARCS+a8WVSM4thUQC3NGD099NXaiPI6zlMhSUqXHuWgmCvVS3fxGRmWvRts46nQ6pqanIy8uDTqer99ydd95plGBEJJ661p/+XR04qLYDUFjIMMzfGXvP5+LAxXwWQETNYHABdPjwYTzyyCO4cuUK/r6PqqFbYRCRaeLu7x3PyACX2gIoOR9zRvcQOw6RyTO4AHr22WcxaNAg/PTTT/Dw8ODeQESdTLVWh99SOP29oxl183N1POMGSqqquXAl0W0YXAClpKRgy5Yt6NGDv2EQdUaJV26gVF0DR2tL9OvqIHYcaiZvJ2v4udjgcn45fk8pwPi+ja98T0S1DJ4FFhYWhtTU1LbIQkQmoK77646eLtxcs4P562wwIro1g1uA5s2bh4ULFyInJwd9+/aFpWX9ZtbbbUxKRKYtPpnjfzqqUQGuWP97Og5czIcgCByiQHQLBhdADz74IADgySef1B+TSCT6/2wcBE3UceWVVOHctdoV3e/k+J8OJ8zXCQoLKa4VV+FibhkC3O3EjkRkslq0FxgRdU51XSf9uqrgbMu98zoapaUMQ/264MDFfBy4mMcCiOgWDC6Aunfv3hY5iMgE1G1/wdlfHdeoAJebBVA+nrnTX+w4RCbL4EHQALBx40YMHz4cnp6euHLlCgBg+fLl2LFjh1HDEVH7qdHq8CvX/+nw6orXY2k3UK6uETkNkekyuABavXo1oqOjcc8996CoqEg/5sfBwQHLly83dj4iaidJmUUoqaqBysoSId6OYsehFvJ1toG3kxU0Wh0SLhWKHYfIZBlcAK1cuRJr167FP//5T8hkMv3xQYMG4fTp00YNR0Tt58/p786c/t6BSSQSjOpVu4Ft/MU8kdMQmS6DC6C0tDQMGDCgwXGFQoHy8nKjhCKi9lc3/Z3jfzq+us9hfHJ+gy2LiKiWwQWQr68vkpKSGhyPjY1F7969jZGJiNpZfqkap68WA6jdU4o6tnD/LpDLpMi6UYm0Av5iStQYg2eBRUdHY86cOaiqqoIgCDh69Cj++9//IiYmBv/5z3/aIiMRtbFfU2pbf/p42sPVTilyGmotG4UFBvs64vfUQsQn58PPxVbsSEQmx+AC6Omnn4aVlRVee+01VFRU4JFHHoGnpyc++eQTTJs2rS0yElEb4+rPnc/IXi74PbUQBy7m48kRvmLHITI5LZoG/+ijjyIlJQVlZWXIyclBVlYWnnrqKWNnI6J2oNUJOJhSN/7HVeQ0ZCyjAmo/l4cvF6Kqmiv0E/1diwqgOtbW1nB15TdMoo7sZFYRiiqqYae0wMBuDmLHISPp6WoLD5US6hodDl/mdHiiv2tWF9iAAQOavaleYmJiqwIRUfs6kPzn9HcLWat+JyITIpFIMLKXC749lokDF/P1LUJEVKtZBdDkyZP1f6+qqsJnn32GoKAghIeHAwAOHz6Ms2fP4rnnnmuTkETUduq2vxjF7q9OZ1TAzQIoOR+4T+w0RKalWQXQkiVL9H9/+umnMX/+fLz99tsNzsnMzDRuOiJqU4VlapzKKgLA6e+d0bAetYtaXi4oR0ZhBbp1sRY7EpHJMLi9+/vvv8eMGTMaHH/sscewdetWo4Qiovbxa0oBBAEIdLeDmz2nv3c29kpLhHar3dbkAFeFJqrH4ALIysoKv//+e4Pjv//+O5RKfgMl6kgO6Dc/ZfdXZ1XXslf3uSaiWgavA7RgwQLMnj0biYmJGDJkCADgyJEjWLduHV5//XWjBySitqHTCTjI3d87vZG9XPCvXck4dKkQ6hotFBay27+IyAwYXAC98sor8PPzwyeffIKvv/4aANC7d2+sX78eU6ZMMXpAImobp68Wo7BcA1uFBUK7c/f3zqqPpz1c7BTIL1Xjj/QbGN7DWexIRCbB4AIIAKZMmcJih6iDq+sSGd6jCyw5/b3TkkgkuLOnC7YmZiE+OY8FENFN/K5HZKb2XagdFMvxP51fXRfn/mSOAyKqwwKIyAwVlKlx8ub099EsgDq9O3u6QCaVIDWvDJnXK8SOQ2QSWAARmaH45HwIQu34EHcVZ292diprS/04r7qWPyJzxwKIyAztv/lDcEwgW3/MRd3nOo4FEBGAFhRA+/fvN3qIVatWwcfHB0qlEmFhYTh69GiT565duxZ33HEHHB0d4ejoiIiIiAbnC4KAxYsXw8PDA1ZWVoiIiEBKSorRcxN1RNVanX76+2gWQGbjrpuf68OXClGurhE5DZH4DC6Axo0bB39/f7zzzjtG2fpi8+bNiI6OxpIlS5CYmIj+/fsjMjISeXmN/5YSHx+P6dOnY//+/UhISIC3tzfGjh2Lq1ev6s9ZtmwZVqxYgTVr1uDIkSOwsbFBZGQkqqqqWp2XqKM7ln4dpeoadLGRo39XB7HjUDvp4WoLbycraLQ6/J5aIHYcItEZXABdvXoVc+fOxZYtW+Dn54fIyEh899130Gg0LQrw0UcfYdasWYiKikJQUBDWrFkDa2trrFu3rtHzN23ahOeeew4hISEIDAzEf/7zH+h0OsTFxQGobf1Zvnw5XnvtNUyaNAn9+vXDV199hezsbGzfvr1FGYk6k33n/5z9JZVKRE5D7UUikeCumwPe9yezG4zI4ALI2dkZ//jHP5CUlIQjR46gV69eeO655+Dp6Yn58+fj5MmTzb6WRqPB8ePHERER8WcgqRQRERFISEho1jUqKipQXV0NJycnAEBaWhpycnLqXVOlUiEsLKzJa6rVapSUlNR7EHVW+27+8LuL3V9m567ebgBqB0ILgiByGiJxtWoQ9MCBA7Fo0SLMnTsXZWVlWLduHUJDQ3HHHXfg7Nmzt319QUEBtFot3Nzc6h13c3NDTk5OszK8/PLL8PT01Bc8da8z5JoxMTFQqVT6h7e3d7Pem6ijSS8ox+X8clhIJbijFxfEMzdhvk6wspQht0SNs9n8RY/MW4sKoOrqamzZsgX33HMPunfvjl27duHTTz9Fbm4uUlNT0b17dzz88MPGztrA0qVL8e2332Lbtm2t2oh10aJFKC4u1j+MMbaJyBTVTYEe7OMEe6WlyGmovSktZRjRs7bw3c/ZYGTmDC6A5s2bBw8PD/zf//0fevXqhRMnTiAhIQFPP/00bGxs4OPjgw8++AAXLly47bWcnZ0hk8mQm5tb73hubi7c3d1v+doPPvgAS5cuxe7du9GvXz/98brXGXJNhUIBe3v7eg+izqhu7MeY3uz+Mld3cTo8EYAWFEDnzp3DypUrkZ2djeXLlyM4OLjBOc7Ozs2aLi+XyxEaGqofwAxAP6A5PDy8ydctW7YMb7/9NmJjYzFo0KB6z/n6+sLd3b3eNUtKSnDkyJFbXpOosytT1+Dw5UIAnP5uzupW/j6ZVYSCMrXIaYjEY3ABtGTJEjz88MNQKBT1jtfU1ODgwYMAAAsLC4wcObJZ14uOjsbatWuxYcMGnD9/HrNnz0Z5eTmioqIAADNmzMCiRYv057///vt4/fXXsW7dOvj4+CAnJwc5OTkoKysDUDvTYcGCBXjnnXfwv//9D6dPn8aMGTPg6emJyZMnG3q7RJ3GbykFqNYK8OliDT9nG7HjkEjcVUr08bSHINSuCE5krgzeDX706NG4du0aXF3r/wZZXFyM0aNHQ6vVGnS9qVOnIj8/H4sXL0ZOTg5CQkIQGxurH8SckZEBqfTPOm316tXQaDR46KGH6l1nyZIleOONNwAAL730EsrLy/HMM8+gqKgII0aMQGxsbKvGCRF1dPsu1HYLjw50hUTC6e/mbEygK85ml2D/hTw8FNpV7DhEopAIBs6FlEqlyM3NhYuLS73jFy9exKBBgzrFFPKSkhKoVCoUFxdzPBB1CjqdgLCYOOSXqrHxqSG4o6fL7V9EndaJjBu4/7NDsFNYIHHx3bCUcVck6hwM+fnd7BagBx54AEBtF9MTTzxRrwtMq9Xi1KlTGDZsWAsjE1FbOpNdjPxSNWzkMgzxdRI7Domsf1cHdLGRo7Bcg2Pp1zHMn0sikPlpdgGkUqkA1K60bGdnBysrK/1zcrkcQ4cOxaxZs4yfkIharW76+4iezlBYyEROQ2KTSiUYFeCKrYlZ2H8hjwUQmaVmF0Dr168HAPj4+OCFF16AjQ0HURJ1FPv0u7+73eZMMhdjetcWQHEX8vDPCUFixyFqdy2aBcbih6jjyCupwqmsYgDAqACO/aFad/R0hoVUgsv55UgrKBc7DlG7a1YL0MCBAxEXFwdHR0cMGDDgljNIEhMTjRaOiFpv783NT/t7O8DVnjMhqZad0hJD/brgt9QC7DmXg2fu9Bc7ElG7alYBNGnSJP2gZ66lQ9Sx7DlXuwfe2CB2f1F9dwe53SyAclkAkdkxeBq8OeA0eOosytU1GPD2HmhqdNj9jzvRy81O7EhkQq4WVWL40n2QSoBj/4xAF1vF7V9EZMIM+fnNxR+IOrGDF/OhqdGhexdr9HS1FTsOmRgvByv08bSHTuDeYGR+mtUF5ujo2OyVY69fv96qQERkPHvO1a7+fHdvN67+TI26O8gNZ7NLsOdcLqYM8hY7DlG7aVYBtHz58jaOQUTGVqPVYd/N3d/v5vgfasLdQW5YvjcFv6bko1KjhZWc60SReWhWATRz5sy2zkFERnYs/QaKKqrhYG2J0O6OYschExXkYQ8vBytcLarEb6kFLJbJbDRrDNBf9/cqKSm55YOITENd99ddga6w4F5P1ASJRKIveupmDBKZg2aPAarbAd7BwaHRsQSCIEAikRi8GzwRGZ8gCNhzntPfqXnuDnLDl4fSEXc+D1qdAJmU48Wo82tWAbRv3z44OdVuoLh///42DURErXcxtwyZ1ysht5By53e6rSG+TrBXWqCwXIMTGTcwyIcb5lLn16wCaOTIkY3+nYhMU11XxogezrBRNHvLPzJTljIp7gp0xfakbOw5l8sCiMxCi74z3rhxA1988QXOnz8PAAgKCkJUVJS+lYiIxKWf/s7uL2qmu4PcsT0pG7vP5eKV8YFcNoE6PYNHRh48eBA+Pj5YsWIFbty4gRs3bmDFihXw9fXFwYMH2yIjERkgt6QKJ7OKIZHU7vhN1BwjA1wgl0mRVlCOS/llYschanMGF0Bz5szB1KlTkZaWhh9++AE//PADLl++jGnTpmHOnDltkZGIDFDX+hPi7QBXO25+Ss1jq7BAuH8XAMDum19DRJ2ZwQVQamoqFi5cCJnsz8WyZDIZoqOjkZqaatRwRGS4XWdrx/+w+4sM9ed0eBZA1PkZXAANHDhQP/bnr86fP4/+/fsbJRQRtUxRhQYJlwoBAOODPUROQx1NXQGUlFmEvJIqkdMQta1mDYI+deqU/u/z58/H888/j9TUVAwdOhQAcPjwYaxatQpLly5tm5RE1Cx7zuWiRicg0N0Ovs42YsehDsbNXokB3RxwIqMIu87m4PFwH7EjEbWZZhVAISEhkEgkEARBf+yll15qcN4jjzyCqVOnGi8dERkk9kxt99e4YHeRk1BHNT7YHScyivDLGRZA1Lk1qwBKS0tr6xxE1EqlVdX4NaUAALu/qOXGB3vgvZ8v4PDlQhSWqdHFViF2JKI20awCqHv37m2dg4haad+FPGi0Ovg526CXm63YcaiD8nayRrCXPc5cLcGec7mYNqSb2JGI2kSLl4g9d+4cMjIyoNFo6h2fOHFiq0MRkeH+2v3FReyoNcYHe+DM1RL8fCaHBRB1WgYXQJcvX8b999+P06dP1xsXVPcNl5uhErW/So0W8cn5ANj9Ra03Ptgd/9qVjEOpBSiuqIbK2lLsSERGZ/A0+Oeffx6+vr7Iy8uDtbU1zp49i4MHD2LQoEGIj49vg4hEdDsHLuajslqLro5WCPayFzsOdXB+LrYIdLdDjU7AnvNcE4g6J4MLoISEBLz11ltwdnaGVCqFVCrFiBEjEBMTg/nz57dFRiK6jdgz1wAA4/qw+4uMo24mYd3XFlFnY3ABpNVqYWdnBwBwdnZGdnY2gNqB0snJycZNR0S3pa7RIu58HgBgfF9OfyfjqOtKPZhSgNKqapHTEBmfwQVQcHAwTp48CQAICwvDsmXL8Pvvv+Ott96Cn5+f0QMS0a0dSi1EqboGbvYKDPB2FDsOdRK93Gzh52IDTY0O+y7kiR2HyOgMLoBee+016HQ6AMBbb72FtLQ03HHHHfj555+xYsUKowckolv75WYXRWQfd0il7P4i45BIJBiv7wbLETkNkfEZPAssMjJS//cePXrgwoULuH79OhwdHTn2gKid1Wh1+o0rufozGdv4YA+s2n8J+5PzUKGpgbW8xSunEJkcg1uA/iozMxOZmZlwcnJqcfGzatUq+Pj4QKlUIiwsDEePHm3y3LNnz+LBBx+Ej48PJBIJli9f3uCcN954AxKJpN4jMDCwRdmITN2hS4W4UVGNLjZyDPFxEjsOdTJ9PO3h7WSFqmodDtxcZoGoszC4AKqpqcHrr78OlUoFHx8f+Pj4QKVS4bXXXkN1tWED5TZv3ozo6GgsWbIEiYmJ6N+/PyIjI5GX13h/c0VFBfz8/LB06VK4uzf9226fPn1w7do1/eO3334zKBdRR/HjydpJCOP7usNC1qrfZ4gakEgkuOfmYOidpzkbjDoXg79jzps3D59//jmWLVuGEydO4MSJE1i2bBm++OILg6fBf/TRR5g1axaioqIQFBSENWvWwNraGuvWrWv0/MGDB+Nf//oXpk2bBoWi6f1pLCws4O7urn84OzsblIuoI1DXaBF7tnZsxn39PEVOQ53VvTe/tuLO56JcXSNyGiLjMbhD95tvvsG3336L8ePH64/169cP3t7emD59OlavXt2s62g0Ghw/fhyLFi3SH5NKpYiIiEBCQoKhsepJSUmBp6cnlEolwsPDERMTg27dml7OXa1WQ61W6z8uKSlp1fsTtYeDFwtQWlU7+2swu7+ojQR72cOnizXSCyuw93wuJoV4iR2JyCgMbgFSKBTw8fFpcNzX1xdyubzZ1ykoKIBWq4Wbm1u9425ubsjJafmMg7CwMHz55ZeIjY3F6tWr9bPUSktLm3xNTEwMVCqV/uHt7d3i9ydqLztP1XZ/Tejrydlf1GYkEgnu61/bCvTjSXaDUedhcAE0d+5cvP322/VaTNRqNd59913MnTvXqOFaYvz48Xj44YfRr18/REZG4ueff0ZRURG+++67Jl+zaNEiFBcX6x+ZmZntmJjIcJUarX721339ufcXta2JNwugAxfzUFzBRRGpc2hWF9gDDzxQ7+O9e/eia9eu6N+/PwDg5MmT0Gg0GDNmTLPf2NnZGTKZDLm59feZyc3NveUAZ0M5ODigV69eSE1NbfIchUJxyzFFRKZm34U8VGhq9/4K8XYQOw51cj3d7BDobocLOaXYdTYHUwazlZw6vmYVQCqVqt7HDz74YL2PW9JlJJfLERoairi4OEyePBkAoNPpEBcXZ9SWpLKyMly6dAmPP/640a5JJLa62V/39ffk+lvULu7r74kLOcn438lsFkDUKTSrAFq/fn2bvHl0dDRmzpyJQYMGYciQIVi+fDnKy8sRFRUFAJgxYwa8vLwQExMDoHbg9Llz5/R/v3r1KpKSkmBra4sePXoAAF544QXcd9996N69O7Kzs7FkyRLIZDJMnz69Te6BqL2VVlVjf3LtUhH39mP3F7WP+/p54l+7knHoUgHyS9VwsWOrOXVsLV7WMz8/X7/5aUBAAFxcXAy+xtSpU5Gfn4/FixcjJycHISEhiI2N1Q+MzsjIgFT65zCl7OxsDBgwQP/xBx98gA8++AAjR45EfHw8ACArKwvTp09HYWEhXFxcMGLECBw+fLhF+YhM0d7zuVDX6ODnYoMgD3ux45CZ6NbFGv29HXAyswi/nLmGGeE+YkciahWJIAiCIS8oLy/HvHnz8NVXX+n3BJPJZJgxYwZWrlwJa2vrNgnankpKSqBSqVBcXAx7e/6AIdPy5JfHsO9CHp4f0xP/uLuX2HHIjPzn18t456fzGNTdEVtmDxM7DlEDhvz8NngWWHR0NA4cOIAff/wRRUVFKCoqwo4dO3DgwAEsXLiwxaGJ6PaKKjQ4eLF2SwLO/qL2dm8/T0gkwB9XbuBqUaXYcYhaxeACaOvWrfjiiy8wfvx42Nvbw97eHvfccw/Wrl2LLVu2tEVGIrrpx1PXUKMT0NvDHj1c7cSOQ2bGXaXU7zm38+ZAfKKOyuACqKKiosHihQDg6uqKiooKo4QiosZtS8wCADwwgKvxkjjqFkXcnsQCiDo2gwug8PBwLFmyBFVVVfpjlZWVePPNNxEeHm7UcET0p/SCciRmFEEqASaFcO8vEse9/Twgl0lx/loJzmVz2yDquAyeBbZ8+XKMGzeuwUKISqUSu3btMnpAIqq17cRVAMCIni5wtVeKnIbMlYO1HHcFuiL2bA62nchCkGeQ2JGIWsTgFqC+ffsiJSUFMTExCAkJQUhICJYuXYqUlBT06dOnLTISmT1BEPQFELu/SGwPDKz9GtyelI0arU7kNEQtY1ALUHV1NQIDA7Fz507MmjWrrTIR0d8cv3IDGdcrYC2XYWyfhmPwiNrTqABXOFpbIr9Ujd9SCzAqwFXsSEQGM6gFyNLSst7YHyJqHz/cbP0ZH+wBa3mL1y8lMgq5hVS/QeoPiVdFTkPUMgZ3gc2ZMwfvv/8+ampq2iIPEf2NukaLn05dA/Bn1wOR2B4Y2BUAsOtsDkqruEM8dTwG/yp57NgxxMXFYffu3ejbty9sbGzqPf/DDz8YLRwRAfsv5KG4shru9koM9esidhwiAEC/rir4u9jgUn45fjmTgymDuEEqdSwGF0AODg4NdoMnorZT18UwaYAnZFLu/E6mQSKR4IGBXfGvXcn4ITGLBRB1OAYXQG21MzwRNXSjXKPf+f2BAV1FTkNU3+QBXvhgdzIOX76OrBsV6OrY8feCJPPR7DFAOp0O77//PoYPH47BgwfjlVdeQWUl94Ihakvbk66iWiugj6c9Aty59QWZFi8HK4Tf7JbdxsHQ1ME0uwB699138eqrr8LW1hZeXl745JNPMGfOnLbMRmTWBEHA5mOZAICpg9m9QKapbjD0lsQsCIIgchqi5mt2AfTVV1/hs88+w65du7B9+3b8+OOP2LRpE3Q6LoJF1BZOZRXjQk4p5BZSTOrP2V9kmu7p6w5bhQWuFFbg8OXrYscharZmF0AZGRm455579B9HRERAIpEgO5sb4hG1hc1/1Lb+3BPsDpW1pchpiBpnLbfQb5C6+ViGyGmImq/ZBVBNTQ2Uyvr7D1laWqK6mus/EBlbhaYG/7u52/YUdn+RiZt282v05zM5KK7gzwTqGJo9C0wQBDzxxBNQKBT6Y1VVVXj22WfrrQXEdYCIWu/n0zkoU9egm5M1hvpy7R8ybf26qhDobocLOaXYnnQVM4f5iB2J6Laa3QI0c+ZMuLq6QqVS6R+PPfYYPD096x0jotb77ubg5ymDukLKtX/IxEkkEn0r0H+PZnAwNHUIzW4B4vo/RO3jcn4ZjqZfh1QCPBTK7i/qGCYP8MJ7v1zAhZxSnL5ajH5dHcSORHRLBu8FRkRtq27w88heLnBXKW9zNpFpcLCWY3ywOwDg25stmESmjAUQkQlR12ix9XgWAK79Qx1P3dfs/5KyUaHhhtlk2lgAEZmQ2DM5KCjTwNVOgTG93cSOQ2SQob5d0L2LNcrUNfjxJJdIIdPGAojIhGw6XLuOyvQh3WAp439P6likUgmmD+kGANh4+AoHQ5NJ43dYIhNxIacER9OvQ/aXHyJEHc2UQd6QW0hx5moJkjKLxI5D1CQWQEQmoq715+7ebhz8TB2Wk40c9/bzAABsTLgichqiprEAIjIBZeoa/JBYO/j58fDuIqchap0Z4T4AgJ2nruF6uUbcMERNYAFEZAK2nbiKco0Wfi42GObPlZ+pY+vfVYW+XipotDps5pR4MlEsgIhEJggCNh2u7Sp4NKw7JBKu/Ewdm0Qi0bdkbjpyBVodB0OT6WEBRCSyP67cwIWcUigtpXhoYFex4xAZxcT+nlBZWSLrRiXik/PEjkPUAAsgIpGt+y0NADCpvxdU1pYipyEyDqWlDFMG1Rb0X3EwNJkgFkBEIsq8XoFdZ3MAAFEjfMQNQ2Rkjw3tDokEOHAxH6l5ZWLHIaqHBRCRiDYcSodOAEb0cEagu73YcYiMqnsXG0TcXNF83e9pIqchqk/0AmjVqlXw8fGBUqlEWFgYjh492uS5Z8+exYMPPggfHx9IJBIsX7681dckEkuZukY/Q+apEb4ipyFqG0/f/NreejyLU+LJpIhaAG3evBnR0dFYsmQJEhMT0b9/f0RGRiIvr/EBcxUVFfDz88PSpUvh7u5ulGsSieW7Y5koVdfAz8UGI3u5iB2HqE0M8XVCXy8V1DU6/WxHIlMgagH00UcfYdasWYiKikJQUBDWrFkDa2trrFu3rtHzBw8ejH/961+YNm0aFAqFUa5JJAatTsD6Q7VdAk8O94VUyqnv1DlJJBI8fUdtK9CGhCtQ12hFTkRUS7QCSKPR4Pjx44iIiPgzjFSKiIgIJCQktOs11Wo1SkpK6j2I2tKec7nIvF4JB2tLPMip79TJ3dPXA+72ShSUqfG/JO4ST6ZBtAKooKAAWq0Wbm5u9Y67ubkhJyenXa8ZExMDlUqlf3h7e7fo/Ymaq27q+yNDusFKLhM5DVHbspRJ8cRwHwDAF7+lcZd4MgmiD4I2BYsWLUJxcbH+kZnJpdup7SRm3MDR9OuwkEr0eyYRdXbTB3eDtVyGCzml+C21QOw4ROIVQM7OzpDJZMjNza13PDc3t8kBzm11TYVCAXt7+3oPorby2f5LAID7B3hx13cyGyprS0wZVNu6vubAJZHTEIlYAMnlcoSGhiIuLk5/TKfTIS4uDuHh4SZzTSJjSs4pxd7zuZBIgGdH+Ysdh6hdPX2HLyykEvyeWogTGTfEjkNmTtQusOjoaKxduxYbNmzA+fPnMXv2bJSXlyMqKgoAMGPGDCxatEh/vkajQVJSEpKSkqDRaHD16lUkJSUhNTW12dckEtPq+Nqv1fHB7vB3sRU5DVH76upojckDvAAAq/azFYjEZSHmm0+dOhX5+flYvHgxcnJyEBISgtjYWP0g5oyMDEilf9Zo2dnZGDBggP7jDz74AB988AFGjhyJ+Pj4Zl2TSCwZhRX48dQ1AMBzo3qInIZIHLNH+WNrYhb2ns/FhZwSroBOopEIHI7fQElJCVQqFYqLizkeiIzmn9tOY9ORDNzZywVfPTlE7DhEopmzKRE/nb6Gif09sWL6gNu/gKiZDPn5zVlgRO0gr7QK3x/PAgDM4dgfMnOzb/4f2HkqG+kF5SKnIXPFAoioHXzxaxo0NTqEdnfEEF8nseMQiSrYS4XRAS7QCZwRRuJhAUTUxvJL1fgqoXYPpLmje0Ai4bYXRHNG146D25qYhatFlSKnIXPEAoioja2Ov4TKai1CvB0wKoCbnhIBwCAfJ4T7dUG1VsCn+1LEjkNmiAUQURvKKa7C10dqW38Wju3F1h+iv1g4thcA4Ls/sjgWiNodCyCiNrRqfyo0NToM8XHCiB7OYschMimDfJwwKsAFWp2AFXFsBaL2xQKIqI1k3ajAt8cyAAD/uJutP0SNWXh3AABgW9JVpOSWipyGzAkLIKI28um+VFRrBQzz74Jw/y5ixyEySX27qhDZxw2CACzfy1Ygaj8sgIjawJXCcv26P3XjHIiocbUtpMBPp6/hbHax2HHITLAAImoDy2KTodUJGNnLBaHdue4P0a0Eutvjvn6eAIAPdiWLnIbMBQsgIiNLzLiBn05fg0QCvDI+UOw4RB3CP+7uBQupBPuT8/F7aoHYccgMsAAiMiJBEPDeT+cBAA8N7IreHtxLjqg5fJ1t8NjQ7gCAd346D62O21RS22IBRGREu87m4o8rN6C0lGLh2ACx4xB1KPPH9ISd0gLnr5Vga2KW2HGok2MBRGQk1VodlsVeAAA8PcIP7iqlyImIOhYnGznm3VW7RcYHu5JRoakRORF1ZiyAiIxk0+EruFxQji42cvzfSD+x4xB1SDOH+cDbyQp5pWp8fvCy2HGoE2MBRGQEhWVqfLTnIoDawZx2SkuRExF1TAoLGV4eVzt54N8HLiO3pErkRNRZsQAiMoJ/7UpGSVUN+njaY/qQbmLHIerQJvT1wMBuDqis1uK9n8+LHYc6KRZARK10MrMIm//IBAC8ObEPZFJueUHUGhKJBG9ODIZEAuxIysahS5wWT8bHAoioFXQ6AYv/dxaCANw/wAuDfLjoIZEx9O2qwmNhtdPiF+84C02NTuRE1NmwACJqhS3Hs3Ayswg2chkWcdFDIqN6YWwAutjIkZpXhnW/p4kdhzoZFkBELVRQpsZ7v9SOT3g+oidc7TntnciYVNaWWHRPbwDAJ3tTkF1UKXIi6kxYABG10Ns7z6Goohq9PewRNdxX7DhEndKDA70wxMcJldVavPXjObHjUCfCAoioBfYn52FHUjakEmDpA31hKeN/JaK2IJFI8PbkYMikEsSezUHsmWtiR6JOgt+1iQxUoanBa9vOAACeGOaL/t4O4gYi6uQC3O0we6Q/AOC17WdRVKERORF1BiyAiAz04e6LuFpUCS8HKywc20vsOERmYd6YHujhaouCMjXe2smuMGo9FkBEBjh8uVA/G+WdycGwUViInIjIPCgsZFj2UD9IJMAPiVex/0Ke2JGog2MBRNRMZeoavPD9SQgCMHWQN0YHuoodicisDOzmiKduTjh4ddtpFFdWi5yIOjIWQETN9M7Oc8i6Udv19dq9vcWOQ2SWFo4NgE8Xa1wrrsLr28+IHYc6MBZARM2w70Iuvj2WCYkE+HBKf252SiQSK7kMH08NgUwqwf9OZmP7iatiR6IOigUQ0W3kl6rx0pbTAIAnh/tiqF8XkRMRmbcB3Rwx/66eAIDXt59B5vUKkRNRR8QCiOgWdDoB/9ichIIyNQLc7PBiZIDYkYgIwJzR/gjt7ohSdQ2iv0uCVieIHYk6GBZARLew+sAl/JZaAKWlFJ8+MgBKS5nYkYgIgIVMiuVTQ2CrsMCx9BtYvvei2JGogzGJAmjVqlXw8fGBUqlEWFgYjh49esvzv//+ewQGBkKpVKJv3774+eef6z3/xBNPQCKR1HuMGzeuLW+BOqFj6dfx0Z7ab6pvTQpGTzc7kRMR0V95O1nj3fuDAQAr96VifzKnxlPziV4Abd68GdHR0ViyZAkSExPRv39/REZGIi+v8S/kQ4cOYfr06Xjqqadw4sQJTJ48GZMnT8aZM/VnA4wbNw7Xrl3TP/773/+2x+1QJ1FQpsb8/56AVidgcognHg7tKnYkImrEpBAvPD60OwDgH5uTcJUbplIzSQRBELXjNCwsDIMHD8ann34KANDpdPD29sa8efPwyiuvNDh/6tSpKC8vx86dO/XHhg4dipCQEKxZswZAbQtQUVERtm/f3qJMJSUlUKlUKC4uhr29fYuuQR1XtVaHx/5zBEfSrsPP2Qb/mzcCtlzwkMhkqWu0eHhNAk5lFaO/twO+/79wyC1E//2eRGDIz29Rv0I0Gg2OHz+OiIgI/TGpVIqIiAgkJCQ0+pqEhIR65wNAZGRkg/Pj4+Ph6uqKgIAAzJ49G4WFhU3mUKvVKCkpqfcg8/XuT+dxJO06bBUW+HxGKIsfIhOnsJBh1SMDobKyxMnMIizecQYi/25PHYCoBVBBQQG0Wi3c3NzqHXdzc0NOTk6jr8nJybnt+ePGjcNXX32FuLg4vP/++zhw4ADGjx8PrVbb6DVjYmKgUqn0D29v71beGXVUW49n4ctD6QCAj6b0Rw9Xjvsh6gi8nayxfFoIpBLg22OZWPd7utiRyMR1yjbCadOmYeLEiejbty8mT56MnTt34tixY4iPj2/0/EWLFqG4uFj/yMzMbN/AZBKOX7mBRdtq1/uZP6YnxvZxFzkRERlidIArXr2ndpX2d386x0HRdEuiFkDOzs6QyWTIzc2tdzw3Nxfu7o3/8HF3dzfofADw8/ODs7MzUlNTG31eoVDA3t6+3oPMS3pBOWZ99Qc0NTpE9HbDgjE9xY5ERC3w1AhfTB3kDZ0AzPvmBC7mloodiUyUqAWQXC5HaGgo4uLi9Md0Oh3i4uIQHh7e6GvCw8PrnQ8Ae/bsafJ8AMjKykJhYSE8PDyME5w6lRvlGkR9eQzXyzXo66XCiukhkEolYsciohaQSCR4e3Iwhvg6oUxdg6c2HENeaZXYscgEid4FFh0djbVr12LDhg04f/48Zs+ejfLyckRFRQEAZsyYgUWLFunPf/755xEbG4sPP/wQFy5cwBtvvIE//vgDc+fOBQCUlZXhxRdfxOHDh5Geno64uDhMmjQJPXr0QGRkpCj3SKarqlqLZzb+gbSCcng5WOGLJwbBWs5Bz0QdmdxCijWPhaKbkzUyr1di5rpj3DmeGhC9AJo6dSo++OADLF68GCEhIUhKSkJsbKx+oHNGRgauXbumP3/YsGH45ptv8Pnnn6N///7YsmULtm/fjuDg2sWwZDIZTp06hYkTJ6JXr1546qmnEBoail9//RUKhUKUeyTTVK3VYe43J3As/QbslBZYHzUYrnZKsWMRkRE42cjx1ZND4GyrwPlrJZj11R+oqm58IgyZJ9HXATJFXAeo89PqBER/l4QdSdlQWEix4ckh3OSUqBM6m12Maf8+jFJ1DSJ6u2HNYwNhIRP9d39qIx1mHSAiMQiCgNe2n8GOpGxYSCVY81goix+iTqqPpwprZw6C3EKKvedz8eKWU9w4lQCwACIzIwgC3vzxHP57NANSCbB8WghGB7qKHYuI2tBQvy74dPoAyKQSbDtxFQu5ezyBBRCZEZ1OwKvbzugXOlz6QD/c289T3FBE1C7G9nHHp9MHwEIqwfakbER/l4QarU7sWCQiFkBkFrQ6AS9uOaVv+fng4f6YMpgrfhOZk/F9PfDpIwNhIZVgR1I2/vHdSVSzCDJbLICo09PU6LBgcxK2JmZBJpVg+bQBeIi7uxOZpXHB7vjs0YGwlEnw48lsPPPVH6jQ1Igdi0TAAog6tZKqajyx/ih+PJkNS5kEqx4ZiIn92e1FZM7G9nHHvx8PhdJSiv3J+Zi+9giul2vEjkXtjAUQdVrZRZV4eHUCDl0qhI1chv/MHIxxwdzfi4iAuwLdsOnpoXCwrt1B/qHVh5B5vULsWNSOWABRp3Q2uxj3f/Y7knNL4WqnwOb/C8fIXi5ixyIiExLa3RFbnh0GLwcrXC4ox/2f/Y4/0q+LHYvaCQsg6nR2JF3Fg6sPIbdEjV5uttg2ZziCvVRixyIiE9TD1RY/PDcMvT3sUVCmwfS1h/Ht0QyxY1E7YAFEnUaNVod3dp7D898moapahzt6OuP7m7/dERE1xc1eia2zwzGhrweqtQJe+eE0Fu84wxlinRwLIOoU8kvVmLHuKP7zWxoA4LlR/vgyaghUVpYiJyOijsBaboFPHxmAhXf3AgB8lXAFU/6dwHFBnRgLIOrw9l/Iw/hPDuoHO69+dCBeGhcImVQidjQi6kAkEgnmjemJzx8PhZ3SAicyijBhxa+IPXPt9i+mDoeboTaCm6F2DFXVWiz95YJ+ZedAdzt8+sgA9HC1EzcYEXV4mdcrMO+/J5CUWQQAeGxoN7x6T29Yyy3EDUa3ZMjPbxZAjWABZPqSMovw0paTuJhbBgB4crgvXhoXAKWlTORkRNRZVGt1+HD3Raw5cAkA0M3JGu8/2A/h/tw82VSxAGolFkCmq0JTgw93X8T639OgEwBnWzn+9XB/jA7ghqZE1DZ+SynAS1tOIru4CgAwI7w7Xh4XCBsFW4NMDQugVmIBZJr2X8jD4v+dQeb1SgDAAwO88Pq9QXC0kYucjIg6u9KqasT8cgHfHKmdIu+hUuKfE3pjQl8PSCQcb2gqWAC1Egsg03Ipvwzv7DyH/cn5AAAvByu8e38wRrHVh4ja2W8pBVi07ZT+F7Fh/l3w5sQ+6OnGsYemgAVQK7EAMg3FldVYGZeCLw+lo0YnwFImQdRwX8wf0xO2bHomIpFUVWvx7wOX8Vl8KtQ1OlhIJXhsaHfMGd0DLnYKseOZNRZArcQCSFxl6hp8+XsaPj94GSVVtbs0jwl0xT8n9Iafi63I6YiIamVer8DbO89h97lcAIC1XIanRvhi1p1+sFdyDTIxsABqJRZA4qjUaPH14StYfeCSfmfmXm62ePWe3uzuIiKT9XtqAZbFXsDJrGIAgIO1JWbd4YfHw7uzEGpnLIBaiQVQ+yosU2NDwhVsTEjHjYpqAICvsw0WRPTEvf08uaAhEZk8QRCw62wOPth9Eal5tctz2Cks8Fh4d0QN94GrnVLkhOaBBVArsQBqH6l5ZVj/exq2HM+CuqZ2zx1vJyvMu6snHhjgBQsZFyonoo6lRqvDjqRsrDlwCSk3CyG5hRQPDPDCY0O7c2PmNsYCqJVYALUddY0WsWdysOlIBo6mXdcf79dVhWfu9MO4Pu4sfIiow9PpBMRdyMNn8ak4kVGkPz6gmwMeH9od9/T14MKtbYAFUCuxADIuQRBwNrsEO5KuYmviVf34HqkEuCvQFU+N8MNQPyeupUFEnY4gCPjjyg18lXAFsWeuoVpb+yPX0doS9/X3xOQBXhjg7cDvf0bCAqiVWAAZx+X8MvzvZDb+dzIbl/PL9cc9VEpMHeyNKYO84elgJWJCIqL2k1dahe+OZeKbIxn6VaUBwKeLNSYP8MJ9/T3hz5murcICqJVYALVMXUvP3vO52Hs+F2euluifU1hIMaa3Kx4Y0BWjAlzYzUVEZqtGq8NvqQXYfuIqdp3NRWW1Vv9cD1dbjA1yw9g+7ujnpYKUk0AMwgKolVgANV9JVTWOXL6OfRfysO9CLnJL1PrnZFIJRvRwxqQQT9wd5AY7TgclIqqnXF2D3edysO1ENg6lFqBG9+ePZDd7Be4KdMXwHs4Y5u8MJ277c1ssgFqJBVDTKjQ1OJZ+A4cuFeDwpUKcvlqMv/x/hbVchjt6OmNMbzeMCXRFF1uuikpE1BzFldWIT87D7nO5iL+Qh3KNtt7zfTztMaKHM4b1cMaAbg5cY6gRLIBaiQVQLZ1OQFphOZIyipCUWfs4f62k3m8oQO2aPXVFT5ivE2c2EBG1krpGi4RLhfg1pQC/pxbgQk5pveclEqCXqx0GdnfAwG6OGNjdEX7ONmY/mJoFUCuZYwGkrtHiUl45LuSUIDmnFOeuleBkZpF+K4q/8nKwwjD/Lgi/+fBQcSAzEVFbyiutQsKlQvyWUoDDaYX6zVj/yl5pgSBPe/T2sEeQR+2fPd1sobAwn19KWQC1UmcugEqqqpFeUI60gnKkF1QgNb8MyTkluJxf3qBlB6gdvBzspUKItwNCvB0woJsDujpai5CciIjq5JVW4URGERKv3EBixg2czCqG5uaCsn9lIZWgh6st/F1s4ediAz8XG/g61/69M3ahsQBqpY5cAFVqtMgursS1oir9nxnXK5BeWI70gnIU3lyDpzH2SgsEutsjwN0OgR526OflgEAPO1hyxhYRkUnT1OiQkleKc9klOH+tFOeuFeP8tVIUV1Y3+RpnWwV8na3R1dEang5KeDlYw8vRCl4OtQ8recdrOepwBdCqVavwr3/9Czk5Oejfvz9WrlyJIUOGNHn+999/j9dffx3p6eno2bMn3n//fdxzzz365wVBwJIlS7B27VoUFRVh+PDhWL16NXr27NmsPKZWAOl0Aoorq1FYrkZBmQaFZRr93wvK1MgtrkJ2cRWuFVeiqKLpL/Y6dV/0Pl1s4Otig943ix4PldLs+4+JiDoLQRCQXVyFC9dKkFZQjkv55bicX4a0gnLklapv+/ouNnK4q5RwsVPAxVZR+2fdw1YBV3slnG3lsFVYmMzPDkN+flu0U6Ymbd68GdHR0VizZg3CwsKwfPlyREZGIjk5Ga6uDXcAP3ToEKZPn46YmBjce++9+OabbzB58mQkJiYiODgYALBs2TKsWLECGzZsgK+vL15//XVERkbi3LlzUCrF25CuUqPF9QoNSiqrax9VNSjW/70aJZU1N/+s/bioohrXyzW4Xq5ptHuqKTZyGTwcrOChUsJTZYWujlbwcbaBr7MNunex5nR0IiIzIJFI9K05f1daVY20gnJcKazA1aJKXL1Rqf8z60YFyjVaFJZrbtlrUMdCKoGDtSVUVpZwsJbDwcoSKmtLOFjJ4WBtqX/OTmkBO6UlbBUWsFNawNFaDhuFeGWI6C1AYWFhGDx4MD799FMAgE6ng7e3N+bNm4dXXnmlwflTp05FeXk5du7cqT82dOhQhISEYM2aNRAEAZ6enli4cCFeeOEFAEBxcTHc3Nzw5ZdfYtq0abfN1FYtQB/vuYhP4lJa/HqVlSW62MrhbKNAF1s5utjK4WSjgJu9Ap4qK3g4KOGhsoK90nSqcSIi6lgEobbXIetGJfJL1bWPMvWff//Lx2XqhhNlmuvpEb547d4gIybvQC1AGo0Gx48fx6JFi/THpFIpIiIikJCQ0OhrEhISEB0dXe9YZGQktm/fDgBIS0tDTk4OIiIi9M+rVCqEhYUhISGhWQVQW7G3soRcJoW9lSXsrSygsrKEvdKy9mOlxc0/6z/XxVYOZ1sFHK3lkFtwLA4REbUtiURS25JjffuFFys1WhRXVqOoUoMb5dUortSgqKIaRZW1vRj6jyuqUaauQZm6BqVV1SitqhG9N0LUAqigoABarRZubm71jru5ueHChQuNviYnJ6fR83NycvTP1x1r6py/U6vVUKv/7A8tKSlp9LzWihrmg6dG+LbJtYmIiNqblVwGK7kM7irDh5eIPQSZTQoAYmJioFKp9A9vb+82eR/u6UJERFRL7KEaohZAzs7OkMlkyM3NrXc8NzcX7u7ujb7G3d39lufX/WnINRctWoTi4mL9IzMzs0X3Q0RERB2DqAWQXC5HaGgo4uLi9Md0Oh3i4uIQHh7e6GvCw8PrnQ8Ae/bs0Z/v6+sLd3f3eueUlJTgyJEjTV5ToVDA3t6+3oOIiIg6L9GnwUdHR2PmzJkYNGgQhgwZguXLl6O8vBxRUVEAgBkzZsDLywsxMTEAgOeffx4jR47Ehx9+iAkTJuDbb7/FH3/8gc8//xxAbZPaggUL8M4776Bnz576afCenp6YPHmyWLdJREREJkT0Amjq1KnIz8/H4sWLkZOTg5CQEMTGxuoHMWdkZEAq/bOhatiwYfjmm2/w2muv4dVXX0XPnj2xfft2/RpAAPDSSy+hvLwczzzzDIqKijBixAjExsaKugYQERERmQ7R1wEyRaa2EjQRERHdniE/vzkLjIiIiMwOCyAiIiIyOyyAiIiIyOywACIiIiKzwwKIiIiIzA4LICIiIjI7LICIiIjI7LAAIiIiIrMj+krQpqhubciSkhKRkxAREVFz1f3cbs4azyyAGlFaWgoA8Pb2FjkJERERGaq0tBQqleqW53ArjEbodDpkZ2fDzs4OEonEqNcuKSmBt7c3MjMzO+U2G7y/jq+z3yPvr+Pr7PfI+2s5QRBQWloKT0/PevuINoYtQI2QSqXo2rVrm76Hvb19p/zCrsP76/g6+z3y/jq+zn6PvL+WuV3LTx0OgiYiIiKzwwKIiIiIzA4LoHamUCiwZMkSKBQKsaO0Cd5fx9fZ75H31/F19nvk/bUPDoImIiIis8MWICIiIjI7LICIiIjI7LAAIiIiIrPDAoiIiIjMDgsgE6BWqxESEgKJRIKkpCSx4xjNxIkT0a1bNyiVSnh4eODxxx9Hdna22LGMJj09HU899RR8fX1hZWUFf39/LFmyBBqNRuxoRvPuu+9i2LBhsLa2hoODg9hxjGLVqlXw8fGBUqlEWFgYjh49KnYkozl48CDuu+8+eHp6QiKRYPv27WJHMpqYmBgMHjwYdnZ2cHV1xeTJk5GcnCx2LKNavXo1+vXrp18gMDw8HL/88ovYsdrM0qVLIZFIsGDBAlHenwWQCXjppZfg6ekpdgyjGz16NL777jskJydj69atuHTpEh566CGxYxnNhQsXoNPp8O9//xtnz57Fxx9/jDVr1uDVV18VO5rRaDQaPPzww5g9e7bYUYxi8+bNiI6OxpIlS5CYmIj+/fsjMjISeXl5YkczivLycvTv3x+rVq0SO4rRHThwAHPmzMHhw4exZ88eVFdXY+zYsSgvLxc7mtF07doVS5cuxfHjx/HHH3/grrvuwqRJk3D27FmxoxndsWPH8O9//xv9+vUTL4RAovr555+FwMBA4ezZswIA4cSJE2JHajM7duwQJBKJoNFoxI7SZpYtWyb4+vqKHcPo1q9fL6hUKrFjtNqQIUOEOXPm6D/WarWCp6enEBMTI2KqtgFA2LZtm9gx2kxeXp4AQDhw4IDYUdqUo6Oj8J///EfsGEZVWloq9OzZU9izZ48wcuRI4fnnnxclB1uARJSbm4tZs2Zh48aNsLa2FjtOm7p+/To2bdqEYcOGwdLSUuw4baa4uBhOTk5ix6BGaDQaHD9+HBEREfpjUqkUERERSEhIEDEZtURxcTEAdNr/b1qtFt9++y3Ky8sRHh4udhyjmjNnDiZMmFDv/6IYWACJRBAEPPHEE3j22WcxaNAgseO0mZdffhk2Njbo0qULMjIysGPHDrEjtZnU1FSsXLkS//d//yd2FGpEQUEBtFot3Nzc6h13c3NDTk6OSKmoJXQ6HRYsWIDhw4cjODhY7DhGdfr0adja2kKhUODZZ5/Ftm3bEBQUJHYso/n222+RmJiImJgYsaOwADK2V155BRKJ5JaPCxcuYOXKlSgtLcWiRYvEjmyQ5t5fnRdffBEnTpzA7t27IZPJMGPGDAgmvvi4ofcIAFevXsW4cePw8MMPY9asWSIlb56W3B+RKZkzZw7OnDmDb7/9VuwoRhcQEICkpCQcOXIEs2fPxsyZM3Hu3DmxYxlFZmYmnn/+eWzatAlKpVLsONwKw9jy8/NRWFh4y3P8/PwwZcoU/Pjjj5BIJPrjWq0WMpkMjz76KDZs2NDWUVukufcnl8sbHM/KyoK3tzcOHTpk0k26ht5jdnY2Ro0ahaFDh+LLL7+EVGrav1e05HP45ZdfYsGCBSgqKmrjdG1Ho9HA2toaW7ZsweTJk/XHZ86ciaKiok7XOimRSLBt27Z699oZzJ07Fzt27MDBgwfh6+srdpw2FxERAX9/f/z73/8WO0qrbd++Hffffz9kMpn+mFarhUQigVQqhVqtrvdcW7Not3cyEy4uLnBxcbnteStWrMA777yj/zg7OxuRkZHYvHkzwsLC2jJiqzT3/hqj0+kA1E77N2WG3OPVq1cxevRohIaGYv369SZf/ACt+xx2ZHK5HKGhoYiLi9MXBTqdDnFxcZg7d6644ei2BEHAvHnzsG3bNsTHx5tF8QPUfo2a+vfM5hozZgxOnz5d71hUVBQCAwPx8ssvt2vxA7AAEk23bt3qfWxrawsA8Pf3R9euXcWIZFRHjhzBsWPHMGLECDg6OuLSpUt4/fXX4e/vb9KtP4a4evUqRo0ahe7du+ODDz5Afn6+/jl3d3cRkxlPRkYGrl+/joyMDGi1Wv06VT169NB/zXYk0dHRmDlzJgYNGoQhQ4Zg+fLlKC8vR1RUlNjRjKKsrAypqan6j9PS0pCUlAQnJ6cG33M6mjlz5uCbb77Bjh07YGdnpx+3pVKpYGVlJXI641i0aBHGjx+Pbt26obS0FN988w3i4+Oxa9cusaMZhZ2dXYMxW3VjREUZyyXK3DNqIC0trVNNgz916pQwevRowcnJSVAoFIKPj4/w7LPPCllZWWJHM5r169cLABp9dBYzZ85s9P72798vdrQWW7lypdCtWzdBLpcLQ4YMEQ4fPix2JKPZv39/o5+vmTNnih2t1Zr6v7Z+/XqxoxnNk08+KXTv3l2Qy+WCi4uLMGbMGGH37t1ix2pTYk6D5xggIiIiMjumP2CBiIiIyMhYABEREZHZYQFEREREZocFEBEREZkdFkBERERkdlgAERERkdlhAURERERmhwUQERERmR0WQERERGR2WAARERGR2WEBRESdXn5+Ptzd3fHee+/pjx06dAhyuRxxcXEiJiMisXAvMCIyCz///DMmT56MQ4cOISAgACEhIZg0aRI++ugjsaMRkQhYABGR2ZgzZw727t2LQYMG4fTp0zh27BgUCoXYsYhIBCyAiMhsVFZWIjg4GJmZmTh+/Dj69u0rdiQiEgnHABGR2bh06RKys7Oh0+mQnp4udhwiEhFbgIjILGg0GgwZMgQhISEICAjA8uXLcfr0abi6uoodjYhEwAKIiMzCiy++iC1btuDkyZOwtbXFyJEjoVKpsHPnTrGjEZEI2AVGRJ1efHw8li9fjo0bN8Le3h5SqRQbN27Er7/+itWrV4sdj4hEwBYgIiIiMjtsASIiIiKzwwKIiIiIzA4LICIiIjI7LICIiIjI7LAAIiIiIrPDAoiIiIjMDgsgIiIiMjssgIiIiMjssAAiIiIis8MCiIiIiMwOCyAiIiIyOyyAiIiIyOz8P70eZndgjAzGAAAAAElFTkSuQmCC",
      "text/plain": [
       "<Figure size 640x480 with 1 Axes>"
      ]
     },
     "metadata": {},
     "output_type": "display_data"
    }
   ],
   "source": [
    "import numpy as np\n",
    "import matplotlib.pyplot as plt\n",
    "from scipy.stats import t\n",
    "\n",
    "# Set the degrees of freedom\n",
    "df = 10\n",
    "\n",
    "# Create a range of values for the x-axis\n",
    "x = np.linspace(-4, 4, 1000)\n",
    "\n",
    "# Calculate the y-values for the t-distribution\n",
    "y = t.pdf(x, df)\n",
    "\n",
    "# Create the plot\n",
    "plt.plot(x, y)\n",
    "plt.title(\"Student's t-Distribution (df=10)\")\n",
    "plt.xlabel(\"x\")\n",
    "plt.ylabel(\"Probability density\")\n",
    "plt.show()"
   ]
  },
  {
   "attachments": {},
   "cell_type": "markdown",
   "metadata": {},
   "source": [
    "10.  **Write a Python program to calculate the two-sample t-test for independent samples, given two random samples of equal size and a null hypothesis that the population means are equal.**\n",
    "\n",
    "Python code to calculate the two-sample t-test for independent samples:"
   ]
  },
  {
   "cell_type": "code",
   "execution_count": 29,
   "metadata": {},
   "outputs": [
    {
     "name": "stdout",
     "output_type": "stream",
     "text": [
      "t-statistic: -6.22\n",
      "p-value: 0.00\n"
     ]
    }
   ],
   "source": [
    "import numpy as np\n",
    "from scipy.stats import ttest_ind\n",
    "\n",
    "# Generate two random samples of equal size\n",
    "sample1 = np.random.normal(10, 2, 100)\n",
    "sample2 = np.random.normal(12, 2, 100)\n",
    "\n",
    "# Calculate the t-statistic and p-value using a two-sample t-test\n",
    "t_stat, p_val = ttest_ind(sample1, sample2)\n",
    "\n",
    "# Print the results\n",
    "print(\"t-statistic: {:.2f}\".format(t_stat))\n",
    "print(\"p-value: {:.2f}\".format(p_val))"
   ]
  },
  {
   "attachments": {},
   "cell_type": "markdown",
   "metadata": {},
   "source": [
    "11. **What is Student’s t distribution? When to use the t-Distribution.**"
   ]
  },
  {
   "attachments": {},
   "cell_type": "markdown",
   "metadata": {},
   "source": [
    "Student's t-distribution is a probability distribution used in statistical inference when the sample size is small or the population standard deviation is unknown. It is similar to the normal distribution but with heavier tails. It is used to test hypotheses about the mean of a normally distributed population when the sample size is small and to construct confidence intervals when the population standard deviation is unknown."
   ]
  },
  {
   "attachments": {},
   "cell_type": "markdown",
   "metadata": {},
   "source": [
    "12. **What is t-statistic? State the formula for t-statistic.** "
   ]
  },
  {
   "attachments": {},
   "cell_type": "markdown",
   "metadata": {},
   "source": [
    "The t-statistic is a measure of how far the sample mean deviates from the hypothesized population mean, in units of the standard error. \n",
    "\n",
    "The formula for t-statistic is:\n",
    "\n",
    "$t = \\frac{(x̄ - μ)}{(s / √n)}$\n",
    "\n",
    "where x̄ is the sample mean, μ is the hypothesized population mean, s is the sample standard deviation, and n is the sample size."
   ]
  },
  {
   "attachments": {},
   "cell_type": "markdown",
   "metadata": {},
   "source": [
    "13. **A coffee shop owner wants to estimate the average daily revenue for their shop. They take a random sample of 50 days and find the sample mean revenue to be $500 with a standard deviation of $50. Estimate the population mean revenue with a 95% confidence interval.** "
   ]
  },
  {
   "attachments": {},
   "cell_type": "markdown",
   "metadata": {},
   "source": [
    "Using the sample mean revenue of $\$$500, sample size of 50, and standard deviation of $\$$50, the standard error is:\n",
    "\n",
    "$ SE = \\frac {50}{√50} = 7.07 $\n",
    "\n",
    "Using a 95% confidence level and a t-distribution with 49 degrees of freedom (since n-1 = 50-1 = 49), we can find the critical value of t to be 2.009. The 95% confidence interval for the population mean revenue is:\n",
    "\n",
    "$ \\$500 \\pm (2.009 * \\$7.07) = (\\$485.25, \\$514.75)$\n",
    "\n",
    "So we are 95% confident that the true average daily revenue for the coffee shop is between $485.25 and $514.75."
   ]
  },
  {
   "attachments": {},
   "cell_type": "markdown",
   "metadata": {},
   "source": [
    "14. **A researcher hypothesizes that a new drug will decrease blood pressure by 10 mmHg. They conduct a clinical trial with 100 patients and find that the sample mean decrease in blood pressure is 8 mmHg with a standard deviation of 3 mmHg. Test the hypothesis with a significance level of 0.05.**"
   ]
  },
  {
   "attachments": {},
   "cell_type": "markdown",
   "metadata": {},
   "source": [
    "The **null hypothesis** is that the new drug does not decrease blood pressure by 10 mmHg, i.e., H0: μ = 0. The alternative hypothesis is that the new drug decreases blood pressure by 10 mmHg, i.e., Ha: μ < 10. Using a t-test with 99 degrees of freedom (since n-1 = 100-1 = 99) and a significance level of 0.05, we can find the critical value of t to be -1.660.\n",
    "\n",
    "The t-statistic is:\n",
    "\n",
    "$ t = \\frac{(8 - 10)}{\\frac{3}{√100}} = -6.67$\n",
    "\n",
    "Since -6.67 < -1.660, we reject the null hypothesis and conclude that the new drug does decrease blood pressure by more than 10 mmHg."
   ]
  },
  {
   "attachments": {},
   "cell_type": "markdown",
   "metadata": {},
   "source": [
    "15. **An electronics company produces a certain type of product with a mean weight of 5 pounds and a standard deviation of 0.5 pounds. A random sample of 25 products is taken, and the sample mean weight is found to be 4.8 pounds. Test the hypothesis that the true mean weight of the products is less than 5 pounds with a significance level of 0.01.** "
   ]
  },
  {
   "attachments": {},
   "cell_type": "markdown",
   "metadata": {},
   "source": [
    "The **null hypothesis** is that the true mean weight of the products is 5 pounds, i.e., $H_0: \\mu = 5$. The alternative hypothesis is that the true mean weight of the products is less than 5 pounds, i.e., $H_a: \\mu < 5$. Using a t-test with 24 degrees of freedom (since n-1 = 25-1 = 24) and a significance level of 0.01, we can find the critical value of t to be -2.492.\n",
    "\n",
    "The t-statistic is:\n",
    "\n",
    "$ t = \\frac{(4.8 - 5)}{\\frac{0.5}{√25}} = -2 $\n",
    "\n",
    "Since $(-2 > -2.492)$, we fail to reject the null hypothesis and conclude that there is not enough evidence to support the claim that the true mean weight of the products is less than 5 pounds."
   ]
  },
  {
   "attachments": {},
   "cell_type": "markdown",
   "metadata": {},
   "source": [
    "16. **Two groups of students are given different study materials to prepare for a test. The first group (n1 = 30) has a mean score of 80 with a standard deviation of 10, and the second group (n2 = 40) has a mean score of 75 with a standard deviation of 8. Test the hypothesis that the population means for the two groups are equal with a significance level of 0.01.** "
   ]
  },
  {
   "attachments": {},
   "cell_type": "markdown",
   "metadata": {},
   "source": [
    "To test the hypothesis that the population means for the two groups are equal, we can use a two-sample t-test for independent samples. The null and alternative hypotheses for this test are:\n",
    "\n",
    "**Null hypothesis $(H_0)$ :** The population means for the two groups are equal.\n",
    "\n",
    "**Alternative hypothesis $(H_A)$ :** The population means for the two groups are not equal.\n",
    "\n",
    "We can use a significance level of 0.01, which corresponds to a confidence level of 99%. Since the sample sizes are relatively large (n1 = 30 and n2 = 40), we can assume that the population variances are approximately equal and use the pooled standard deviation to calculate the test statistic.\n",
    "\n",
    "The formula for the test statistic is:\n",
    "\n",
    "$t = \\frac{\\bar{x}_1 - \\bar{x}_2}{s_p \\sqrt{\\frac{1}{n_1} + \\frac{1}{n_2}}}$\n",
    "\n",
    "where:\n",
    "\n",
    "x1 and x2 are the sample means for the two groups,\n",
    "sp is the pooled standard deviation, calculated as:\n",
    "\n",
    "$s_p = \\sqrt{\\frac{(n_1 - 1)s_1^2 + (n_2 - 1)s_2^2}{n_1 + n_2 - 2}}$\n",
    "\n",
    "s1 and s2 are the sample standard deviations for the two groups, and\n",
    "n1 and n2 are the sample sizes for the two groups.\n",
    "\n",
    "Using the given sample data, we can calculate the test statistic as:\n",
    "\n",
    "$t = \\frac{(\\bar{x}_1 - \\bar{x}_2)}{s_p \\sqrt{\\frac{1}{n_1} + \\frac{1}{n_2}}} = \\frac{(80 - 75)}{\\sqrt{\\frac{(29\\cdot10^2) + (39\\cdot8^2)}{67}} \\cdot \\sqrt{\\frac{1}{30} + \\frac{1}{40}}} = 2.27$\n",
    "\n",
    "The degrees of freedom for the test are calculated as:\n",
    "\n",
    "$df = n_1 + n_2 - 2 = 30 + 40 - 2 = 68$\n",
    "\n",
    "We can find the critical value for a two-tailed test with a significance level of 0.01 and 68 degrees of freedom using a t-distribution table or a statistical software package. The critical value is approximately ±2.64.\n",
    "\n",
    "Since the calculated test statistic (2.27) is less than the critical value (-2.64 or +2.64), we fail to reject the null hypothesis. There is not enough evidence to conclude that the population means for the two groups are different at the 0.01 significance level."
   ]
  },
  {
   "attachments": {},
   "cell_type": "markdown",
   "metadata": {},
   "source": [
    "17. **A marketing company wants to estimate the average number of ads watched by viewers during a TV program. They take a random sample of 50 viewers and find that the sample mean is 4 with a standard deviation of 1.5. Estimate the population mean with a 99% confidence interval.**"
   ]
  },
  {
   "attachments": {},
   "cell_type": "markdown",
   "metadata": {},
   "source": [
    "**Given :**\n",
    "\n",
    "Sample size n = 50\n",
    "\n",
    "Sample mean $\\bar{x}$ = 4\n",
    "\n",
    "Sample standard deviation s = 1.5\n",
    "\n",
    "Confidence level = 99%\n",
    "\n",
    "We can use the t-distribution to construct a confidence interval for the population mean $\\mu$ as follows:\n",
    "\n",
    "$t_{\\alpha/2, n-1} \\frac{s}{\\sqrt{n}}$\n",
    "\n",
    "Where $t_{\\alpha/2, n-1}$ is the t-value from the t-distribution with n-1 degrees of freedom corresponding to the given confidence level and $\\alpha$ is the significance level, which is 1% in this case. \n",
    "\n",
    "We can calculate $t_{\\alpha/2, n-1}$ as follows:\n",
    "\n",
    "$t_{\\alpha/2, n-1} = t_{0.005, 49}$\n",
    "\n",
    "Using a t-table or a calculator, we can find that $t_{0.005, 49} = 2.678$.\n",
    "\n",
    "Substituting the given values in the formula, we get:\n",
    "\n",
    "$4 \\pm 2.678 \\frac{1.5}{\\sqrt{50}}$\n",
    "\n",
    "Simplifying the expression, we get:\n",
    "\n",
    "$4 \\pm 0.627$\n",
    "\n",
    "Therefore, the 99% confidence interval for the population mean $\\mu$ is:\n",
    "\n",
    "$(3.373, 4.627)$\n",
    "\n",
    "This means that we are 99% confident that the true population mean lies between 3.373 and 4.627."
   ]
  }
 ],
 "metadata": {
  "kernelspec": {
   "display_name": "nav",
   "language": "python",
   "name": "python3"
  },
  "language_info": {
   "codemirror_mode": {
    "name": "ipython",
    "version": 3
   },
   "file_extension": ".py",
   "mimetype": "text/x-python",
   "name": "python",
   "nbconvert_exporter": "python",
   "pygments_lexer": "ipython3",
   "version": "3.11.3"
  },
  "orig_nbformat": 4
 },
 "nbformat": 4,
 "nbformat_minor": 2
}
