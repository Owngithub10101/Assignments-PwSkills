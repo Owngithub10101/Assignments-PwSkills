{
  "nbformat": 4,
  "nbformat_minor": 0,
  "metadata": {
    "colab": {
      "provenance": []
    },
    "kernelspec": {
      "name": "python3",
      "display_name": "Python 3"
    },
    "language_info": {
      "name": "python"
    }
  },
  "cells": [
    {
      "cell_type": "markdown",
      "source": [
        "# Assignment : 06(5th Feb'2023)"
      ],
      "metadata": {
        "id": "Kj5ax9MPW2Jf"
      }
    },
    {
      "cell_type": "markdown",
      "source": [
        "1. * Class and Object are two fundamental concepts in Object-Oriented Programming (OOP).\n",
        "\n",
        "  * A Class is a blueprint for creating objects. It defines the attributes and behaviors of an object. A Class acts as a template for creating multiple objects with similar properties and methods.\n",
        "\n",
        "  * An Object is an instance of a class. When you create an object from a class, you are creating an instance of that class. Each object created from a class has its own attributes and behaviors."
      ],
      "metadata": {
        "id": "E1GZWhToXGa-"
      }
    },
    {
      "cell_type": "markdown",
      "source": [
        "**For example :** Consider a `Car` class that defines the properties of a car such as make, model, year, and speed. The class also defines the behavior of a car such as starting the engine, accelerating, and braking."
      ],
      "metadata": {
        "id": "O_OW41rLfRua"
      }
    },
    {
      "cell_type": "code",
      "source": [
        "class Car:\n",
        "    def __init__(self, make, model, year):\n",
        "        self.make = make\n",
        "        self.model = model\n",
        "        self.year = year\n",
        "        self.speed = 0\n",
        "    \n",
        "    def start_engine(self):\n",
        "        print(f'{self.make} {self.model} engine started.')\n",
        "    \n",
        "    def accelerate(self):\n",
        "        self.speed += 10\n",
        "        print(f'{self.make} {self.model} accelerated to {self.speed} mph.')\n",
        "    \n",
        "    def brake(self):\n",
        "        self.speed -= 10\n",
        "        print(f'{self.make} {self.model} slowed down to {self.speed} mph.')\n"
      ],
      "metadata": {
        "id": "x2dGNccofj3C"
      },
      "execution_count": 1,
      "outputs": []
    },
    {
      "cell_type": "markdown",
      "source": [
        "* Now, you can create multiple objects from the Car class, each with its own unique make, model, and year, and each can start the engine, accelerate, and brake independently."
      ],
      "metadata": {
        "id": "ejWiTO-9fowl"
      }
    },
    {
      "cell_type": "code",
      "source": [
        "car1 = Car('Toyota', 'Camry', 2020)\n",
        "car2 = Car('Honda', 'Civic', 2019)\n",
        "\n",
        "car1.start_engine()\n",
        "car2.start_engine()\n",
        "\n",
        "car1.accelerate()\n",
        "car2.accelerate()\n"
      ],
      "metadata": {
        "colab": {
          "base_uri": "https://localhost:8080/"
        },
        "id": "H6l77qW8fsD6",
        "outputId": "7d388a7a-e1f2-414a-f644-c72ffb72ae99"
      },
      "execution_count": 2,
      "outputs": [
        {
          "output_type": "stream",
          "name": "stdout",
          "text": [
            "Toyota Camry engine started.\n",
            "Honda Civic engine started.\n",
            "Toyota Camry accelerated to 10 mph.\n",
            "Honda Civic accelerated to 10 mph.\n"
          ]
        }
      ]
    },
    {
      "cell_type": "markdown",
      "source": [
        "2. The four pillars of Object-Oriented Programming(OOP) are :\n",
        "\n",
        "* **Abstraction** : Hides the implementation details and shows only the necessary information to the user. This helps in reducing complexity and improving code maintainability.\n",
        "\n",
        "* **Encapsulation** : Wraps the data and methods within a single entity and protects the data from being accessed directly by external entities. This ensures the data is used in a controlled manner and provides security to the code.\n",
        "\n",
        "* **Inheritance** : Provides the capability to create new classes from existing classes, thereby promoting code reuse. The new class inherits the attributes and behaviors of the parent class.\n",
        "\n",
        "* **Polymorphism** : Allows objects of different classes to be treated as objects of the same class. This provides a way to write code that can handle objects of different classes in a similar manner, making the code more flexible and maintainable."
      ],
      "metadata": {
        "id": "d6z8G4ccf7K7"
      }
    },
    {
      "cell_type": "markdown",
      "source": [
        "3. The `__init__()` function is a special method in Python classes and is used to initialize an object's state when it is created. The `__init__()` method is automatically called when an object is created from a class and it allows the class to initialize the attributes of the newly created object."
      ],
      "metadata": {
        "id": "l3F0A1n4gvDr"
      }
    },
    {
      "cell_type": "markdown",
      "source": [
        "* Here is an example to illustrate the use of the __init__() function:"
      ],
      "metadata": {
        "id": "mpz1wp4tg37L"
      }
    },
    {
      "cell_type": "code",
      "source": [
        "class Person:\n",
        "    def __init__(self, name, age):\n",
        "        self.name = name\n",
        "        self.age = age\n",
        "\n",
        "var = Person(\"abc\", 30)\n",
        "\n",
        "print(var.name) \n",
        "print(var.age)"
      ],
      "metadata": {
        "colab": {
          "base_uri": "https://localhost:8080/"
        },
        "id": "9ZzayOMCgbS2",
        "outputId": "d89648c0-e56c-41af-a15c-c2ef1820476d"
      },
      "execution_count": 5,
      "outputs": [
        {
          "output_type": "stream",
          "name": "stdout",
          "text": [
            "abc\n",
            "30\n"
          ]
        }
      ]
    },
    {
      "cell_type": "markdown",
      "source": [
        "4. The `self` keyword is used in Object-Oriented Programming (OOP) in Python to refer to the instance of the class that is being operated on. When a method is called on an object, the `self` parameter is used to pass a reference to the instance of the class to the method, allowing the method to access and modify the attributes of the object."
      ],
      "metadata": {
        "id": "YY1ytHs1hJon"
      }
    },
    {
      "cell_type": "markdown",
      "source": [
        "* For example, consider the following code :"
      ],
      "metadata": {
        "id": "myzyaba8hjrt"
      }
    },
    {
      "cell_type": "code",
      "source": [
        "class Person:\n",
        "    def __init__(self, name, age):\n",
        "        self.name = name\n",
        "        self.age = age\n",
        "    \n",
        "    def update_name(self, new_name):\n",
        "        self.name = new_name\n",
        "\n",
        "person = Person(\"John\", 30)\n",
        "\n",
        "person.update_name(\"Jane\")\n",
        "\n",
        "print(person.name) "
      ],
      "metadata": {
        "colab": {
          "base_uri": "https://localhost:8080/"
        },
        "id": "soxCzTo5hlC9",
        "outputId": "a606def1-0e6c-4b8d-d403-db41952107af"
      },
      "execution_count": 6,
      "outputs": [
        {
          "output_type": "stream",
          "name": "stdout",
          "text": [
            "Jane\n"
          ]
        }
      ]
    },
    {
      "cell_type": "markdown",
      "source": [
        "5. Inheritance is defined as the mechanism of inheriting the properties of the base class to the child class.\n",
        "There are several types of inheritance in OOP, including :"
      ],
      "metadata": {
        "id": "IBBO6Nhkh2N9"
      }
    },
    {
      "cell_type": "markdown",
      "source": [
        "* **Single Inheritance :**\n",
        "Single inheritance enables a derived class to inherit properties from a single parent class, thus enabling code reusability and the addition of new features to existing code."
      ],
      "metadata": {
        "id": "EVLWBEyVkCI3"
      }
    },
    {
      "cell_type": "code",
      "source": [
        "# Base class\n",
        "class Parent:\n",
        "\tdef func1(self):\n",
        "\t\tprint(\"This function is in parent class.\")\n",
        "\n",
        "# Derived class\n",
        "class Child(Parent):\n",
        "\tdef func2(self):\n",
        "\t\tprint(\"This function is in child class.\")\n",
        "\n",
        "object = Child()\n",
        "object.func1()\n",
        "object.func2()\n"
      ],
      "metadata": {
        "colab": {
          "base_uri": "https://localhost:8080/"
        },
        "id": "v7gt3O_5kRf_",
        "outputId": "5fd2c206-336a-46a6-8323-8d43d4794d71"
      },
      "execution_count": 9,
      "outputs": [
        {
          "output_type": "stream",
          "name": "stdout",
          "text": [
            "This function is in parent class.\n",
            "This function is in child class.\n"
          ]
        }
      ]
    },
    {
      "cell_type": "markdown",
      "source": [
        "* **Multiple Inheritance :** \n",
        "When a class can be derived from more than one base class this type of inheritance is called multiple inheritances. In multiple inheritances, all the features of the base classes are inherited into the derived class. "
      ],
      "metadata": {
        "id": "HU0onxk3kboS"
      }
    },
    {
      "cell_type": "code",
      "source": [
        "# Base class1\n",
        "class Mother:\n",
        "\tmothername = \"\"\n",
        "\tdef mother(self):\n",
        "\t\tprint(self.mothername)\n",
        "\n",
        "# Base class2\n",
        "class Father:\n",
        "\tfathername = \"\"\n",
        "\tdef father(self):\n",
        "\t\tprint(self.fathername)\n",
        "\n",
        "# Derived class\n",
        "class Son(Mother, Father):\n",
        "\tdef parents(self):\n",
        "\t\tprint(\"Father :\", self.fathername)\n",
        "\t\tprint(\"Mother :\", self.mothername)\n",
        "\n",
        "\n",
        "s1 = Son()\n",
        "s1.fathername = \"RAM\"\n",
        "s1.mothername = \"SITA\"\n",
        "s1.parents()\n"
      ],
      "metadata": {
        "colab": {
          "base_uri": "https://localhost:8080/"
        },
        "id": "JzGzzqXqkrxv",
        "outputId": "aa268f48-e066-4315-dbac-5500f7c05e8d"
      },
      "execution_count": 10,
      "outputs": [
        {
          "output_type": "stream",
          "name": "stdout",
          "text": [
            "Father : RAM\n",
            "Mother : SITA\n"
          ]
        }
      ]
    },
    {
      "cell_type": "markdown",
      "source": [
        "* **Multilevel Inheritance :**\n",
        "In multilevel inheritance, features of the base class and the derived class are further inherited into the new derived class. This is similar to a relationship representing a child and a grandfather."
      ],
      "metadata": {
        "id": "e2J15oYBk22s"
      }
    },
    {
      "cell_type": "code",
      "source": [
        "# Base class\n",
        "class Grandfather:\n",
        "\tdef __init__(self, grandfathername):\n",
        "\t\tself.grandfathername = grandfathername\n",
        "\n",
        "# Intermediate class\n",
        "class Father(Grandfather):\n",
        "\tdef __init__(self, fathername, grandfathername):\n",
        "\t\tself.fathername = fathername\n",
        "\n",
        "\t\t# invoking constructor of Grandfather class\n",
        "\t\tGrandfather.__init__(self, grandfathername)\n",
        "\n",
        "# Derived class\n",
        "class Son(Father):\n",
        "\tdef __init__(self, sonname, fathername, grandfathername):\n",
        "\t\tself.sonname = sonname\n",
        "\n",
        "\t\t# invoking constructor of Father class\n",
        "\t\tFather.__init__(self, fathername, grandfathername)\n",
        "\n",
        "\tdef print_name(self):\n",
        "\t\tprint('Grandfather name :', self.grandfathername)\n",
        "\t\tprint(\"Father name :\", self.fathername)\n",
        "\t\tprint(\"Son name :\", self.sonname)\n",
        "\n",
        "s1 = Son('Prince', 'Rampal', 'Lal mani')\n",
        "print(s1.grandfathername)\n",
        "s1.print_name()\n"
      ],
      "metadata": {
        "colab": {
          "base_uri": "https://localhost:8080/"
        },
        "id": "W-boXTrmlByg",
        "outputId": "95ed50aa-4ba1-4cc0-f01f-3f4d13407688"
      },
      "execution_count": 11,
      "outputs": [
        {
          "output_type": "stream",
          "name": "stdout",
          "text": [
            "Lal mani\n",
            "Grandfather name : Lal mani\n",
            "Father name : Rampal\n",
            "Son name : Prince\n"
          ]
        }
      ]
    },
    {
      "cell_type": "markdown",
      "source": [
        "* **Hierarchical Inheritance :**\n",
        "When more than one derived class are created from a single base this type of inheritance is called hierarchical inheritance. In this program, we have a parent (base) class and two child (derived) classes."
      ],
      "metadata": {
        "id": "h0s8YLEYlXLn"
      }
    },
    {
      "cell_type": "code",
      "source": [
        "# Base class\n",
        "class Parent:\n",
        "\tdef func1(self):\n",
        "\t\tprint(\"This function is in parent class.\")\n",
        "\n",
        "# Derived class1\n",
        "class Child1(Parent):\n",
        "\tdef func2(self):\n",
        "\t\tprint(\"This function is in child 1.\")\n",
        "\n",
        "# Derivied class2\n",
        "class Child2(Parent):\n",
        "\tdef func3(self):\n",
        "\t\tprint(\"This function is in child 2.\")\n",
        "\n",
        "\n",
        "object1 = Child1()\n",
        "object2 = Child2()\n",
        "object1.func1()\n",
        "object1.func2()\n",
        "object2.func1()\n",
        "object2.func3()\n"
      ],
      "metadata": {
        "colab": {
          "base_uri": "https://localhost:8080/"
        },
        "id": "DNhwc1_Vle0_",
        "outputId": "4f8ae70e-e1ac-43b0-9548-310ec06f98e5"
      },
      "execution_count": 12,
      "outputs": [
        {
          "output_type": "stream",
          "name": "stdout",
          "text": [
            "This function is in parent class.\n",
            "This function is in child 1.\n",
            "This function is in parent class.\n",
            "This function is in child 2.\n"
          ]
        }
      ]
    },
    {
      "cell_type": "markdown",
      "source": [
        "* **Hybrid Inheritance :** \n",
        "Inheritance consisting of multiple types of inheritance is called hybrid inheritance."
      ],
      "metadata": {
        "id": "AOTzJk0alnOh"
      }
    },
    {
      "cell_type": "code",
      "source": [
        "class School:\n",
        "\tdef func1(self):\n",
        "\t\tprint(\"This function is in school.\")\n",
        "\n",
        "\n",
        "class Student1(School):\n",
        "\tdef func2(self):\n",
        "\t\tprint(\"This function is in student 1. \")\n",
        "\n",
        "\n",
        "class Student2(School):\n",
        "\tdef func3(self):\n",
        "\t\tprint(\"This function is in student 2.\")\n",
        "\n",
        "\n",
        "class Student3(Student1, School):\n",
        "\tdef func4(self):\n",
        "\t\tprint(\"This function is in student 3.\")\n",
        "\n",
        "\n",
        "object = Student3()\n",
        "object.func1()\n",
        "object.func2()\n"
      ],
      "metadata": {
        "colab": {
          "base_uri": "https://localhost:8080/"
        },
        "id": "QmZTXy6zluOc",
        "outputId": "bb1b32c1-0a96-4edc-81f7-f0330ed9af23"
      },
      "execution_count": 13,
      "outputs": [
        {
          "output_type": "stream",
          "name": "stdout",
          "text": [
            "This function is in school.\n",
            "This function is in student 1. \n"
          ]
        }
      ]
    }
  ]
}