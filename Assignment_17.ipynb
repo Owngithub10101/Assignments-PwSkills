{
  "cells": [
    {
      "cell_type": "markdown",
      "metadata": {
        "id": "RlNfufvLjfAv"
      },
      "source": [
        "# Assignment : 17(18th Feb'2023)"
      ]
    },
    {
      "cell_type": "markdown",
      "metadata": {
        "id": "l6ScYe_yZ9nH"
      },
      "source": [
        "1. An API is a communication interface that allows two separate software components to share data. An API operates as a bridge between internal and external software operations, allowing for a fluid interchange of data that frequently passes undetected by the end-user. \n",
        "  * Weather Snippets\n",
        "  * Log-in Using XYZ\n",
        "  * Pay with PayPal\n",
        "  * Twitter Bots\n",
        "  * Travel Booking\n",
        "  * Google Maps\n",
        "  * Okta\n"
      ]
    },
    {
      "cell_type": "markdown",
      "metadata": {
        "id": "MJS7WpeOawLV"
      },
      "source": [
        "2. Advantages and Disadvantages of using API :\n",
        "* **ADVANTAGES :** \n",
        "  * Increased Visibility and Traffic :- First, it allows you to share your data and functionality with a broader audience, increasing traffic and visibility for your website or app.\n",
        "\n",
        "  * Seamless Integration :- It makes it easy to integrate with other applications and services, saving you time and money.\n",
        "\n",
        "  * Increased Efficiency :- It allows you to access data and functionality without navigating multiple menus or screens. This can speed up the development process and make your app or website more user-friendly.\n",
        "\n",
        "  * Easier Maintenance :- It reduces the amount of work needed on the back-end, making maintenance and updates more effortless and less time-consuming.\n",
        "\n",
        "  * Reduced Costs :- It allows developers to reuse code and functionality in multiple applications, saving time and money.\n",
        "\n",
        "  * Improved Customer Experience :- It makes it easier for users to access your data and functionality across multiple devices or platforms, improving the user experience and increasing customer satisfaction.\n",
        "\n",
        "* **DISADVANTAGES :**\n",
        "  * Increased Complexity :-  they can be complex and challenging to use, making them challenging for novice developers.\n",
        "\n",
        "  * Limited Functionality :- They may not have all the functionality you need, requiring additional development work.\n",
        "\n",
        "  * Dependency on Third Party Services :- If it depends on a third-party service, your application will also be unavailable.\n",
        "\n",
        "  * Security and Privacy Risks :- They can pose security and privacy risks if they’re not implemented correctly. Therefore, it’s essential to carefully consider these risks before using them in your application.| "
      ]
    },
    {
      "cell_type": "markdown",
      "metadata": {
        "id": "E9WpetoSchzB"
      },
      "source": [
        "3. Differentiate between API and Web API :\n",
        "* A web API is an application programming interface for either a web server or a web browser. It is a web development concept, usually limited to a web application's client-side (including any web frameworks being used), and thus usually does not include web server or browser implementation details such as SAPIs or APIs unless publicly accessible by a remote web application.\n",
        "\n",
        "* Both APIs and web API are technologies that enable the transfer of data between separate software applications. API is an interface that exposes an application's data to outside software, whereas web applications are one type of API with stricter requirements. These requirements include network communication, SOAP as the primary protocol, and less accessibility for the public. \n",
        "\n",
        "|API | WEB API|\n",
        "|-|-|\n",
        "|All APIs are not web services.|Every web services are API.|\n",
        "|It supports both XML and JSON|It supports only XML.|\n",
        "|It uses all styles of communication.|It uses only three communications styles XML-RPC, SOAP, and REST.| \n",
        "|It supports HTTP/ HTTPS protocol and request & response headers of URL.|It supports only the HTTP protocol.|"
      ]
    },
    {
      "cell_type": "markdown",
      "metadata": {
        "id": "vU6OvOS_fB8x"
      },
      "source": [
        "4. REST (Representational State Transfer) and SOAP (Simple Object Access Protocol) are two different architectural styles used for designing web services.\n",
        "\n",
        "  * **REST :**\n",
        "  This is probably the most common type, and it uses standard web protocols like HTML, XML, and JSON. It’s easy to use, and plenty of libraries are available to help you get started.\n",
        "\n",
        "  * **SOAP :**\n",
        "  SOAP uses the Simple Object Access Protocol (SOAP), allowing applications to communicate using XML messages. They’re not as common as RESTful, but they offer more features and functionality.\n",
        "\n",
        "* **SHORTCOMING OF SOAP :**\n",
        "  * As SOAP can only transfer messages as XML files, your SOAP API will be less performant, as XML is a verbose format compared to JSON. API calls made to your server will need more bandwidth and it will take more time to process the request and transfer the response back to the client.\n",
        "\n",
        "  * In SOAP, the client-server communication depends on WSDL (Web Service Description Language) contracts, which implies tight coupling. Therefore, it’s not recommended for loosely coupled applications as you can’t opt out of using a contract between the client and the server."
      ]
    },
    {
      "cell_type": "markdown",
      "metadata": {
        "id": "kJyYv8I7fNV9"
      },
      "source": [
        "5. **REST** (Representational State Transfer) and **SOAP** (Simple Object Access Protocol) are two different architectural styles used for designing web services. Here are some of the key differences between REST and SOAP:\n",
        "\n",
        "* **Communication protocol :**\n",
        "REST uses HTTP as its communication protocol, while SOAP uses XML over HTTP or other protocols such as SMTP and JMS.\n",
        "\n",
        "* **Data format :**\n",
        "REST typically uses simple data formats such as JSON or XML, while SOAP uses XML.\n",
        "\n",
        "* **Interface definition :**\n",
        "REST does not have a formal contract, while SOAP has a formal contract (WSDL - Web Services Description Language) that defines the interface.\n",
        "\n",
        "* **Resource orientation :**\n",
        "REST is resource-oriented, while SOAP is action-oriented.\n",
        "\n",
        "* **Message format :**\n",
        "REST uses lightweight message formats such as JSON, while SOAP messages are typically larger and more complex than REST messages.\n",
        "\n",
        "* **Statefulness :**\n",
        "REST is stateless, while SOAP is a stateful architecture where the client and server maintain a session throughout the communication.\n",
        "\n",
        "* **Flexibility :**\n",
        "REST is more flexible than SOAP, as it does not have a formal contract, making it easier to change the interface. In contrast, SOAP is less flexible and can be harder to change the interface.\n",
        "\n",
        "* **Performance :**\n",
        "REST is typically faster and more efficient than SOAP, as it uses lightweight message formats and is stateless."
      ]
    }
  ],
  "metadata": {
    "colab": {
      "provenance": []
    },
    "kernelspec": {
      "display_name": "Python 3",
      "language": "python",
      "name": "python3"
    },
    "language_info": {
      "name": "python",
      "version": "3.10.9"
    },
    "vscode": {
      "interpreter": {
        "hash": "2a8dfe095fce2b5e88c64a2c3ee084c8e0e0d70b23e7b95b1cfb538be294c5c8"
      }
    }
  },
  "nbformat": 4,
  "nbformat_minor": 0
}
