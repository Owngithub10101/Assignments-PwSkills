{
  "cells": [
    {
      "cell_type": "markdown",
      "metadata": {
        "id": "LHfqXWrav0va"
      },
      "source": [
        "# Assignment : 09(08th Feb'2023)"
      ]
    },
    {
      "cell_type": "markdown",
      "metadata": {
        "id": "EMZpP3CvwH1T"
      },
      "source": [
        "1. Abstraction in object-oriented programming (OOP) refers to the concept of hiding implementation details and exposing only the necessary information to the users of an object.\n",
        "\n",
        "* Here's an example of abstraction in Python :\n",
        "\n",
        "  **e.g.,** consider a car. From the user's perspective, a car is a means of transportation that has certain essential features, such as the ability to `start`, `accelerate`, `turn`, and `stop`. These essential features are the abstract view of a car and are known as the abstract data type or abstract class. The internal details of how a car engine works, how the transmission system functions, and so on are hidden and are not necessary for the user to know. This internal complexity is the implementation details and are not part of the abstract view."
      ]
    },
    {
      "cell_type": "code",
      "execution_count": 2,
      "metadata": {
        "colab": {
          "base_uri": "https://localhost:8080/"
        },
        "id": "302hL8sexhDi",
        "outputId": "0f5e8ab3-2621-4596-d5ea-1fafaaaf962b"
      },
      "outputs": [
        {
          "name": "stdout",
          "output_type": "stream",
          "text": [
            "Make: Toyota\n",
            "Model: Camry\n",
            "Year: 2020\n",
            "Starting the car...\n",
            "Accelerating the car...\n",
            "Starting the car...\n",
            "Stopping the car...\n"
          ]
        }
      ],
      "source": [
        "class Car:\n",
        "    def __init__(self, make, model, year):\n",
        "        self.make = make\n",
        "        self.model = model\n",
        "        self.year = year\n",
        "        \n",
        "    def start(self):\n",
        "        print(\"Starting the car...\")\n",
        "        \n",
        "    def accelerate(self):\n",
        "        print(\"Accelerating the car...\")\n",
        "      \n",
        "    def turn(self):\n",
        "      print(\"Turning the car...\")\n",
        "        \n",
        "    def stop(self):\n",
        "        print(\"Stopping the car...\")\n",
        "\n",
        "# create an instance of the Car class\n",
        "my_car = Car(\"Toyota\", \"Camry\", 2020)\n",
        "\n",
        "# access the attributes of the car\n",
        "print(\"Make:\", my_car.make)\n",
        "print(\"Model:\", my_car.model)\n",
        "print(\"Year:\", my_car.year)\n",
        "\n",
        "# use the methods of the car\n",
        "my_car.start()\n",
        "my_car.accelerate()\n",
        "my_car.start()\n",
        "my_car.stop()\n"
      ]
    },
    {
      "cell_type": "markdown",
      "metadata": {
        "id": "IpKc60c-w-p3"
      },
      "source": [
        "2. Abstraction and encapsulation are two important concepts in object-oriented programming (OOP). While both deal with hiding implementation details and exposing only necessary information but they have different focuses."
      ]
    },
    {
      "cell_type": "markdown",
      "metadata": {
        "id": "wTzY6h0Y0U1l"
      },
      "source": [
        "* Abstraction is the process of hiding complex implementation details and showing only essential information to the users. It allows the user to interact with an object at a higher level, without worrying about its underlying implementation details.\n",
        "\n",
        "* Encapsulation is the process of bundling data and methods that operate on that data within an object. It provides a way to hide the implementation details of an object, making it easier to change the implementation without affecting other parts of the code.\n",
        "\n",
        "Here's an example of abstraction and encapsulation in Python :"
      ]
    },
    {
      "cell_type": "code",
      "execution_count": 3,
      "metadata": {
        "colab": {
          "base_uri": "https://localhost:8080/"
        },
        "id": "iOf-2AO8z0rz",
        "outputId": "588993ab-566e-4c36-e275-0af6a10d527f"
      },
      "outputs": [
        {
          "name": "stdout",
          "output_type": "stream",
          "text": [
            "Balance: 1300\n"
          ]
        }
      ],
      "source": [
        "class bank_account:\n",
        "    def __init__(self, balance):\n",
        "        self.__balance = balance\n",
        "        \n",
        "    def deposit(self, amount):\n",
        "        self.__balance += amount\n",
        "        \n",
        "    def withdraw(self, amount):\n",
        "        if self.__balance >= amount:\n",
        "            self.__balance -= amount\n",
        "        else:\n",
        "            print(\"Insufficient balance.\")\n",
        "            \n",
        "    def get_balance(self):\n",
        "        return self.__balance\n",
        "\n",
        "my_account = bank_account(1000) # create an instance of the bank_account class.\n",
        "my_account.deposit(500) # deposit an amount into the account.\n",
        "my_account.withdraw(200) # withdraw an amount from the account.\n",
        "print(\"Balance:\", my_account.get_balance()) # check the balance of the account.\n"
      ]
    },
    {
      "cell_type": "markdown",
      "metadata": {
        "id": "Xln42st20tyu"
      },
      "source": [
        "* **In Abstraction :** Here `bank_account` class provides an abstract view of a bank account, allowing the user to interact with it using the `deposit` and `withdraw` methods. The internal details of how the bank account is actually implemented, such as how the balance is stored and how transactions are processed, are hidden from the user.\n",
        "\n",
        "* **In Encapsulation :** The `balance` attribute is hidden from the user and can only be accessed through the `deposit` and `withdraw` methods. This makes it easier to change the implementation of the bank account, for example, by switching to a different data structure for storing the balance, without affecting the rest of the code."
      ]
    },
    {
      "cell_type": "markdown",
      "metadata": {
        "id": "oWuJyXJt2Jfd"
      },
      "source": [
        "3. The `abc` module in Python stands for Abstract Base Classes and it is a module for defining abstract base classes (ABCs) in Python. An abstract base class is a class that cannot be instantiated, but is meant to be inherited by other classes to provide a common interface.\n",
        "\n",
        "  The purpose of the `abc` module is to allow you to define abstract classes in Python, which serve as an interface or blueprint for other classes. Child classes that inherit from an abstract base class are expected to implement certain methods or attributes defined by the abstract class. This helps enforce a common interface for a group of related classes and makes it easier to catch errors at runtime if a subclass does not properly implement the required methods.\n",
        "\n",
        "  **e.g. :** Let's consider an abstract class `Shape`, which has two abstract methods `area` and `perimeter`. Any class that represents a shape should inherit from `Shape` and implement these two methods."
      ]
    },
    {
      "cell_type": "code",
      "execution_count": 4,
      "metadata": {
        "id": "Dv6aLUuFF3Lh"
      },
      "outputs": [],
      "source": [
        "import abc\n",
        "\n",
        "class Shape(metaclass=abc.ABCMeta):\n",
        "    @abc.abstractmethod\n",
        "    def area(self):\n",
        "        pass\n",
        "    \n",
        "    @abc.abstractmethod\n",
        "    def perimeter(self):\n",
        "        pass\n"
      ]
    },
    {
      "cell_type": "markdown",
      "metadata": {
        "id": "La6xm54aF4q1"
      },
      "source": [
        "* A concrete implementation of Shape would look like this :"
      ]
    },
    {
      "cell_type": "code",
      "execution_count": 8,
      "metadata": {
        "colab": {
          "base_uri": "https://localhost:8080/"
        },
        "id": "R9-_WtNJF8rJ",
        "outputId": "3f35a3e4-f255-4c70-824a-61addd0e9827"
      },
      "outputs": [
        {
          "name": "stdout",
          "output_type": "stream",
          "text": [
            "Area : 20\n",
            "Perimeter : 18\n"
          ]
        }
      ],
      "source": [
        "class Rectangle(Shape):\n",
        "    def __init__(self, width, height):\n",
        "        self.width = width\n",
        "        self.height = height\n",
        "    \n",
        "    def area(self):\n",
        "        return self.width * self.height\n",
        "    \n",
        "    def perimeter(self):\n",
        "        return 2 * (self.width + self.height)\n",
        "\n",
        "obj = Rectangle(4,5)\n",
        "print('Area :',obj.area())\n",
        "print('Perimeter :',obj.perimeter())"
      ]
    },
    {
      "cell_type": "markdown",
      "metadata": {
        "id": "TOoiDNgDGjFg"
      },
      "source": [
        "4. Data abstraction is the process of hiding the implementation details of a class and exposing only the necessary information to the outside world. "
      ]
    },
    {
      "cell_type": "markdown",
      "metadata": {
        "id": "USSAglEdHqQh"
      },
      "source": [
        "* In Python, Data abstraction can be achieved by the following techniques :\n",
        "  - Encapsulation\n",
        "  - Abstract Classes\n",
        "  - Interfaces"
      ]
    },
    {
      "cell_type": "markdown",
      "metadata": {
        "id": "Kk86KVkKRRR5"
      },
      "source": [
        "* **Encapsulation** is a concept of wrapping data and functions that work on that data within a single unit or object. One way to achieve this in Python is by using classes and making the data members private by prefixing them with double underscore (e.g. __private_member). The functions that work on the data can be made public by using methods."
      ]
    },
    {
      "cell_type": "code",
      "execution_count": 22,
      "metadata": {
        "colab": {
          "base_uri": "https://localhost:8080/"
        },
        "id": "HgZ1TjLORQSX",
        "outputId": "22dbeec1-9e46-408d-ef53-83c882b0674e"
      },
      "outputs": [
        {
          "name": "stdout",
          "output_type": "stream",
          "text": [
            "Toyota\n",
            "Camry\n",
            "2020\n"
          ]
        }
      ],
      "source": [
        "class Car:\n",
        "    def __init__(self, make, model, year):\n",
        "        self.__make = make\n",
        "        self.__model = model\n",
        "        self.__year = year\n",
        "\n",
        "    def get_make(self):\n",
        "        return self.__make\n",
        "\n",
        "    def get_model(self):\n",
        "        return self.__model\n",
        "\n",
        "    def get_year(self):\n",
        "        return self.__year\n",
        "\n",
        "my_car = Car(\"Toyota\", \"Camry\", 2020)\n",
        "print(my_car.get_make())\n",
        "print(my_car.get_model())\n",
        "print(my_car.get_year())\n"
      ]
    },
    {
      "cell_type": "markdown",
      "metadata": {
        "id": "pAwIqFqoRTuC"
      },
      "source": [
        "* An **abstract** class is a class that cannot be instantiated and is meant to be subclassed. It can contain abstract methods which are methods that have no implementation in the abstract class but must be overridden by concrete (i.e. non-abstract) subclasses."
      ]
    },
    {
      "cell_type": "code",
      "execution_count": 21,
      "metadata": {
        "colab": {
          "base_uri": "https://localhost:8080/"
        },
        "id": "g4A36YrXRWOZ",
        "outputId": "fff785c9-12c5-440b-92c2-3a8c3cb1d7de"
      },
      "outputs": [
        {
          "name": "stdout",
          "output_type": "stream",
          "text": [
            "25\n"
          ]
        }
      ],
      "source": [
        "from abc import ABC, abstractmethod\n",
        "\n",
        "class Shape(ABC):\n",
        "    @abstractmethod\n",
        "    def area(self):\n",
        "        pass\n",
        "\n",
        "class Square(Shape):\n",
        "    def __init__(self, side_length):\n",
        "        self.side_length = side_length\n",
        "\n",
        "    def area(self):\n",
        "        return self.side_length ** 2\n",
        "\n",
        "square = Square(5)\n",
        "print(square.area())\n"
      ]
    },
    {
      "cell_type": "markdown",
      "metadata": {
        "id": "88ouG5KpRZpD"
      },
      "source": [
        "* An **interface** is a class with no implementation that defines a set of methods that must be implemented by any concrete class that implements the interface. In Python, this can be achieved by using abstract classes with only abstract methods."
      ]
    },
    {
      "cell_type": "code",
      "execution_count": 20,
      "metadata": {
        "colab": {
          "base_uri": "https://localhost:8080/"
        },
        "id": "j7eb7Dg6Ra8n",
        "outputId": "ea31c744-f4d9-44a8-ea55-ca8e285c1efd"
      },
      "outputs": [
        {
          "name": "stdout",
          "output_type": "stream",
          "text": [
            "Paying 100 using credit card.\n",
            "Paying 100 using PayPal.\n"
          ]
        }
      ],
      "source": [
        "from abc import ABC, abstractmethod\n",
        "\n",
        "class PaymentMethod(ABC):\n",
        "    @abstractmethod\n",
        "    def pay(self, amount):\n",
        "        pass\n",
        "\n",
        "class CreditCard(PaymentMethod):\n",
        "    def pay(self, amount):\n",
        "        print(f\"Paying {amount} using credit card.\")\n",
        "\n",
        "class PayPal(PaymentMethod):\n",
        "    def pay(self, amount):\n",
        "        print(f\"Paying {amount} using PayPal.\")\n",
        "\n",
        "credit_card = CreditCard()\n",
        "credit_card.pay(100)\n",
        "\n",
        "paypal = PayPal()\n",
        "paypal.pay(100)\n"
      ]
    },
    {
      "cell_type": "markdown",
      "metadata": {
        "id": "l_DJqM-HRtV2"
      },
      "source": [
        "5. No, you cannot create an instance of an abstract class directly. An abstract class is a class that contains one or more abstract methods, which are methods without an implementation. The purpose of an abstract class is to provide a common interface for its subclasses to inherit from, so that the subclasses can provide their own implementation for the abstract methods.\n",
        "\n",
        "* In Python, you can define an abstract class using the `abc` module (Abstract Base Class). Here's an example:"
      ]
    },
    {
      "cell_type": "code",
      "execution_count": 25,
      "metadata": {
        "colab": {
          "base_uri": "https://localhost:8080/"
        },
        "id": "oHxhnyj-XiGl",
        "outputId": "afe9dc88-c118-4e98-d47e-eda38384e6a4"
      },
      "outputs": [
        {
          "name": "stdout",
          "output_type": "stream",
          "text": [
            "Area: 9\n",
            "Parimeter: 12\n"
          ]
        }
      ],
      "source": [
        "import abc\n",
        "class Shape:\n",
        "    @abstractmethod\n",
        "    def area(self):\n",
        "        pass\n",
        "    \n",
        "class Square(Shape):\n",
        "    def __init__(self,side):\n",
        "        self.side = side\n",
        "        \n",
        "    def area(self):\n",
        "        return self.side**2\n",
        "    \n",
        "    def parimeter(self):\n",
        "        return self.side*4\n",
        "    \n",
        "obj = Square(3)\n",
        "print('Area:',obj.area())\n",
        "print('Parimeter:',obj.parimeter())"
      ]
    }
  ],
  "metadata": {
    "colab": {
      "provenance": []
    },
    "kernelspec": {
      "display_name": "Python 3",
      "name": "python3"
    },
    "language_info": {
      "name": "python"
    }
  },
  "nbformat": 4,
  "nbformat_minor": 0
}
