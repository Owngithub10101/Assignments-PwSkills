{
  "cells": [
    {
      "cell_type": "markdown",
      "metadata": {
        "id": "l26s9Bo_nr5Y"
      },
      "source": [
        "# Assignment : 18(19th Feb'2023)"
      ]
    },
    {
      "cell_type": "markdown",
      "metadata": {
        "id": "6--re1xCki_U"
      },
      "source": [
        "1. * Flask is a web development framework developed in Python. It is easy to learn and use. Flask is “beginner-friendly” because it does not have boilerplate code or dependencies, which can distract from the primary function of an application.\n",
        "\n",
        "  * Flask provides a development server and a debugger.\n",
        "  * It uses Jinja2 templates.\n",
        "  * It is compliant with WSGI 1.0.\n",
        "  * It provides integrated support for unit testing.\n",
        "  * Many extensions are available for Flask, which can be used to enhance its functionalities.\n",
        "\n",
        "  **Advantages :**\n",
        "    * Scalable\n",
        "    * Flexible\n",
        "    * Easy to negotiate\n",
        "    * Lightweight\n",
        "    * Documentation"
      ]
    },
    {
      "cell_type": "markdown",
      "metadata": {
        "id": "2Jlu1TXxki_b"
      },
      "source": [
        "2. First, make sure Flask is installed in your Python environment. You can install it using the following command in your terminal or command prompt :"
      ]
    },
    {
      "cell_type": "code",
      "execution_count": null,
      "metadata": {
        "id": "ttenpE6hki_d",
        "outputId": "573709e0-60c9-41fd-d223-2324f966009c"
      },
      "outputs": [
        {
          "name": "stdout",
          "output_type": "stream",
          "text": [
            "Requirement already satisfied: flask in c:\\users\\hp\\miniconda3\\lib\\site-packages (2.2.2)\n",
            "Requirement already satisfied: itsdangerous>=2.0 in c:\\users\\hp\\miniconda3\\lib\\site-packages (from flask) (2.1.2)\n",
            "Requirement already satisfied: Werkzeug>=2.2.2 in c:\\users\\hp\\miniconda3\\lib\\site-packages (from flask) (2.2.2)\n",
            "Requirement already satisfied: Jinja2>=3.0 in c:\\users\\hp\\miniconda3\\lib\\site-packages (from flask) (3.1.2)\n",
            "Requirement already satisfied: importlib-metadata>=3.6.0 in c:\\users\\hp\\miniconda3\\lib\\site-packages (from flask) (6.0.0)\n",
            "Requirement already satisfied: click>=8.0 in c:\\users\\hp\\miniconda3\\lib\\site-packages (from flask) (8.1.3)\n",
            "Requirement already satisfied: colorama in c:\\users\\hp\\miniconda3\\lib\\site-packages (from click>=8.0->flask) (0.4.4)\n",
            "Requirement already satisfied: zipp>=0.5 in c:\\users\\hp\\miniconda3\\lib\\site-packages (from importlib-metadata>=3.6.0->flask) (3.14.0)\n",
            "Requirement already satisfied: MarkupSafe>=2.0 in c:\\users\\hp\\miniconda3\\lib\\site-packages (from Jinja2>=3.0->flask) (2.1.1)\n",
            "Note: you may need to restart the kernel to use updated packages.\n"
          ]
        }
      ],
      "source": [
        "pip install flask"
      ]
    },
    {
      "cell_type": "code",
      "execution_count": null,
      "metadata": {
        "id": "0IGSsQmYki_g"
      },
      "outputs": [],
      "source": [
        "# create a Python file called app.py with the following code.\n",
        "from flask import Flask\n",
        "app = Flask(__name__)"
      ]
    },
    {
      "cell_type": "code",
      "execution_count": null,
      "metadata": {
        "id": "43PuBUC5ki_h",
        "outputId": "984fe2bf-ff69-495b-fc15-b03b432bd90c"
      },
      "outputs": [
        {
          "name": "stdout",
          "output_type": "stream",
          "text": [
            " * Serving Flask app '__main__'\n",
            " * Debug mode: off\n"
          ]
        },
        {
          "name": "stderr",
          "output_type": "stream",
          "text": [
            "WARNING: This is a development server. Do not use it in a production deployment. Use a production WSGI server instead.\n",
            " * Running on all addresses (0.0.0.0)\n",
            " * Running on http://127.0.0.1:5000\n",
            " * Running on http://192.168.215.183:5000\n",
            "Press CTRL+C to quit\n"
          ]
        }
      ],
      "source": [
        "@app.route(\"/\")\n",
        "def hello_world():\n",
        "    return \"<h1>Hello, World!</h1>\"\n",
        "\n",
        "if __name__==\"__main__\":\n",
        "    app.run(host=\"0.0.0.0\")"
      ]
    },
    {
      "cell_type": "markdown",
      "metadata": {
        "id": "X-nNSvD_ki_i"
      },
      "source": [
        "3. App Routing means mapping the URLs to a specific function that will handle the logic for that URL. Modern web frameworks use more meaningful URLs to help users remember the URLs and make navigation simpler. \n",
        "\n",
        "  **Example :** In our application, the URL ('`/`') is associated with the root URL."
      ]
    },
    {
      "cell_type": "markdown",
      "metadata": {
        "id": "2Mf_omBRki_j"
      },
      "source": [
        "4. Flask application that includes a **`/welcome`** route to display a welcome message and a **`/route`** to display some details:\n",
        "  * **Company Name:** ABC Corporation\n",
        "  * **Location:** India\n",
        "  * **Contact Detail:** 999-999-9999"
      ]
    },
    {
      "cell_type": "code",
      "execution_count": null,
      "metadata": {
        "id": "zE6f55m3ki_k",
        "outputId": "295c4a83-9001-43bb-e94e-187ef802352b"
      },
      "outputs": [
        {
          "name": "stdout",
          "output_type": "stream",
          "text": [
            " * Serving Flask app '__main__'\n",
            " * Debug mode: off\n"
          ]
        },
        {
          "name": "stderr",
          "output_type": "stream",
          "text": [
            "WARNING: This is a development server. Do not use it in a production deployment. Use a production WSGI server instead.\n",
            " * Running on all addresses (0.0.0.0)\n",
            " * Running on http://127.0.0.1:5000\n",
            " * Running on http://192.168.215.183:5000\n",
            "Press CTRL+C to quit\n"
          ]
        }
      ],
      "source": [
        "app = Flask(__name__)\n",
        "\n",
        "@app.route(\"/\")\n",
        "def hello_world():\n",
        "    return \"Company name : ABC Corporation \\n Location : India \\n Contact : 999-999-9999\"\n",
        "\n",
        "@app.route(\"/welcome\")\n",
        "def wel():\n",
        "    return \"<h1>Welcome to ABC Corporation</h1>\"\n",
        "    \n",
        "if __name__==\"__main__\":\n",
        "    app.run(host=\"0.0.0.0\")"
      ]
    },
    {
      "cell_type": "markdown",
      "metadata": {
        "id": "yh30cF42ki_m"
      },
      "source": [
        "5. * The **`url_for()`** function is used to build a URL to the specific function dynamically. The first argument is the name of the specified function, and then we can pass any number of keyword argument corresponding to the variable part of the URL.\n",
        "\n",
        "  * This function is useful in the sense that we can avoid hard-coding the URLs into the templates by dynamically building them using this function.\n",
        "```\n",
        "  from flask import redirect , url_for\n",
        "  @app.route('/admin')  \n",
        "  def admin():  \n",
        "      return 'admin'  \n",
        "    \n",
        "    @app.route('/librarion')  \n",
        "    def librarion():  \n",
        "        return 'librarion'  \n",
        "      \n",
        "    @app.route('/student')  \n",
        "    def student():  \n",
        "        return 'student'  \n",
        "      \n",
        "    @app.route('/user/<name>')  \n",
        "    def user(name):  \n",
        "        if name == 'admin':  \n",
        "            return redirect(url_for('admin'))  \n",
        "        if name == 'librarion':  \n",
        "            return redirect(url_for('librarion'))  \n",
        "        if name == 'student':  \n",
        "            return redirect(url_for('student'))  \n",
        "    if __name__ =='__main__':  \n",
        "        app.run(debug = True)\n",
        "  ```\n",
        "\n",
        "  * The library management system which can be used by the three types of users, i.e., admin, librarion, and student. There is a specific function named **`user()`** which recognizes the user the redirect the user to the exact function which contains the implementation for this particular function."
      ]
    }
  ],
  "metadata": {
    "colab": {
      "provenance": []
    },
    "kernelspec": {
      "display_name": "Python 3",
      "language": "python",
      "name": "python3"
    },
    "language_info": {
      "codemirror_mode": {
        "name": "ipython",
        "version": 3
      },
      "file_extension": ".py",
      "mimetype": "text/x-python",
      "name": "python",
      "nbconvert_exporter": "python",
      "pygments_lexer": "ipython3",
      "version": "3.10.9"
    },
    "orig_nbformat": 4,
    "vscode": {
      "interpreter": {
        "hash": "2a8dfe095fce2b5e88c64a2c3ee084c8e0e0d70b23e7b95b1cfb538be294c5c8"
      }
    }
  },
  "nbformat": 4,
  "nbformat_minor": 0
}
