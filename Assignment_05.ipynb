{
  "nbformat": 4,
  "nbformat_minor": 0,
  "metadata": {
    "colab": {
      "provenance": [],
      "toc_visible": true
    },
    "kernelspec": {
      "name": "python3",
      "display_name": "Python 3"
    },
    "language_info": {
      "name": "python"
    }
  },
  "cells": [
    {
      "cell_type": "markdown",
      "source": [
        "# Assignment : 05 (4th Feb'2023) "
      ],
      "metadata": {
        "id": "nfEon-PcPnSH"
      }
    },
    {
      "cell_type": "markdown",
      "source": [
        "1. * Here's an example of sorting a list of tuples based on the integer value of the second element in each tuple using a `lambda` function."
      ],
      "metadata": {
        "id": "HR9s018wWFYg"
      }
    },
    {
      "cell_type": "code",
      "source": [
        "def sort_list_of_tuples(lst):\n",
        "    return sorted(lst, key=lambda x: x[1])\n",
        "\n",
        "list_of_tuples = [('Sachin Tendulkar', 34357), ('Ricky Ponting', 27483), ('Jack Kallis', 25534), ('Virat Kohli', 24936)]\n",
        "sorted_list = sort_list_of_tuples(list_of_tuples)\n",
        "print(sorted_list)"
      ],
      "metadata": {
        "colab": {
          "base_uri": "https://localhost:8080/"
        },
        "id": "R6IPk3WUbvn-",
        "outputId": "8c89ca2a-d7f0-454d-87da-4716078edc76"
      },
      "execution_count": 6,
      "outputs": [
        {
          "output_type": "stream",
          "name": "stdout",
          "text": [
            "[('Virat Kohli', 24936), ('Jack Kallis', 25534), ('Ricky Ponting', 27483), ('Sachin Tendulkar', 34357)]\n"
          ]
        }
      ]
    },
    {
      "cell_type": "markdown",
      "source": [
        "2. * Here's a Python program to find the squares of all the numbers in the given list of integers using `lambda` and `map` functions :"
      ],
      "metadata": {
        "id": "HdZfGHUecIbp"
      }
    },
    {
      "cell_type": "code",
      "source": [
        "numbers = [1, 2, 3, 4, 5, 6, 7, 8, 9, 10]\n",
        "squared_numbers = list(map(lambda x: x**2, numbers))\n",
        "print(squared_numbers)"
      ],
      "metadata": {
        "colab": {
          "base_uri": "https://localhost:8080/"
        },
        "id": "cFdsEhg9cW88",
        "outputId": "d400d9d0-2939-4339-8669-d4201a4af6ee"
      },
      "execution_count": 5,
      "outputs": [
        {
          "output_type": "stream",
          "name": "stdout",
          "text": [
            "[1, 4, 9, 16, 25, 36, 49, 64, 81, 100]\n"
          ]
        }
      ]
    },
    {
      "cell_type": "markdown",
      "source": [
        "3. * Here's a Python program to convert the given list of integers into a tuple of strings using `map` and `lambda` functions :"
      ],
      "metadata": {
        "id": "c_J7LwkJcgBT"
      }
    },
    {
      "cell_type": "code",
      "source": [
        "numbers = [1, 2, 3, 4, 5, 6, 7, 8, 9, 10]\n",
        "tuple_of_strings = tuple(map(lambda x: str(x), numbers))\n",
        "print(tuple_of_strings)"
      ],
      "metadata": {
        "colab": {
          "base_uri": "https://localhost:8080/"
        },
        "id": "-TABla9JcqaG",
        "outputId": "0575b90e-6d49-457d-842f-aa2f353e0c82"
      },
      "execution_count": 4,
      "outputs": [
        {
          "output_type": "stream",
          "name": "stdout",
          "text": [
            "('1', '2', '3', '4', '5', '6', '7', '8', '9', '10')\n"
          ]
        }
      ]
    },
    {
      "cell_type": "markdown",
      "source": [
        "4. * Here's a Python program to compute the product of a list containing numbers from 1 to 25 using the `reduce` function :"
      ],
      "metadata": {
        "id": "76RbBDdycwuq"
      }
    },
    {
      "cell_type": "code",
      "source": [
        "from functools import reduce\n",
        "\n",
        "numbers = [i for i in range(1, 26)]\n",
        "product = reduce(lambda x, y: x * y, numbers)\n",
        "print(product)"
      ],
      "metadata": {
        "colab": {
          "base_uri": "https://localhost:8080/"
        },
        "id": "mp0NdbRVdFtF",
        "outputId": "674e76d5-be6c-4f03-a810-a3618b11acdd"
      },
      "execution_count": 7,
      "outputs": [
        {
          "output_type": "stream",
          "name": "stdout",
          "text": [
            "15511210043330985984000000\n"
          ]
        }
      ]
    },
    {
      "cell_type": "markdown",
      "source": [
        "5. * Here's a Python program to filter the numbers in a given list that are divisible by 2 and 3 using the `filter` function :"
      ],
      "metadata": {
        "id": "gP9mxY1tdMvH"
      }
    },
    {
      "cell_type": "code",
      "source": [
        "numbers = [2, 3, 6, 9, 27, 60, 90, 120, 55, 46]\n",
        "\n",
        "divisible_by_2_and_3 = list(filter(lambda x: x % 2 == 0 and x % 3 == 0, numbers))\n",
        "print(divisible_by_2_and_3)"
      ],
      "metadata": {
        "colab": {
          "base_uri": "https://localhost:8080/"
        },
        "id": "lVVGyZpqdYgo",
        "outputId": "88d221ef-c0ca-4f92-f383-64d3a6ba0bb2"
      },
      "execution_count": 9,
      "outputs": [
        {
          "output_type": "stream",
          "name": "stdout",
          "text": [
            "[6, 60, 90, 120]\n"
          ]
        }
      ]
    },
    {
      "cell_type": "markdown",
      "source": [
        "6. * Here's a Python program to find palindromes in the given list of strings using `lambda` and `filter` functions :"
      ],
      "metadata": {
        "id": "KLOxcWokdupn"
      }
    },
    {
      "cell_type": "code",
      "source": [
        "strings = ['python', 'php', 'aba', 'radar', 'level']\n",
        "\n",
        "palindromes = list(filter(lambda x: x == x[::-1], strings))\n",
        "print(palindromes)"
      ],
      "metadata": {
        "colab": {
          "base_uri": "https://localhost:8080/"
        },
        "id": "elVST-4od-VV",
        "outputId": "34847545-b1f5-4f0a-bd1c-c5acd13ea3bb"
      },
      "execution_count": 11,
      "outputs": [
        {
          "output_type": "stream",
          "name": "stdout",
          "text": [
            "['php', 'aba', 'radar', 'level']\n"
          ]
        }
      ]
    }
  ]
}