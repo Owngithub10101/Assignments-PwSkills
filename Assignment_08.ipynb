{
  "nbformat": 4,
  "nbformat_minor": 0,
  "metadata": {
    "colab": {
      "provenance": [],
      "toc_visible": true
    },
    "kernelspec": {
      "name": "python3",
      "display_name": "Python 3"
    },
    "language_info": {
      "name": "python"
    }
  },
  "cells": [
    {
      "cell_type": "markdown",
      "source": [
        "# Assignment : 08(07th Feb'2023)"
      ],
      "metadata": {
        "id": "y8n0CYl-NddP"
      }
    },
    {
      "cell_type": "markdown",
      "source": [
        "1. Here is a Python function that implements the password guidelines or we can say password validation rules."
      ],
      "metadata": {
        "id": "le3fcpnyNvB6"
      }
    },
    {
      "cell_type": "code",
      "source": [
        "def pwd_validation(pwd):\n",
        "    if len(pwd) != 10:\n",
        "        return \"Invalid Password\"\n",
        "    \n",
        "    upper_count = 0\n",
        "    lower_count = 0\n",
        "    digit_count = 0\n",
        "    special_count = 0\n",
        "    \n",
        "    for i in pwd:\n",
        "        if i.isupper():\n",
        "            upper_count += 1\n",
        "        elif i.islower():\n",
        "            lower_count += 1\n",
        "        elif i.isdigit():\n",
        "            digit_count += 1\n",
        "        else:\n",
        "            special_count += 1\n",
        "    \n",
        "    if upper_count >= 2 and lower_count >= 2 and digit_count >= 1 and special_count >= 3:\n",
        "        return \"Valid Password\"\n",
        "    else:\n",
        "        return \"Invalid Password\"\n",
        "\n",
        "pwd = \"password123$\"\n",
        "res = pwd_validation(pwd)\n",
        "print(res)\n"
      ],
      "metadata": {
        "colab": {
          "base_uri": "https://localhost:8080/"
        },
        "id": "ctifhbIkOnc1",
        "outputId": "6ee754a4-09c3-47e4-ce10-221ed7b14c90"
      },
      "execution_count": 1,
      "outputs": [
        {
          "output_type": "stream",
          "name": "stdout",
          "text": [
            "Invalid Password\n"
          ]
        }
      ]
    },
    {
      "cell_type": "markdown",
      "source": [
        "2. Here are solutions to the questions using the specified functions :"
      ],
      "metadata": {
        "id": "U4jVUv1SP2F8"
      }
    },
    {
      "cell_type": "markdown",
      "source": [
        "* Check if the string starts with a particular letter :"
      ],
      "metadata": {
        "id": "wnyDGXdOQhMt"
      }
    },
    {
      "cell_type": "code",
      "source": [
        "string = \"hello pwskills\"\n",
        "starts_with_h = lambda string: string.startswith('h')\n",
        "print(starts_with_h(string))\n"
      ],
      "metadata": {
        "colab": {
          "base_uri": "https://localhost:8080/"
        },
        "id": "4Ww_zWPKQk0E",
        "outputId": "38acdc98-1ff3-45a2-83ee-7a4dd7d41927"
      },
      "execution_count": 15,
      "outputs": [
        {
          "output_type": "stream",
          "name": "stdout",
          "text": [
            "True\n"
          ]
        }
      ]
    },
    {
      "cell_type": "markdown",
      "source": [
        "* Check if the string is numeric."
      ],
      "metadata": {
        "id": "v9osU3ZTQnA4"
      }
    },
    {
      "cell_type": "code",
      "source": [
        "string = \"12345\"\n",
        "is_numeric = lambda string: string.isnumeric()\n",
        "print(is_numeric(string))\n"
      ],
      "metadata": {
        "colab": {
          "base_uri": "https://localhost:8080/"
        },
        "id": "UrMzwMpPQuR-",
        "outputId": "4872f349-6595-4c1a-c6e1-9cfcf1dec33d"
      },
      "execution_count": 16,
      "outputs": [
        {
          "output_type": "stream",
          "name": "stdout",
          "text": [
            "True\n"
          ]
        }
      ]
    },
    {
      "cell_type": "markdown",
      "source": [
        "* Sort a list of tuples having fruit names and their quantity. \n",
        "`[(\"mango\",99),(\"orange\",80), (\"grapes\", 1000)]`"
      ],
      "metadata": {
        "id": "4PBWsua0Qzhw"
      }
    },
    {
      "cell_type": "code",
      "source": [
        "fruits = [(\"mango\", 99), (\"orange\", 80), (\"grapes\", 1000)]\n",
        "sorted_fruits = sorted(fruits, key=lambda x: x[1])\n",
        "print(sorted_fruits)\n"
      ],
      "metadata": {
        "colab": {
          "base_uri": "https://localhost:8080/"
        },
        "id": "OOKLtGt-Q7V9",
        "outputId": "d6c36595-42a0-4250-dc9d-e47ad10b4648"
      },
      "execution_count": 4,
      "outputs": [
        {
          "output_type": "stream",
          "name": "stdout",
          "text": [
            "[('orange', 80), ('mango', 99), ('grapes', 1000)]\n"
          ]
        }
      ]
    },
    {
      "cell_type": "markdown",
      "source": [
        "* Find the squares of numbers from 1 to 10 : "
      ],
      "metadata": {
        "id": "EgUudhnzQ-wU"
      }
    },
    {
      "cell_type": "code",
      "source": [
        "num = range(1, 11)\n",
        "sqr = list(map(lambda x: x**2, num))\n",
        "print(sqr)\n"
      ],
      "metadata": {
        "colab": {
          "base_uri": "https://localhost:8080/"
        },
        "id": "Y4orTFSIREdG",
        "outputId": "b917d8ec-c05f-488b-a595-d88e7bd8df45"
      },
      "execution_count": 14,
      "outputs": [
        {
          "output_type": "stream",
          "name": "stdout",
          "text": [
            "[1, 4, 9, 16, 25, 36, 49, 64, 81, 100]\n"
          ]
        }
      ]
    },
    {
      "cell_type": "markdown",
      "source": [
        "* Find the cube root of numbers from 1 to 10 :"
      ],
      "metadata": {
        "id": "NeerIaCPRGcZ"
      }
    },
    {
      "cell_type": "code",
      "source": [
        "import math\n",
        "\n",
        "num = range(1, 11)\n",
        "curt = list(map(lambda x: int(math.pow(x, 1/3)), num))\n",
        "print(curt)\n"
      ],
      "metadata": {
        "colab": {
          "base_uri": "https://localhost:8080/"
        },
        "id": "8jZZzjY7RKwi",
        "outputId": "ea499f8b-a55a-4251-b492-cd06bfa54b2a"
      },
      "execution_count": 13,
      "outputs": [
        {
          "output_type": "stream",
          "name": "stdout",
          "text": [
            "[1, 1, 1, 1, 1, 1, 1, 2, 2, 2]\n"
          ]
        }
      ]
    },
    {
      "cell_type": "markdown",
      "source": [
        "* Check if a given number is even :"
      ],
      "metadata": {
        "id": "g0iBvJBCRNBA"
      }
    },
    {
      "cell_type": "code",
      "source": [
        "num = 4\n",
        "is_even = lambda num: num % 2 == 0\n",
        "print(is_even(num))\n"
      ],
      "metadata": {
        "colab": {
          "base_uri": "https://localhost:8080/"
        },
        "id": "mMl-lSNzRR-K",
        "outputId": "5ae7c059-cb29-43e1-ad52-cfcb18bcbd72"
      },
      "execution_count": 12,
      "outputs": [
        {
          "output_type": "stream",
          "name": "stdout",
          "text": [
            "True\n"
          ]
        }
      ]
    },
    {
      "cell_type": "markdown",
      "source": [
        "* Filter odd numbers from the given list :"
      ],
      "metadata": {
        "id": "kianyWU0RTi2"
      }
    },
    {
      "cell_type": "code",
      "source": [
        "num = [1, 2, 3, 4, 5, 6, 7, 8, 9, 10]\n",
        "odd_num = list(filter(lambda x: x % 2 != 0, num))\n",
        "print(odd_num)\n"
      ],
      "metadata": {
        "colab": {
          "base_uri": "https://localhost:8080/"
        },
        "id": "RP_VMVR6RW7s",
        "outputId": "02c5d5a4-f824-4bc8-eed2-1e6eec9e37c1"
      },
      "execution_count": 11,
      "outputs": [
        {
          "output_type": "stream",
          "name": "stdout",
          "text": [
            "[1, 3, 5, 7, 9]\n"
          ]
        }
      ]
    },
    {
      "cell_type": "markdown",
      "source": [
        "* Sort a list of integers into positive and negative integers lists :"
      ],
      "metadata": {
        "id": "yfR7xrZlRZM4"
      }
    },
    {
      "cell_type": "code",
      "source": [
        "num = [1, 2, 3, 4, 5, 6, -1, -2, -3, -4, -5, 0]\n",
        "pos = list(filter(lambda x: x > 0, num))\n",
        "neg = list(filter(lambda x: x < 0, num))\n",
        "print(\"Positive numbers:\", pos)\n",
        "print(\"Negative numbers:\", neg)\n"
      ],
      "metadata": {
        "colab": {
          "base_uri": "https://localhost:8080/"
        },
        "id": "WryaJ_sHRdSB",
        "outputId": "fc2c9897-d9a1-494a-a12f-424448f55845"
      },
      "execution_count": 10,
      "outputs": [
        {
          "output_type": "stream",
          "name": "stdout",
          "text": [
            "Positive numbers: [1, 2, 3, 4, 5, 6]\n",
            "Negative numbers: [-1, -2, -3, -4, -5]\n"
          ]
        }
      ]
    }
  ]
}