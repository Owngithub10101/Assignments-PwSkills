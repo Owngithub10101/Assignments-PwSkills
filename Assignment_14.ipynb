{
  "nbformat": 4,
  "nbformat_minor": 0,
  "metadata": {
    "colab": {
      "provenance": []
    },
    "kernelspec": {
      "name": "python3",
      "display_name": "Python 3"
    },
    "language_info": {
      "name": "python"
    }
  },
  "cells": [
    {
      "cell_type": "markdown",
      "source": [
        "# Assignment : 14(14th Feb'2023)"
      ],
      "metadata": {
        "id": "SFmct3Ey6ZdC"
      }
    },
    {
      "cell_type": "markdown",
      "source": [
        "1. * Multithreading in Python is a programming technique that allows a program to execute multiple threads (smaller units of a program or we can say threads are lightweight processes) concurrently within a single process. Each thread runs independently, and the operating system scheduler decides the order in which the threads execute.\n",
        "\n",
        "  * Multithreading is used to improve the performance of a program by allowing it to take advantage of the multi-core CPUs and to perform multiple tasks simultaneously. It is useful for applications that require a lot of waiting or input/output operations, such as web servers, database applications, or any other task where a significant amount of time is spent waiting for external resources.\n",
        "\n",
        "  * The **`threading`** module is used to handle threads in Python. It provides a simple way to create and manage threads and includes functions to lock and synchronize threads to prevent race conditions and deadlocks. The **`threading`** module is part of the Python standard library and can be used on all platforms that support Python."
      ],
      "metadata": {
        "id": "T80FLVxS7hCL"
      }
    },
    {
      "cell_type": "markdown",
      "source": [
        "2. The threading module is used in Python to create and manage threads. It provides a high-level interface for creating new threads, synchronizing their execution, and coordinating their communication. The threading module is used to take advantage of multi-core CPUs and to perform multiple tasks simultaneously, thereby improving the performance of the program.\n",
        "\n",
        "  Here are the descriptions of the following functions from the **`threading`** module :"
      ],
      "metadata": {
        "id": "DgnkCFjn8Gm_"
      }
    },
    {
      "cell_type": "markdown",
      "source": [
        "* **`activeCount()` :** This function returns the number of currently active threads in the program. This includes the main thread and any other threads that have been created using the threading module.\n",
        "\n",
        "* **`currentThread()` :** This function returns a reference to the current thread object, which represents the thread from which the function is called.\n",
        "\n",
        "* **`enumerate()` :** This function returns a list of all currently active thread objects in the program. This includes the main thread and any other threads that have been created using the threading module. Each thread object in the list has a unique identification number, which can be used to access and manipulate the thread."
      ],
      "metadata": {
        "id": "JhH-WP_d86LA"
      }
    },
    {
      "cell_type": "markdown",
      "source": [
        "3. Here are the explanations of the following functions from the `threading` module in Python :\n",
        "* **`run()` :** This is the method that is executed when a thread starts. It is typically overridden by a subclass of the `Thread` class to implement the desired behavior of the thread. The `run()` method should not be called directly, instead, the `start()` method should be called to start the thread.\n",
        "\n",
        "* **`start()` :** This method starts a thread by calling its `run()` method in a separate thread of execution. Once started, the thread executes in the background, and the main program continues to run. A thread can be started only once, and attempting to start it again will raise an exception.\n",
        "\n",
        "* **`join()` :** This method blocks the calling thread until the thread being joined has completed its execution. This is useful for coordinating the execution of multiple threads or for waiting for a thread to complete before continuing with the rest of the program. The `join()` method takes an optional timeout argument that specifies the maximum amount of time to wait for the thread to complete. If the thread does not complete within the specified timeout period, the `join()` method returns.\n",
        "\n",
        "* **`isAlive()` :** This method returns a Boolean value that indicates whether the thread is currently executing. It returns `True` if the thread is still running and `False` otherwise. This method can be used to check the status of a thread, for example, to determine whether a thread has completed its execution before calling the `join()` method."
      ],
      "metadata": {
        "id": "HxPkk3oS8_-9"
      }
    },
    {
      "cell_type": "markdown",
      "source": [
        "4. Here's an example Python program that creates two threads, where thread one prints a **list of squares** and thread two prints a **list of cubes** :\n",
        "\n"
      ],
      "metadata": {
        "id": "WVDQM9W1_Bm3"
      }
    },
    {
      "cell_type": "code",
      "source": [
        "import threading\n",
        "\n",
        "def print_squares():\n",
        "    for i in range(1, 11):\n",
        "        print(f\"Square of {i} is {i**2}\")\n",
        "\n",
        "def print_cubes():\n",
        "    for i in range(1, 11):\n",
        "        print(f\"Cube of {i} is {i**3}\")\n",
        "\n",
        "t1 = threading.Thread(target=print_squares)\n",
        "t2 = threading.Thread(target=print_cubes)\n",
        "\n",
        "t1.start()\n",
        "t2.start()\n",
        "\n",
        "t1.join()\n",
        "t2.join()\n"
      ],
      "metadata": {
        "colab": {
          "base_uri": "https://localhost:8080/"
        },
        "id": "P77K5e7H_k0S",
        "outputId": "e015ecdf-4de7-4a99-902a-c7bac179b5d7"
      },
      "execution_count": 5,
      "outputs": [
        {
          "output_type": "stream",
          "name": "stdout",
          "text": [
            "Square of 1 is 1\n",
            "Square of 2 is 4\n",
            "Square of 3 is 9\n",
            "Square of 4 is 16\n",
            "Square of 5 is 25\n",
            "Square of 6 is 36\n",
            "Square of 7 is 49\n",
            "Square of 8 is 64\n",
            "Square of 9 is 81\n",
            "Square of 10 is 100\n",
            "Cube of 1 is 1\n",
            "Cube of 2 is 8\n",
            "Cube of 3 is 27\n",
            "Cube of 4 is 64\n",
            "Cube of 5 is 125\n",
            "Cube of 6 is 216\n",
            "Cube of 7 is 343\n",
            "Cube of 8 is 512\n",
            "Cube of 9 is 729\n",
            "Cube of 10 is 1000\n"
          ]
        }
      ]
    },
    {
      "cell_type": "markdown",
      "source": [
        "5. Multithreading in software development has both advantages and disadvantages. Here are some of them :\n",
        "* **Advantages of Multithreading :**\n",
        "  - **Increased performance :** Multithreading allows multiple parts of a program to run concurrently, which can improve the program's overall performance, especially on multi-core processors.\n",
        "  - **Responsiveness :** Multithreading can improve a program's responsiveness by allowing tasks that are not dependent on each other to run simultaneously. This means that the program can continue to accept input or respond to user actions even while it is performing other tasks.\n",
        "  - **Resource sharing :** Multithreading allows threads to share resources such as memory and files, which can save memory and improve resource utilization.\n",
        "  - **Modular design :** Multithreading can help to improve the modularity and organization of a program by breaking it down into smaller, more manageable parts.\n",
        "\n",
        "\n",
        "\n",
        "* **Disadvantages of Multithreading :**\n",
        "  - **Complex to design :** Multithreaded programs can be complex to design and debug. Synchronization between threads to avoid race conditions, deadlocks and other concurrency issues can be tricky to manage.\n",
        "  - **Resource contention :** Multithreading can cause resource contention issues, such as multiple threads competing for access to the same resources such as memory, files, or devices. This can lead to reduced performance, race conditions, deadlocks, and other issues.\n",
        "  - **Increased memory usage :** Multithreading can increase memory usage, as each thread requires its own stack space and data structure to manage the thread.\n",
        "  - **Difficulty of debugging :** Multithreaded programs can be more difficult to debug than single-threaded programs. Synchronization and data sharing issues can be difficult to detect and reproduce, and debugging tools are not always effective for multithreaded programs."
      ],
      "metadata": {
        "id": "Dj5MrVRoAKpL"
      }
    },
    {
      "cell_type": "markdown",
      "source": [
        "6. **Deadlocks** occur when two or more threads are blocked, waiting for each other to release a resource that they need to proceed, while **race conditions** occur when the behavior of a program depends on the order and timing of events that are not properly synchronized between threads. \n",
        "\n",
        "  Both problems are caused by the lack of proper synchronization between threads, and can result in unpredictable program behavior, crashes or hangs. Synchronization mechanisms such as locks, semaphores and monitors can be used to prevent these problems."
      ],
      "metadata": {
        "id": "Irhi2tHUB1my"
      }
    }
  ]
}