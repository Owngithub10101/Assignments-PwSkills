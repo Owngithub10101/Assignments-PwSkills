{
 "cells": [
  {
   "attachments": {},
   "cell_type": "markdown",
   "metadata": {},
   "source": [
    "# Assignment : 35(11th Mar'2023)"
   ]
  },
  {
   "attachments": {},
   "cell_type": "markdown",
   "metadata": {},
   "source": [
    "1. **What is the difference between a t-test and a z-test? Provide an example scenario where you would use each type of test.** "
   ]
  },
  {
   "attachments": {},
   "cell_type": "markdown",
   "metadata": {},
   "source": [
    "The main difference between a **t-test** and a **z-test** is the type of data being analyzed. <br>\n",
    "A **z-test** is used when the population standard deviation is known, while a **t-test** is used when the population standard deviation is unknown and needs to be estimated from the sample data. A t-test is generally considered to be more appropriate when the sample size is small **(less than 30)**.\n",
    "\n",
    "**For example :** <br>\n",
    "If we want to compare the mean weight of apples between two orchards, and we know the population standard deviation of weights, we can use a z-test. On the other hand, if we want to compare the mean weight of apples between two orchards, but we do not know the population standard deviation of weights, we can use a t-test."
   ]
  },
  {
   "attachments": {},
   "cell_type": "markdown",
   "metadata": {},
   "source": [
    "2. **Differentiate between one-tailed and two-tailed tests.**"
   ]
  },
  {
   "attachments": {},
   "cell_type": "markdown",
   "metadata": {},
   "source": [
    "In a **one-tailed test**, the null hypothesis is rejected if the sample mean is significantly greater than or less than the hypothesized population mean in a particular direction. <br>\n",
    "In a **two-tailed test**, the null hypothesis is rejected if the sample mean is significantly different from the hypothesized population mean in any direction.\n",
    "\n",
    "**For example :** <br>\n",
    "If we are testing the hypothesis that the mean height of students in a school is greater than 170 cm, a one-tailed test would reject the null hypothesis only if the sample mean is significantly greater than 170 cm. A two-tailed test, on the other hand, would reject the null hypothesis if the sample mean is significantly different from 170 cm in either direction."
   ]
  },
  {
   "attachments": {},
   "cell_type": "markdown",
   "metadata": {},
   "source": [
    "3. **Explain the concept of Type 1 and Type 2 errors in hypothesis testing. Provide an example scenario for each type of error.** "
   ]
  },
  {
   "attachments": {},
   "cell_type": "markdown",
   "metadata": {},
   "source": [
    "In **hypothesis testing**, a **Type 1** error occurs when the null hypothesis is rejected even though it is true, while a **Type 2** error occurs when the null hypothesis is not rejected even though it is false.\n",
    "\n",
    "**For example :**<br> Suppose a company is testing a new drug and wants to ensure that the drug has an effect before it is released to the market. A Type 1 error would occur if the company concludes that the drug is effective when it is actually not. A Type 2 error would occur if the company concludes that the drug is not effective when it actually is."
   ]
  },
  {
   "attachments": {},
   "cell_type": "markdown",
   "metadata": {},
   "source": [
    "4. **Explain Bayes's theorem with an example.**"
   ]
  },
  {
   "attachments": {},
   "cell_type": "markdown",
   "metadata": {},
   "source": [
    "**Bayes's theorem** is a mathematical formula that describes the probability of an event, based on prior knowledge of conditions that might be related to the event. <br> *Bayes's theorem states that the probability of an event A, given some evidence B, is equal to the probability of B given A, multiplied by the prior probability of A, divided by the prior probability of B.*\n",
    "\n",
    "**For example :** <br> Suppose a factory produces widgets, and 1% of the widgets are defective. A quality control inspector randomly selects a widget and finds that it is defective. Using Bayes's theorem, we can calculate the probability that the widget came from a certain production line. If we know that Line A produces 60% of the widgets and Line B produces 40% of the widgets, we can use Bayes's theorem to update our prior belief about the likelihood that the widget came from Line A or Line B."
   ]
  },
  {
   "attachments": {},
   "cell_type": "markdown",
   "metadata": {},
   "source": [
    "5. **What is a confidence interval? How to calculate the confidence interval, explain with an example.**"
   ]
  },
  {
   "attachments": {},
   "cell_type": "markdown",
   "metadata": {},
   "source": [
    " A **confidence interval** is a range of values that is likely to contain the true value of a population parameter with a certain degree of confidence. It is calculated from a sample of data using a point estimate of the population parameter and a margin of error. \n",
    " \n",
    "**For example :** <br> A 95% confidence interval for the population mean weight of apples might be 0.5 to 1.5 pounds, based on a sample mean weight of 1 pound and a margin of error of 0.5 pounds."
   ]
  },
  {
   "attachments": {},
   "cell_type": "markdown",
   "metadata": {},
   "source": [
    "6. **Use Bayes' Theorem to calculate the probability of an event occurring given prior knowledge of the event's probability and new evidence. Provide a sample problem and solution.**"
   ]
  },
  {
   "attachments": {},
   "cell_type": "markdown",
   "metadata": {},
   "source": [
    "**Bayes' Theorem** is a mathematical formula that calculates the probability of an event occurring given prior knowledge of the event's probability and new evidence. <br>\n",
    "The formula is $P(A|B) = \\frac{P(B|A) \\cdot P(A)}{P(B)}$, where P(A|B) is the probability of A given B, P(B|A) is the probability of B given A, P(A) is the prior probability of A, and P(B) is the prior probability of B. \n",
    "\n",
    "**For example :** <br>\n",
    "Suppose a test for a rare disease has a false positive rate of 5% and a false negative rate of 1%, and the prior probability of having the disease is 0.1%.\n",
    " \n",
    "If a person tests positive for the disease, the probability of actually having the disease is $P(D|+) = \\frac{P(+|D) \\times P(D)}{P(+)}$, where P(D|+) is the probability of having the disease given a positive test result, P(+|D) is the probability of a positive test result given the disease, P(D) is the prior probability of having the disease, and P(+) is the probability of a positive test result. \n",
    "\n",
    "Plugging in the values, we get $P(D|+) = \\frac{P(+|D) \\cdot P(D)}{P(+)} = \\frac{0.99 \\cdot 0.001}{0.99 \\cdot 0.001 + 0.05 \\cdot 0.999} = 0.0186$, or 1.86%."
   ]
  },
  {
   "attachments": {},
   "cell_type": "markdown",
   "metadata": {},
   "source": [
    "7. **Calculate the 95% confidence interval for a sample of data with a mean of 50 and a standard deviation of 5. Interpret the results.**"
   ]
  },
  {
   "attachments": {},
   "cell_type": "markdown",
   "metadata": {},
   "source": [
    "To calculate a 95% confidence interval for a sample of data with a mean of 50 and a standard deviation of 5, we first determine the margin of error, which is given by the formula $ME = z \\cdot \\frac{s}{\\sqrt{n}}$, where z is the z-score corresponding to the desired level of confidence (in this case, 1.96 for 95%), s is the sample standard deviation (5), and n is the sample size.\n",
    "\n",
    "Plugging in the values, we get $ME = 1.96 \\cdot \\left(\\frac{5}{\\sqrt{1}}\\right) = 9.8$.\n",
    "<br>The confidence interval is then given by the formula $CI = x \\pm ME$, where x is the sample mean (50). Thus, the 95% confidence interval is 40.2 to 59.8. This means that if we were to repeat the sampling process many times, 95% of the resulting confidence intervals would contain the true population mean."
   ]
  },
  {
   "attachments": {},
   "cell_type": "markdown",
   "metadata": {},
   "source": [
    "8. **What is the margin of error in a confidence interval? How does sample size affect the margin of error? Provide an example of a scenario where a larger sample size would result in a smaller margin of error.**"
   ]
  },
  {
   "attachments": {},
   "cell_type": "markdown",
   "metadata": {},
   "source": [
    "The margin of error in a confidence interval is the amount by which the point estimate of the population parameter might be off due to random sampling error. It is calculated from the sample size and the standard error of the estimate. A larger sample size will generally result in a smaller margin of error, because a larger sample provides more information about the population and reduces the effects of random sampling error.\n",
    "\n",
    "**For example :** <br>\n",
    "A survey of 1000 people might have a margin of error of $\\pm$ 3%, while a survey of 100 people might have a margin of error of $\\pm$ 10%."
   ]
  },
  {
   "attachments": {},
   "cell_type": "markdown",
   "metadata": {},
   "source": [
    "9. **Calculate the z-score for a data point with a value of 75, a population mean of 70, and a population standard deviation of 5. Interpret the results.**"
   ]
  },
  {
   "attachments": {},
   "cell_type": "markdown",
   "metadata": {},
   "source": [
    "Calculate the z-score for a data point with a value of 75, a population mean of 70, and a population standard deviation of 5. Interpret the results.\n",
    "\n",
    "The formula for calculating the z-score is:\n",
    "\n",
    "$ z = \\frac{(x - \\mu)}{σ}$\n",
    "\n",
    "where x is the data point, μ is the population mean, and σ is the population standard deviation.\n",
    "\n",
    "Plugging in the values given, we get:\n",
    "\n",
    "$z = \\frac{(75 - 70)}{5} = 1$\n",
    "\n",
    "This means that the data point is 1 standard deviation above the population mean."
   ]
  },
  {
   "attachments": {},
   "cell_type": "markdown",
   "metadata": {},
   "source": [
    "10. **In a study of the effectiveness of a new weight loss drug, a sample of 50 participants lost an average of 6 pounds with a standard deviation of 2.5 pounds. Conduct a hypothesis test to determine if the drug is significantly effective at a 95% confidence level using a t-test.**"
   ]
  },
  {
   "attachments": {},
   "cell_type": "markdown",
   "metadata": {},
   "source": [
    "In a study of the effectiveness of a new weight loss drug, a sample of 50 participants lost an average of 6 pounds with a standard deviation of 2.5 pounds. Conduct a hypothesis test to determine if the drug is significantly effective at a 95% confidence level using a t-test.\n",
    "\n",
    "Null hypothesis: The weight loss drug is not significantly effective.\n",
    "Alternative hypothesis: The weight loss drug is significantly effective.\n",
    "\n",
    "We will use a one-sample t-test to test the hypothesis. The formula for the t-test statistic is:\n",
    "\n",
    "$t = \\frac{\\bar{x} - \\mu}{s / \\sqrt{n}}$\n",
    "\n",
    "where x̄ is the sample mean, μ is the hypothesized population mean (in this case, 0 because we assume the drug has no effect), s is the sample standard deviation, and n is the sample size.\n",
    "\n",
    "Plugging in the values given, we get:\n",
    "\n",
    "$t = \\frac{6 - 0}{\\frac{2.5}{\\sqrt{50}}} = 12$\n",
    "\n",
    "The degrees of freedom for the t-distribution are $49 \\cdot(n - 1)$.\n",
    "\n",
    "Using a t-table or calculator with a significance level of 0.05 and 49 degrees of freedom, we find that the critical t-value is 2.009.\n",
    "\n",
    "Since our calculated t-value (12) is greater than the critical t-value (2.009), we reject the null hypothesis and conclude that the weight loss drug is significantly effective at a 95% confidence level."
   ]
  },
  {
   "attachments": {},
   "cell_type": "markdown",
   "metadata": {},
   "source": [
    "11. **In a survey of 500 people, 65% reported being satisfied with their current job. Calculate the 95% confidence interval for the true proportion of people who are satisfied with their job.**"
   ]
  },
  {
   "attachments": {},
   "cell_type": "markdown",
   "metadata": {},
   "source": [
    "In a survey of 500 people, 65% reported being satisfied with their current job. Calculate the 95% confidence interval for the true proportion of people who are satisfied with their job.\n",
    "\n",
    "The formula for calculating the confidence interval for a proportion is:\n",
    "\n",
    "$CI = \\hat{p} \\pm z * (\\sqrt{\\frac{\\hat{p}(1-\\hat{p})}{n}})$\n",
    "\n",
    "where p̂ is the sample proportion, n is the sample size, and z is the critical z-value for the desired confidence level.\n",
    "\n",
    "Plugging in the values given, we get:\n",
    "\n",
    "$CI = 0.65 \\pm 1.96 \\left(\\sqrt{\\frac{0.65 \\times 0.35}{500}}\\right)$\n",
    "\n",
    "Simplifying this, we get:\n",
    "\n",
    "$CI = (0.61, 0.69)$\n",
    "\n",
    "Therefore, we can say with 95% confidence that the true proportion of people who are satisfied with their job is between 0.61 and 0.69."
   ]
  },
  {
   "attachments": {},
   "cell_type": "markdown",
   "metadata": {},
   "source": [
    "12. **A researcher is testing the effectiveness of two different teaching methods on student performance. Sample A has a mean score of 85 with a standard deviation of 6, while sample B has a mean score of 82 with a standard deviation of 5. Conduct a hypothesis test to determine if the two teaching methods have a significant difference in student performance using a t-test with a significance level of 0.01.**"
   ]
  },
  {
   "attachments": {},
   "cell_type": "markdown",
   "metadata": {},
   "source": [
    "We can start by setting up the null and alternative hypotheses:\n",
    "\n",
    "$H_0: \\mu_A = \\mu_B$\n",
    "\n",
    "$H_1: \\mu_A \\neq \\mu_B$\n",
    "\n",
    "where $\\mu_A$ and $\\mu_B$ are the population means for samples A and B, respectively.\n",
    "\n",
    "Next, we can calculate the test statistic:\n",
    "\n",
    "$t = \\frac{\\bar{X}_A - \\bar{X}_B}{\\sqrt{\\frac{S_A^2}{n_A} + \\frac{S_B^2}{n_B}}}$\n",
    "\n",
    "Substituting in the values given in the problem, we get:\n",
    "\n",
    "$t = \\frac{85 - 82}{\\sqrt{\\frac{6^2}{n_A} + \\frac{5^2}{n_B}}} = \\frac{3}{\\sqrt{\\frac{36}{n_A} + \\frac{25}{n_B}}}$\n",
    "\n",
    "Since we are testing at a 0.01 significance level, we can use a two-tailed t-test with degrees of freedom equal to $n_A + n_B - 2$. Using a t-distribution table, we find the critical t-value to be approximately $\\pm 2.576$.\n",
    "\n",
    "If the absolute value of the test statistic is greater than the critical value, we can reject the null hypothesis and conclude that there is a significant difference between the two teaching methods. Otherwise, we fail to reject the null hypothesis and conclude that there is not enough evidence to suggest a difference."
   ]
  },
  {
   "attachments": {},
   "cell_type": "markdown",
   "metadata": {},
   "source": [
    "13. **A population has a mean of 60 and a standard deviation of 8. A sample of 50 observations has a mean of 65. Calculate the 90% confidence interval for the true population mean.**"
   ]
  },
  {
   "attachments": {},
   "cell_type": "markdown",
   "metadata": {},
   "source": [
    "We can start by using the formula for a confidence interval for a population mean:\n",
    "\n",
    "$\\bar{X} \\pm z_{\\alpha/2}\\frac{s}{\\sqrt{n}}$\n",
    "\n",
    "where $\\bar{X}$ is the sample mean, $s$ is the sample standard deviation, $n$ is the sample size, and $z_{\\alpha/2}$ is the critical value for a level of significance of $\\alpha$.\n",
    "\n",
    "Substituting in the values given in the problem, we get:\n",
    "\n",
    "$65 \\pm 1.645\\frac{8}{\\sqrt{50}}$\n",
    "\n",
    "Simplifying, we get:\n",
    "\n",
    "$65 \\pm 2.342$\n",
    "\n",
    "So the 90% confidence interval for the true population mean is (62.658, 67.342)."
   ]
  },
  {
   "attachments": {},
   "cell_type": "markdown",
   "metadata": {},
   "source": [
    "14. **In a study of the effects of caffeine on reaction time, a sample of 30 participants had an average reaction time of 0.25 seconds with a standard deviation of 0.05 seconds. Conduct a hypothesis test to determine if the caffeine has a significant effect on reaction time at a 90% confidence level using a t-test.**"
   ]
  },
  {
   "attachments": {},
   "cell_type": "markdown",
   "metadata": {},
   "source": [
    "**Step 1** - State the null and alternative hypotheses:\n",
    "\n",
    "Null hypothesis: $H_0: \\mu = 0.25$\n",
    "\n",
    "Alternative hypothesis: $H_1: \\mu \\neq 0.25$\n",
    "\n",
    "where $\\mu$ is the true population mean reaction time.\n",
    "\n",
    "**Step 2** - Determine the significance level $\\alpha$:\n",
    "\n",
    "The significance level is given as 0.10 or 10%.\n",
    "\n",
    "**Step 3** - Compute the test statistic:\n",
    "\n",
    "We can use the t-test statistic formula:\n",
    "\n",
    "$t = \\frac{\\bar{x} - \\mu}{\\frac{s}{\\sqrt{n}}}$\n",
    "\n",
    "where $\\bar{x}$ is the sample mean, $\\mu$ is the hypothesized population mean, $s$ is the sample standard deviation, and $n$ is the sample size.\n",
    "\n",
    "Plugging in the given values, we get:\n",
    "\n",
    "$t = \\frac{0.25-0.25}{0.05/\\sqrt{30}} = 0$\n",
    "\n",
    "**Step 4** - Compute the p-value:\n",
    "\n",
    "We need to find the p-value associated with the test statistic. Since the alternative hypothesis is two-tailed, we use a t-distribution with degrees of freedom $df = n - 1 = 29$ to find the p-value.\n",
    "\n",
    "The p-value is the probability of observing a test statistic as extreme as the one computed from the sample, assuming the null hypothesis is true. Since our test statistic is 0, the p-value is the probability of observing a value as extreme as 0 in a t-distribution with 29 degrees of freedom.\n",
    "\n",
    "Using a t-distribution table or calculator, we find that the p-value is 1.000.\n",
    "\n",
    "**Step 5** - Make a decision and interpret the results:\n",
    "\n",
    "Since the p-value is greater than the significance level of 0.10, we fail to reject the null hypothesis. There is not enough evidence to conclude that caffeine has a significant effect on reaction time at a 90% confidence level."
   ]
  }
 ],
 "metadata": {
  "kernelspec": {
   "display_name": "nav",
   "language": "python",
   "name": "python3"
  },
  "language_info": {
   "codemirror_mode": {
    "name": "ipython",
    "version": 3
   },
   "file_extension": ".py",
   "mimetype": "text/x-python",
   "name": "python",
   "nbconvert_exporter": "python",
   "pygments_lexer": "ipython3",
   "version": "3.11.3"
  },
  "orig_nbformat": 4
 },
 "nbformat": 4,
 "nbformat_minor": 2
}
