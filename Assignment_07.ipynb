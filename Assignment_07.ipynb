{
  "nbformat": 4,
  "nbformat_minor": 0,
  "metadata": {
    "colab": {
      "provenance": [],
      "toc_visible": true
    },
    "kernelspec": {
      "name": "python3",
      "display_name": "Python 3"
    },
    "language_info": {
      "name": "python"
    }
  },
  "cells": [
    {
      "cell_type": "markdown",
      "source": [
        "# Assignment : 07(6th Feb'2023)"
      ],
      "metadata": {
        "id": "gkyZz7q7Trs0"
      }
    },
    {
      "cell_type": "markdown",
      "source": [
        "1. Here's a function in Python that takes the list `lst` as an argument and returns the `flat_list` and product of all the numbers present in it after creating a `flat_list` :\n",
        "\n",
        "  **Note :** Converting a list of lists (2D), into a list (1D) is called flattening."
      ],
      "metadata": {
        "id": "4fLkyHO1T36B"
      }
    },
    {
      "cell_type": "code",
      "source": [
        "def get_product_of_numbers(lst):\n",
        "    flat_list = []\n",
        "\n",
        "    def flatten(l):\n",
        "        for i in l:\n",
        "            if isinstance(i, list):\n",
        "                flatten(i)\n",
        "            elif isinstance(i, tuple):\n",
        "                flatten(list(i))\n",
        "            elif isinstance(i, set):\n",
        "                flatten(list(i))\n",
        "            elif isinstance(i, dict):\n",
        "                for key, value in i.items():\n",
        "                    if isinstance(key, int) or isinstance(key, float):\n",
        "                        flat_list.append(key)\n",
        "                    if isinstance(value, int) or isinstance(value, float):\n",
        "                        flat_list.append(value)\n",
        "                    if isinstance(value, list):\n",
        "                        flatten(value)\n",
        "                    if isinstance(value, tuple):\n",
        "                        flatten(list(value))\n",
        "                    if isinstance(value, set):\n",
        "                        flatten(list(value))\n",
        "            elif isinstance(i, int) or isinstance(i, float):\n",
        "                flat_list.append(i)\n",
        "  \n",
        "    flatten(lst) # _here you get flatten list.\n",
        "\n",
        "    # _here we going to calculate product of list.\n",
        "    product = 1\n",
        "    for num in flat_list:\n",
        "        product *= num\n",
        "    return product,flat_list\n",
        "\n",
        "lst = [1,2,3,4, [44,55,66, True], False, (34,56,78,89,34), {1,2,3,3,2,1}, {1:34, \"key2\": [55, 67, 78, 89], 4: (45, 22, 61, 34)}, [56, 'data science'], 'Machine Learning']\n",
        "product,lst = get_product_of_numbers(lst)\n",
        "print(\"flatten_list : \",lst,\"\\nflatten_product : \",product)\n"
      ],
      "metadata": {
        "colab": {
          "base_uri": "https://localhost:8080/"
        },
        "id": "B_TtTaP0-EO1",
        "outputId": "63e63876-a5da-4e3b-db74-56433cbe7954"
      },
      "execution_count": null,
      "outputs": [
        {
          "output_type": "stream",
          "name": "stdout",
          "text": [
            "flatten_list :  [1, 2, 3, 4, 44, 55, 66, True, False, 34, 56, 78, 89, 34, 1, 2, 3, 1, 34, 55, 67, 78, 89, 4, 45, 22, 61, 34, 56] \n",
            "flatten_product :  0\n"
          ]
        }
      ]
    },
    {
      "cell_type": "markdown",
      "source": [
        "2. Here is the Python program to encrypt the given message :"
      ],
      "metadata": {
        "id": "D3e8QpyJHNWd"
      }
    },
    {
      "cell_type": "code",
      "source": [
        "def encrypt_msg(msg):\n",
        "    encryption_key = {\n",
        "        'a': 'z',\n",
        "        'b': 'y',\n",
        "        'c': 'x',\n",
        "        ' ': '$'\n",
        "    }\n",
        "    \n",
        "    encrypted_msg = \"\"\n",
        "    for char in msg.lower():\n",
        "        if char in encryption_key:\n",
        "            encrypted_msg += encryption_key[char]\n",
        "        else:\n",
        "            encrypted_msg += char\n",
        "    \n",
        "    return encrypted_msg\n",
        "\n",
        "input_msg = \"I want to become a Data Scientist.\"\n",
        "encrypted_msg = encrypt_msg(input_msg)\n",
        "print(\"Encrypted message:\", encrypted_msg)\n"
      ],
      "metadata": {
        "colab": {
          "base_uri": "https://localhost:8080/"
        },
        "id": "QbsAxXkmIyZh",
        "outputId": "aa6b1875-29bd-4f13-8189-c14afecd04c7"
      },
      "execution_count": 40,
      "outputs": [
        {
          "output_type": "stream",
          "name": "stdout",
          "text": [
            "Encrypted message: i$wznt$to$yexome$z$dztz$sxientist.\n"
          ]
        }
      ]
    },
    {
      "cell_type": "markdown",
      "source": [
        "* This problem become more systematic if we use,\n",
        "  ```\n",
        "    encryption_key = {\n",
        "        'a': 'z','b': 'y','c': 'x','d': 'w','e': 'v','f': 'u','g': 't',\n",
        "        'h': 's','i': 'r','j': 'q','k': 'p','l': 'o','m': 'n','n': 'm',\n",
        "        'o': 'l','p': 'k','q': 'j','r': 'i','s': 'h','t': 'g','u': 'f',\n",
        "        'v': 'e','w': 'd','x': 'c','y': 'b','z': 'a',' ': '$'\n",
        "    }\n",
        "  ```\n",
        "then it's might be close to real `message encryption problem`.\n",
        "and the same soltuion for this problem generates more encrypted_msg for given input sentence.\n",
        "\n",
        "\n",
        "* I think this is whole problem and correct solution for this is given bellow."
      ],
      "metadata": {
        "id": "fZ5Bxsa8Jw37"
      }
    },
    {
      "cell_type": "code",
      "source": [
        "def encrypt_msg(msg):\n",
        "    encryption_key = {\n",
        "      'a': 'z','b': 'y','c': 'x','d': 'w','e': 'v','f': 'u','g': 't',\n",
        "      'h': 's','i': 'r','j': 'q','k': 'p','l': 'o','m': 'n','n': 'm',\n",
        "      'o': 'l','p': 'k','q': 'j','r': 'i','s': 'h','t': 'g','u': 'f',\n",
        "      'v': 'e','w': 'd','x': 'c','y': 'b','z': 'a',' ': '$'\n",
        "  }\n",
        "    \n",
        "    encrypted_msg = \"\"\n",
        "    for char in msg.lower():\n",
        "        if char in encryption_key:\n",
        "            encrypted_msg += encryption_key[char]\n",
        "        else:\n",
        "            encrypted_msg += char\n",
        "    \n",
        "    return encrypted_msg\n",
        "\n",
        "input_msg = \"I want to become a Data Scientist.\"\n",
        "encrypted_msg = encrypt_msg(input_msg)\n",
        "print(\"Encrypted message:\", encrypted_msg)"
      ],
      "metadata": {
        "colab": {
          "base_uri": "https://localhost:8080/"
        },
        "id": "lNztNzzAMQJr",
        "outputId": "566cf075-a342-4fcd-9e77-41031634d3c0"
      },
      "execution_count": 41,
      "outputs": [
        {
          "output_type": "stream",
          "name": "stdout",
          "text": [
            "Encrypted message: r$dzmg$gl$yvxlnv$z$wzgz$hxrvmgrhg.\n"
          ]
        }
      ]
    }
  ]
}