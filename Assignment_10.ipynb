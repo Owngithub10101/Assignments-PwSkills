{
  "nbformat": 4,
  "nbformat_minor": 0,
  "metadata": {
    "colab": {
      "provenance": []
    },
    "kernelspec": {
      "name": "python3",
      "display_name": "Python 3"
    },
    "language_info": {
      "name": "python"
    }
  },
  "cells": [
    {
      "cell_type": "markdown",
      "source": [
        "# Assignment : 10(09th Feb'2023)"
      ],
      "metadata": {
        "id": "yU_27CFmZCsJ"
      }
    },
    {
      "cell_type": "markdown",
      "source": [
        "1. Here is an example of a Python class named \"`Vehicle`\" with the desired instance variables and an `__init__` method :"
      ],
      "metadata": {
        "id": "h2ua-5AYZK8l"
      }
    },
    {
      "cell_type": "code",
      "source": [
        "class Vehicle:\n",
        "    def __init__(self, name_of_vehicle, max_speed, average_of_vehicle):\n",
        "        self.name_of_vehicle = name_of_vehicle\n",
        "        self.max_speed = max_speed\n",
        "        self.average_of_vehicle = average_of_vehicle\n",
        "        \n",
        "car = Vehicle(\"Car\", 180, 15)\n",
        "print(\"Name of Vehicle :\",car.name_of_vehicle)\n",
        "print(\"Max Speed :\",car.max_speed)\n",
        "print(\"Average of Vehicle :\",car.average_of_vehicle)\n"
      ],
      "metadata": {
        "colab": {
          "base_uri": "https://localhost:8080/"
        },
        "id": "Pw9M5jJrZjIn",
        "outputId": "b9216579-8a29-4a61-a235-336fff77d89e"
      },
      "execution_count": 30,
      "outputs": [
        {
          "output_type": "stream",
          "name": "stdout",
          "text": [
            "Name of Vehicle : Car\n",
            "Max Speed : 180\n",
            "Average of Vehicle : 15\n"
          ]
        }
      ]
    },
    {
      "cell_type": "markdown",
      "source": [
        "2. Here's an example of a Python class named \"`Car`\" which inherits from the \"`Vehicle`\" class and adds a seating_capacity method :"
      ],
      "metadata": {
        "id": "2z8G018VaSFi"
      }
    },
    {
      "cell_type": "code",
      "source": [
        "class Car(Vehicle):\n",
        "    def __init__(self, name_of_vehicle, max_speed, average_of_vehicle, capacity):\n",
        "        super().__init__(name_of_vehicle, max_speed, average_of_vehicle)\n",
        "        self.capacity = capacity\n",
        "\n",
        "    def seating_capacity(self):\n",
        "        return self.name_of_vehicle,self.capacity\n",
        "\n",
        "car = Car(\"Sedan\", 200, 10, 4)\n",
        "obj = iter(car.seating_capacity())\n",
        "print(\"Vehicle Name :\", next(obj))\n",
        "print(\"Vehicle Capacity :\", next(obj))\n"
      ],
      "metadata": {
        "colab": {
          "base_uri": "https://localhost:8080/"
        },
        "id": "_pE6403tbOw2",
        "outputId": "0298910c-8e8d-4f6a-d18b-4b55e0793773"
      },
      "execution_count": 27,
      "outputs": [
        {
          "output_type": "stream",
          "name": "stdout",
          "text": [
            "Vehicle Name : Sedan\n",
            "Vehicle Capacity : 4\n"
          ]
        }
      ]
    },
    {
      "cell_type": "markdown",
      "source": [
        "3. In **multiple inheritance**, a class inherits from more than one base class, thus allowing it to inherit properties and methods from multiple sources.\n",
        "\n",
        "* Here's an example of a Python class named `Child` that demonstrates multiple inheritance by inheriting from two classes `Parent1` and `Parent2` :"
      ],
      "metadata": {
        "id": "obf7QtenemkW"
      }
    },
    {
      "cell_type": "code",
      "source": [
        "class Parent1:\n",
        "    def method_one(self):\n",
        "        return \"Method one of Parent1.\"\n",
        "\n",
        "class Parent2:\n",
        "    def method_two(self):\n",
        "        return \"Method two of Parent2.\"\n",
        "\n",
        "class Child(Parent1, Parent2):\n",
        "    pass\n",
        "\n",
        "c = Child()\n",
        "print(c.method_one())\n",
        "print(c.method_two())\n"
      ],
      "metadata": {
        "colab": {
          "base_uri": "https://localhost:8080/"
        },
        "id": "N2z6Lcz1fFsS",
        "outputId": "14522ebf-e487-4fb2-9bbb-78d264f5a8f5"
      },
      "execution_count": 31,
      "outputs": [
        {
          "output_type": "stream",
          "name": "stdout",
          "text": [
            "Method one of Parent1.\n",
            "Method two of Parent2.\n"
          ]
        }
      ]
    },
    {
      "cell_type": "markdown",
      "source": [
        "4. **Getters and setters are special methods in Python that allow you to access or set the values of an object's properties.** \n",
        "\n",
        "* The getters and setters are often used to implement encapsulation, which is a technique for hiding the implementation details of a class and exposing only the necessary information to the outside world.\n",
        "\n",
        "\n",
        "* Here's an example of a Python class named `Person` with a `name` property and getter and setter methods :"
      ],
      "metadata": {
        "id": "kmuvotXhfqDT"
      }
    },
    {
      "cell_type": "code",
      "source": [
        "class Person:\n",
        "    def __init__(self, name):\n",
        "        self.__name = name\n",
        "\n",
        "    def get_name(self):\n",
        "        return self.__name\n",
        "\n",
        "    def set_name(self, name):\n",
        "        self.__name = name\n",
        "\n",
        "name = Person(\"Sudhansu\")\n",
        "print(name.get_name())\n",
        "name.set_name(\"Krish Naik\")\n",
        "print(name.get_name())\n"
      ],
      "metadata": {
        "colab": {
          "base_uri": "https://localhost:8080/"
        },
        "id": "7wU_-tFMgLel",
        "outputId": "72b811b4-d944-46d7-e2a8-7e76e4d7e511"
      },
      "execution_count": 33,
      "outputs": [
        {
          "output_type": "stream",
          "name": "stdout",
          "text": [
            "Sudhansu\n",
            "Krish Naik\n"
          ]
        }
      ]
    },
    {
      "cell_type": "markdown",
      "source": [
        "5. Method overriding is a feature in object-oriented programming where a subclass provides a new implementation for a method that is already defined in its parent class. The new implementation in the subclass \"overrides\" the original implementation in the parent class. This allows you to reuse the parent class code but change its behavior when needed in the subclass.\n",
        "\n",
        "* Here's an example of a Python class hierarchy with method overriding:"
      ],
      "metadata": {
        "id": "hO601N2Mhc_r"
      }
    },
    {
      "cell_type": "code",
      "source": [
        "class Animal:\n",
        "    def make_sound(self):\n",
        "        return \"The animal makes a sound.\"\n",
        "\n",
        "class Dog(Animal):\n",
        "    def make_sound(self):\n",
        "        return \"The dog barks.\"\n",
        "\n",
        "animal = Animal()\n",
        "dog = Dog()\n",
        "print(animal.make_sound())\n",
        "print(dog.make_sound())\n"
      ],
      "metadata": {
        "colab": {
          "base_uri": "https://localhost:8080/"
        },
        "id": "AJz5DhvLhfQL",
        "outputId": "3dc71cb0-6ff3-404b-a60a-72ac29c0c992"
      },
      "execution_count": 35,
      "outputs": [
        {
          "output_type": "stream",
          "name": "stdout",
          "text": [
            "The animal makes a sound.\n",
            "The dog barks.\n"
          ]
        }
      ]
    }
  ]
}