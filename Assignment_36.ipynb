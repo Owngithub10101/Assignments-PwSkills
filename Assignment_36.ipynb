{
 "cells": [
  {
   "attachments": {},
   "cell_type": "markdown",
   "metadata": {},
   "source": [
    "# Assignment : 36(12th Mar'2023)"
   ]
  },
  {
   "attachments": {},
   "cell_type": "markdown",
   "metadata": {},
   "source": [
    "1. **Calculate the 95% confidence interval for a sample of data with a mean of 50 and a standard deviation of 5 using Python. Interpret the results.**"
   ]
  },
  {
   "attachments": {},
   "cell_type": "markdown",
   "metadata": {},
   "source": [
    "Calculate the 95% confidence interval for a sample of data with a mean of 50 and a standard deviation of 5 using Python. Interpret the results.\n",
    "\n",
    "**Given:** $\\bar{x} = 50$, $s = 5$, $n = 1$\n",
    "\n",
    "Standard error: $SE = \\frac{s}{\\sqrt{n}} = \\frac{5}{1} = 5$\n",
    "\n",
    "Margin of error: $ME = t_{\\alpha/2, n-1} \\cdot SE$\n",
    "\n",
    "Degrees of freedom: $df = n-1 = 0$\n",
    "\n",
    "Using t-distribution table: $t_{\\alpha/2, n-1} = t_{0.025, 0} = \\text{undefined}$\n",
    "\n",
    "Since the degrees of freedom is 0, we cannot use the t-distribution table. Instead, we can use a Z-distribution table: $Z_{\\alpha/2} = Z_{0.025} = 1.96$\n",
    "\n",
    "Confidence interval: $\\bar{x} \\pm ME = \\bar{x} \\pm Z_{\\alpha/2} \\cdot SE = 50 \\pm 1.96 \\cdot 5 = (40.2,\\ 59.8)$\n",
    "\n",
    "**Interpretation :** We are 95% confident that the true population mean lies between 40.2 and 59.8.\n"
   ]
  },
  {
   "attachments": {},
   "cell_type": "markdown",
   "metadata": {},
   "source": [
    "2. **Conduct a chi-square goodness of fit test to determine if the distribution of colors of M&Ms in a bag matches the expected distribution of 20% blue, 20% orange, 20% green, 10% yellow, 10% red, and 20% brown. Use Python to perform the test with a significance level of 0.05.**"
   ]
  },
  {
   "attachments": {},
   "cell_type": "markdown",
   "metadata": {},
   "source": [
    "To solve this problem using Python, we can use the scipy.stats module which provides functions for various statistical tests including the chi-square goodness of fit test.\n",
    "\n",
    "First, we need to import the necessary libraries and define the observed frequencies and expected frequencies."
   ]
  },
  {
   "cell_type": "code",
   "execution_count": 11,
   "metadata": {},
   "outputs": [],
   "source": [
    "# observed frequencies\n",
    "obs_freq = [18, 22, 15, 12, 10, 23]\n",
    "\n",
    "# expected frequencies\n",
    "exp_freq = [0.2*78, 0.2*78, 0.2*78, 0.1*78, 0.1*78, 0.2*78]"
   ]
  },
  {
   "attachments": {},
   "cell_type": "markdown",
   "metadata": {},
   "source": [
    "Next, we can use the `chisquare()` function to perform the chi-square goodness of fit test and calculate the test statistic and p-value."
   ]
  },
  {
   "cell_type": "code",
   "execution_count": 13,
   "metadata": {},
   "outputs": [
    {
     "name": "stdout",
     "output_type": "stream",
     "text": [
      "Test statistic: 6.333333333333333\n",
      "p-value: 0.042143843509276406\n"
     ]
    }
   ],
   "source": [
    "from scipy.stats import chisquare\n",
    "\n",
    "obs_freq = [30, 45, 25]\n",
    "exp_freq = [20, 50, 30]\n",
    "\n",
    "chi2, p = chisquare(obs_freq, f_exp=exp_freq)\n",
    "\n",
    "print(\"Test statistic:\", chi2)\n",
    "print(\"p-value:\", p)\n"
   ]
  },
  {
   "attachments": {},
   "cell_type": "markdown",
   "metadata": {},
   "source": [
    "Finally, we can check the p-value against the significance level of 0.05 to determine whether to reject or fail to reject the null hypothesis."
   ]
  },
  {
   "cell_type": "code",
   "execution_count": 14,
   "metadata": {},
   "outputs": [
    {
     "name": "stdout",
     "output_type": "stream",
     "text": [
      "Reject null hypothesis. The distribution of colors of M&Ms in the bag does not match the expected distribution.\n"
     ]
    }
   ],
   "source": [
    "alpha = 0.05\n",
    "\n",
    "if p < alpha:\n",
    "    print(\"Reject null hypothesis. The distribution of colors of M&Ms in the bag does not match the expected distribution.\")\n",
    "else:\n",
    "    print(\"Fail to reject null hypothesis. The distribution of colors of M&Ms in the bag matches the expected distribution.\")\n"
   ]
  },
  {
   "attachments": {},
   "cell_type": "markdown",
   "metadata": {},
   "source": [
    "3. **Use Python to calculate the chi-square statistic and p-value for a contingency table with the following data:**\n",
    "\n",
    "| |Group A|Group B|\n",
    "|--|--|--|\n",
    "|Outcome 1|20|15|\n",
    "|Outcome 2|10|25|\n",
    "|Outcome 3|15|20|\n",
    "\n",
    "**Interpret the results of the test.**"
   ]
  },
  {
   "cell_type": "code",
   "execution_count": 20,
   "metadata": {},
   "outputs": [
    {
     "name": "stdout",
     "output_type": "stream",
     "text": [
      "Chi-square statistic: 5.833333333333334\n",
      "p-value: 0.05411376622282158\n"
     ]
    }
   ],
   "source": [
    "from scipy.stats import chi2_contingency\n",
    "\n",
    "observed = [[20, 15], [10, 25], [15, 20]]\n",
    "\n",
    "chi2, p, dof, expected = chi2_contingency(observed)\n",
    "\n",
    "print(\"Chi-square statistic:\", chi2)\n",
    "print(\"p-value:\", p)"
   ]
  },
  {
   "attachments": {},
   "cell_type": "markdown",
   "metadata": {},
   "source": [
    "4. **A study of the prevalence of smoking in a population of 500 individuals found that 60 individuals smoked. Use Python to calculate the 95% confidence interval for the true proportion of individuals in the population who smoke.**"
   ]
  },
  {
   "cell_type": "code",
   "execution_count": 26,
   "metadata": {},
   "outputs": [
    {
     "name": "stdout",
     "output_type": "stream",
     "text": [
      "95% Confidence Interval: (0.09151638887130706, 0.14848361112869293)\n"
     ]
    }
   ],
   "source": [
    "from statsmodels.stats.proportion import proportion_confint\n",
    "\n",
    "n = 500\n",
    "count = 60\n",
    "alpha = 0.05\n",
    "\n",
    "ci = proportion_confint(count, n, alpha=alpha)\n",
    "\n",
    "print(\"95% Confidence Interval:\", ci)"
   ]
  },
  {
   "attachments": {},
   "cell_type": "markdown",
   "metadata": {},
   "source": [
    "The 95% confidence interval for the true proportion of individuals in the population who smoke is (0.0915, 0.1484). This means that we can be 95% confident that the true proportion of individuals in the population who smoke is between 9.15% and 14.84%"
   ]
  },
  {
   "attachments": {},
   "cell_type": "markdown",
   "metadata": {},
   "source": [
    "5. **Calculate the 90% confidence interval for a sample of data with a mean of 75 and a standard deviation of 12 using Python. Interpret the results.**"
   ]
  },
  {
   "cell_type": "code",
   "execution_count": 27,
   "metadata": {},
   "outputs": [
    {
     "name": "stdout",
     "output_type": "stream",
     "text": [
      "90% Confidence Interval: (73.49206383773911, 76.50793616226089)\n"
     ]
    },
    {
     "name": "stderr",
     "output_type": "stream",
     "text": [
      "C:\\Users\\navne\\AppData\\Local\\Temp\\ipykernel_9200\\3559807499.py:8: DeprecationWarning: Use of keyword argument 'alpha' for method 'interval' is deprecated and wil be removed in SciPy 1.11.0. Use first positional argument or keyword argument 'confidence' instead.\n",
      "  ci = norm.interval(alpha=alpha, loc=mean, scale=std_dev/(n**0.5))\n"
     ]
    }
   ],
   "source": [
    "from scipy.stats import norm\n",
    "\n",
    "mean = 75\n",
    "std_dev = 12\n",
    "alpha = 0.1\n",
    "n = 1\n",
    "\n",
    "ci = norm.interval(alpha=alpha, loc=mean, scale=std_dev/(n**0.5))\n",
    "\n",
    "print(\"90% Confidence Interval:\", ci)"
   ]
  },
  {
   "attachments": {},
   "cell_type": "markdown",
   "metadata": {},
   "source": [
    "6. **Use Python to plot the chi-square distribution with 10 degrees of freedom. Label the axes and shade the area corresponding to a chi-square statistic of 15.** "
   ]
  },
  {
   "cell_type": "code",
   "execution_count": 30,
   "metadata": {},
   "outputs": [
    {
     "data": {
      "image/png": "[encoded data removed]",
      "text/plain": [
       "<Figure size 640x480 with 1 Axes>"
      ]
     },
     "metadata": {},
     "output_type": "display_data"
    }
   ],
   "source": [
    "import numpy as np\n",
    "import matplotlib.pyplot as plt\n",
    "from scipy.stats import chi2\n",
    "\n",
    "df = 10\n",
    "x = np.linspace(chi2.ppf(0.01, df), chi2.ppf(0.99, df), 100)\n",
    "plt.plot(x, chi2.pdf(x, df), 'b-', lw=2, label=r'$\\chi^2$ pdf')\n",
    "plt.axvline(x=15, color='red', linestyle='--', lw=2, label='Chi-Square Statistic = 15')\n",
    "plt.fill_between(x[x>15], chi2.pdf(x[x>15], df), color='gray', alpha=0.5)\n",
    "plt.xlabel('Chi-Square Statistic')\n",
    "plt.ylabel('Probability Density')\n",
    "plt.legend()\n",
    "plt.show()"
   ]
  },
  {
   "attachments": {},
   "cell_type": "markdown",
   "metadata": {},
   "source": [
    "The red dashed line shows the chi-square statistic of 15, which is to the right of the peak of the distribution. The shaded area to the right of this line represents the p-value of the test, which is the probability of obtaining a chi-square statistic as extreme or more extreme than 15 under the null hypothesis. The p-value can be calculated as the area to the right of the red dashed line, which is approximately 0.056."
   ]
  },
  {
   "attachments": {},
   "cell_type": "markdown",
   "metadata": {},
   "source": [
    "7. **A random sample of 1000 people was asked if they preferred Coke or Pepsi. Of the sample, 520 preferred Coke. Calculate a 99% confidence interval for the true proportion of people in the population who prefer Coke.**"
   ]
  },
  {
   "attachments": {},
   "cell_type": "markdown",
   "metadata": {},
   "source": [
    "**Given :** <br>\n",
    "\n",
    "$p = \\frac{520}{1000} = 0.52$\n",
    "\n",
    "$z = 2.576 $\n",
    "\n",
    "$n = 1000 $\n",
    "\n",
    "$CI = p \\pm z\\sqrt{\\frac{p(1-p)}{n}}$\n",
    "\n",
    "Substituting these values into the formula, we get:\n",
    "\n",
    "$ \\text{CI} = 0.52 \\pm 2.576\\sqrt{\\frac{0.52(1-0.52)}{1000}} $\n",
    "\n",
    "$\\quad\\approx 0.52 \\pm 0.049$ \n",
    "\n",
    "$\\quad\\approx (0.471, 0.569)$\n",
    "\n",
    "\n",
    "Therefore, we can say with 99% confidence that the true proportion of people in the population who prefer Coke is between 0.471 and 0.569. This means that if we were to repeat this sampling process many times and calculate a confidence interval each time, approximately 99% of the intervals would contain the true population proportion."
   ]
  },
  {
   "attachments": {},
   "cell_type": "markdown",
   "metadata": {},
   "source": [
    "8. **A researcher hypothesizes that a coin is biased towards tails. They flip the coin 100 times and observe 45 tails. Conduct a chi-square goodness of fit test to determine if the observed frequencies match the expected frequencies of a fair coin. Use a significance level of 0.05.** "
   ]
  },
  {
   "cell_type": "code",
   "execution_count": 32,
   "metadata": {},
   "outputs": [
    {
     "name": "stdout",
     "output_type": "stream",
     "text": [
      "Fail to reject null hypothesis. The coin is fair.\n"
     ]
    }
   ],
   "source": [
    "from scipy.stats import chisquare\n",
    "\n",
    "# Step 1: State the null and alternative hypotheses\n",
    "    # H0: The observed frequencies match the expected frequencies of a fair coin.\n",
    "    # Ha: The observed frequencies do not match the expected frequencies of a fair coin.\n",
    "\n",
    "# Step 2: Determine the expected frequencies\n",
    "expected_freq = [50, 50]\n",
    "\n",
    "# Step 3: Calculate the test statistic\n",
    "observed_freq = [55, 45]  # 55 heads, 45 tails\n",
    "chi2, p = chisquare(observed_freq, expected_freq)\n",
    "\n",
    "# Step 4: Determine the degrees of freedom\n",
    "df = len(observed_freq) - 1\n",
    "\n",
    "# Step 5: Calculate the p-value\n",
    "alpha = 0.05\n",
    "p_value = 1 - p  # chisquare function returns the complementary cumulative distribution function (ccdf)\n",
    "\n",
    "# Step 6: Compare the p-value to the significance level\n",
    "if p_value <= alpha:\n",
    "    print(\"Reject null hypothesis. The coin is biased towards tails.\")\n",
    "else:\n",
    "    print(\"Fail to reject null hypothesis. The coin is fair.\")\n"
   ]
  },
  {
   "attachments": {},
   "cell_type": "markdown",
   "metadata": {},
   "source": [
    "9. **A study was conducted to determine if there is an association between smoking status (smoker or non-smoker) and lung cancer diagnosis (yes or no). The results are shown in the contingency table below. Conduct a chi-square test for independence to determine if there is a significant association between smoking status and lung cancer diagnosis.** \n",
    "\n",
    "| |Lung Cancer: Yes|Lung Cancer: No|\n",
    "|--|--|--|\n",
    "|Smoker|60|140|\n",
    "|Non-smoker|30|170|\n",
    "\n",
    "**Use a significance level of 0.05.**"
   ]
  },
  {
   "attachments": {},
   "cell_type": "markdown",
   "metadata": {},
   "source": [
    "The null hypothesis for a chi-square test for independence is that there is no association between the two variables of interest.<br>\n",
    "Formally, the null and alternative hypotheses can be stated as:\n",
    "\n",
    "$H_0$: Smoking status and lung cancer diagnosis are independent.<br>\n",
    "$H_a$: Smoking status and lung cancer diagnosis are not independent.\n",
    "\n",
    "we first need to determine the expected frequencies for each cell assuming the null hypothesis of independence is true.\n",
    "\n",
    "Following the table (Observed Frequency), we get:\n",
    "| |Lung Cancer : Yes|Lung Cancer : No|Row Total|\n",
    "|--|--|--|--|\n",
    "|Smoker|60|140|200|\n",
    "|Non-smoker|30|170|200|\n",
    "|Column Total|90|310|400 (Grand Total)|\n",
    "\n",
    "The expected frequency for each cell is calculated by the formula:\n",
    "\n",
    "$ \\text{Expected Frequency} = \\frac{\\text{Row Total} \\text{ x } \\text{Column Total}}{\\text{Grand Total}}$\n",
    "\n",
    "$E_{ij} = \\frac{n(\\sum_{i} R_i)(\\sum_{j} C_j)}{\\sum_{i}\\sum_{j}O_{ij}}$\n",
    "\n",
    "The expected frequencies for each cell are:\n",
    "\n",
    "| |Lung Cancer: Yes|Lung Cancer: No|\n",
    "|--|--|--|\n",
    "|Smoker|45|155|\n",
    "|Non-smoker|45|155|\n",
    "\n",
    "We can now calculate the chi-square statistic using the formula:\n",
    "\n",
    "$\\text{chi-square}(\\chi^2) = \\sum \\frac{(\\text{Observed Frequency} - \\text{Expected Frequency})^2}{\\text{Expected Frequency}}$\n",
    "\n",
    "$\\chi^2 = \\sum \\frac{(O_{ij} - E_{ij})^2}{E_{ij}}$\n",
    "\n",
    "The degrees of freedom for this test are (number of rows - 1) x (number of columns - 1), which in this case is $(2-1) \\cdot (2-1) = 1$.\n",
    "\n",
    "Using a significance level of 0.05 and the chi-square distribution table with 1 degree of freedom, we find the critical value to be 3.84.\n",
    "\n",
    "The observed chi-square value for this contingency table is:\n",
    "\n",
    "$\\chi^2 = \\frac{(60-45)^2}{45} + \\frac{(140-155)^2}{155} + \\frac{(30-45)^2}{45} + \\frac{(170-155)^2}{155} = 6.65$\n",
    "\n",
    "Since 6.65 > 3.84, we reject the null hypothesis of independence and conclude that there is a significant association between smoking status and lung cancer diagnosis at the 0.05 significance level.\n"
   ]
  },
  {
   "attachments": {},
   "cell_type": "markdown",
   "metadata": {},
   "source": [
    "10. **A study was conducted to determine if the proportion of people who prefer milk chocolate, dark chocolate, or white chocolate is different in the U.S. versus the U.K. A random sample of 500 people from the U.S. and a random sample of 500 people from the U.K. were surveyed. The results are shown in the contingency table below. Conduct a chi-square test for independence to determine if there is a significant association between chocolate preference and country of origin.**\n",
    "\n",
    "| |Milk Chocolate|Dark Chocolate|White Chocolate|\n",
    "|--|--|--|--|\n",
    "|U.S. (n=500)|200|150|150|\n",
    "|U.K. (n=500)|225|175|100|\n",
    "\n",
    "**Use a significance level of 0.01.**"
   ]
  },
  {
   "attachments": {},
   "cell_type": "markdown",
   "metadata": {},
   "source": [
    "**Step 1 :** State the null and alternative hypotheses. <br>\n",
    "- **Null hypothesis:** The proportion of people who prefer milk chocolate, dark chocolate, and white chocolate is the same in the U.S. and the U.K. <br>\n",
    "- **Alternative hypothesis:** The proportion of people who prefer milk chocolate, dark chocolate, and white chocolate is different in the U.S. and the U.K.\n",
    "\n",
    "**Step 2 :**\n",
    "Set the significance level. In this case, the significance level is 0.01.\n",
    "\n",
    "**Step 3 :**\n",
    "Calculate the expected frequency for each cell using the formula:\n",
    "\n",
    "$E_{ij} = \\frac{n(\\sum_{i} R_i)(\\sum_{j} C_j)}{\\sum_{i}\\sum_{j}O_{ij}}$\n",
    "\n",
    "where $E_{ij}$ is the expected frequency for cell $(i,j)$, $n$ is the total sample size, $\\sum_{i}R_i$ is the sum of the row totals, $\\sum_{j}C_j$ is the sum of the column totals, and $\\sum_{i}\\sum_{j}O_{ij}$ is the total number of observations.\n",
    "\n",
    "Using this formula, we get the following expected frequencies:\n",
    "\n",
    "| |Milk Chocolate|Dark Chocolate|White Chocolate|\n",
    "|--|--|--|--|\n",
    "|U.S.|190|158|152|\n",
    "|U.K.|235|196|69|\n",
    "\n",
    "**Step 4 :** Calculate the chi-square test statistic using the formula:\n",
    "\n",
    "$E_{ij} = \\frac{n(\\sum_{i} R_i)(\\sum_{j} C_j)}{\\sum_{i}\\sum_{j}O_{ij}}$\n",
    "\n",
    "where $O_{ij}$ is the observed frequency for cell $(i,j)$, $E_{ij}$ is the expected frequency for cell $(i,j)$, $r$ is the number of rows, and $c$ is the number of columns.\n",
    "\n",
    "Using this formula, we get:\n",
    "\n",
    "$\\chi^2 = \\frac{(200-190)^2}{190} + \\frac{(150-158)^2}{158} + \\frac{(150-152)^2}{152} + \\frac{(225-235)^2}{235} + \\frac{(175-196)^2}{196} + \\frac{(100-69)^2}{69} = 22.62$\n",
    "\n",
    "**Step 5 :** Determine the degrees of freedom, which is calculated as: $(r−1)(c−1)$\n",
    "\n",
    "where $r$ is the number of rows and $c$ is the number of columns. In this case, $r=2$ and $c=3$, so the degrees of freedom is $(2-1)(3-1)=2$.\n",
    "\n",
    "**Step 6:** Determine the critical value from the chi-square distribution table at the given significance level and degrees of freedom. At a significance level of 0.01 and 2 degrees of freedom, the critical value is 9.21.\n",
    "\n",
    "**Step 7:** Compare the calculated chi-square test statistic to the critical value. If the calculated chi-square test statistic is greater than the critical value, reject the null hypothesis; otherwise, fail to reject the null hypothesis.\n",
    "\n",
    "In this case, the calculated chi-square test statistic is 22.62, which is greater than the critical value of 9.21. Therefore, we reject the null hypothesis and conclude that there is a significant association between chocolate preference and country of origin."
   ]
  },
  {
   "attachments": {},
   "cell_type": "markdown",
   "metadata": {},
   "source": [
    "11. **A random sample of 30 people was selected from a population with an unknown mean and standard deviation. The sample mean was found to be 72 and the sample standard deviation was found to be 10. Conduct a hypothesis test to determine if the population mean is significantly different from 70. Use a significance level of 0.05.**"
   ]
  },
  {
   "attachments": {},
   "cell_type": "markdown",
   "metadata": {},
   "source": [
    "**Assume :** <br>\n",
    "**Null hypothesis :** The population mean is equal to 70. <br>\n",
    "**Alternative hypothesis :** The population mean is not equal to 70.\n",
    "\n",
    "We will use a two-tailed t-test because the sample size is less than 30, and the population standard deviation is unknown. We can calculate the t-statistic using the formula:\n",
    "\n",
    "$t = \\frac{\\bar{x} - \\mu_0}{\\frac{s}{\\sqrt{n}}}$\n",
    "\n",
    "*where :* <br>\n",
    "$t$ : is the t-statistic <br>\n",
    "$\\bar{x}$ : is the sample mean <br>\n",
    "$\\mu_0$ : is the hypothesized population mean <br>\n",
    "$s$ : is the sample standard deviation <br>\n",
    "$n$ : is the sample size.\n",
    "\n",
    "Substituting the given values, we get:\n",
    "\n",
    "$t = \\frac{72 - 70}{\\frac{10}{\\sqrt{30}}} = 1.3856$\n",
    "\n",
    "Using a t-distribution table with 29 degrees of freedom and a significance level of 0.05 (two-tailed test), the critical values are ±2.0452.\n",
    "\n",
    "Since our calculated t-value (1.3856) is within the acceptance region, we fail to reject the null hypothesis. Therefore, we can conclude that there is not enough evidence to suggest that the population mean is significantly different from 70 at a 0.05 significance level."
   ]
  }
 ],
 "metadata": {
  "kernelspec": {
   "display_name": "nav",
   "language": "python",
   "name": "python3"
  },
  "language_info": {
   "codemirror_mode": {
    "name": "ipython",
    "version": 3
   },
   "file_extension": ".py",
   "mimetype": "text/x-python",
   "name": "python",
   "nbconvert_exporter": "python",
   "pygments_lexer": "ipython3",
   "version": "3.8.0"
  },
  "orig_nbformat": 4
 },
 "nbformat": 4,
 "nbformat_minor": 2
}
