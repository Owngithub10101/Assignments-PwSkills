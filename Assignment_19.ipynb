{
  "cells": [
    {
      "cell_type": "markdown",
      "metadata": {
        "id": "09Z9sCBGo0Be"
      },
      "source": [
        "# Assignment : 19(20th Feb'2023)"
      ]
    },
    {
      "attachments": {},
      "cell_type": "markdown",
      "metadata": {
        "id": "e-EJsqQroy2z"
      },
      "source": [
        "1. * **HTTP GET:** The Hypertext Transfer Protocol(**HTTP**) Get method is mainly used at the client (Browser) side to send a request to a specified server to get certain data or resources. Using this method the server should only let us receive the data and not change its state. Hence it is only used to view something and not to change it. Get method is one of the most used HTTP method. The request parameter of the get method is appended to the URL. Get request is better for the data which does not need to be secure (It means the data which does not contain images or word documents).\n",
        "\n",
        "    * **HTTP POST:** The Hypertext Transfer Protocol(**HTTP**) Post method is mainly used at the client (Browser) side to send data to a Specified server in order to create or rewrite a particular resource/data. This data sent to the server is stored in the request body of the HTTP request. Post method eventually leads to the creation of a new resource or updating an existing one. Due to this dynamic use, it is one of the most used HTTP methods. It is not one of the most secure methods because the data that is been sent is included in the body of the request and not in the URL. Post request is better for the data which needs to be secure (It means the data which contains images or word documents)."
      ]
    },
    {
      "cell_type": "markdown",
      "metadata": {
        "id": "91vy8_yeoy22"
      },
      "source": [
        "2. In the `client-server architecture`, the request object contains all the data that is sent from the client to the server. As we have already discussed in the tutorial, we can retrieve the data at the server side using the **HTTP** methods.\n",
        "\n",
        "* Attributes can be :\n",
        "  * Form\n",
        "  * args\n",
        "  * Cookies\n",
        "  * files\n",
        "  * method"
      ]
    },
    {
      "attachments": {},
      "cell_type": "markdown",
      "metadata": {
        "id": "vDYlrghSoy23"
      },
      "source": [
        "3. * A redirect is used in the `Flask` class to send the user to a particular URL with the status code. conversely, this status code additionally identifies the issue. When we access a website, our browser sends a request to the server, and the server replies with what is known as the `HTTP` status code, which is a three-digit number, "
      ]
    },
    {
      "attachments": {},
      "cell_type": "markdown",
      "metadata": {
        "id": "P8pTBcKwoy24"
      },
      "source": [
        "4. * Templates are files that contain static data as well as placeholders for dynamic data. A template is rendered with specific data to produce a final document. Flask uses the Jinja template library to render templates. In your application, you will use templates to render HTML which will display in the user's browser.\n",
        "\n",
        "    * Flask provides us the **`render_template()`** function which can be used to render the external HTML file to be returned as the response from the view function.\n"
      ]
    },
    {
      "attachments": {},
      "cell_type": "markdown",
      "metadata": {
        "id": "FywVOkRkoy25"
      },
      "source": [
        "5. For this example, we'll create an API that takes in a name as input and returns a personalized greeting. We'll use the Flask framework to create the API.\n",
        "\n",
        "    First, make sure Flask is installed in your Python environment. You can install it using the following command in your terminal or command prompt:\n",
        "\n",
        "    ```\n",
        "    pip install flask\n",
        "    ```\n",
        "\n",
        "    Next, create a Python file called app.py with the following code:\n",
        "\n",
        "    ```\n",
        "    from flask import Flask, request, jsonify\n",
        "\n",
        "    app = Flask(__name__)\n",
        "\n",
        "    @app.route('/greeting', methods=['POST'])\n",
        "    def greeting():\n",
        "        name = request.json['name']\n",
        "        return jsonify({'message': f'Hello, {name}!'})\n",
        "\n",
        "    if __name__ == '__main__':\n",
        "        app.run(debug=True)\n",
        "    ```\n",
        "\n",
        "    To test this API using Postman, follow these steps :\n",
        "    * Open Postman and create a new request by clicking the \"New\" button in the upper left corner.\n",
        "\n",
        "    * In the \"Request\" tab, set the HTTP method to \"POST\" and enter the URL http://localhost:5000/greeting.\n",
        "\n",
        "    * In the \"Body\" tab, select the \"raw\" option and set the data format to \"JSON\". Enter the following JSON data:\n",
        "\n",
        "      ```\n",
        "      {\n",
        "          \"name\": \"sudh\"\n",
        "      }\n",
        "\n",
        "        ```\n",
        "\n",
        "    * Click the \"**Send**\" button to send the request. The response from the API should appear in the \"**Response**\" tab. You should see a JSON object with the message \"`Hello, sudh!`\"."
      ]
    },
    {
      "attachments": {},
      "cell_type": "markdown",
      "metadata": {},
      "source": [
        "![VsCode-Editor-Preview](asgn-app_editor.png)"
      ]
    },
    {
      "attachments": {},
      "cell_type": "markdown",
      "metadata": {},
      "source": [
        "![Postman-Api-Preview](asgn-post_man.png)"
      ]
    }
  ],
  "metadata": {
    "colab": {
      "provenance": []
    },
    "kernelspec": {
      "display_name": "Python 3",
      "language": "python",
      "name": "python3"
    },
    "language_info": {
      "name": "python",
      "version": "3.10.9"
    },
    "orig_nbformat": 4,
    "vscode": {
      "interpreter": {
        "hash": "2a8dfe095fce2b5e88c64a2c3ee084c8e0e0d70b23e7b95b1cfb538be294c5c8"
      }
    }
  },
  "nbformat": 4,
  "nbformat_minor": 0
}
